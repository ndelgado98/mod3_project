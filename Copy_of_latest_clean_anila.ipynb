{
  "nbformat": 4,
  "nbformat_minor": 0,
  "metadata": {
    "kernelspec": {
      "display_name": "Python 3",
      "language": "python",
      "name": "python3"
    },
    "language_info": {
      "codemirror_mode": {
        "name": "ipython",
        "version": 3
      },
      "file_extension": ".py",
      "mimetype": "text/x-python",
      "name": "python",
      "nbconvert_exporter": "python",
      "pygments_lexer": "ipython3",
      "version": "3.7.4"
    },
    "colab": {
      "name": "Copy of latest_clean_anila.ipynb",
      "provenance": []
    }
  },
  "cells": [
    {
      "cell_type": "markdown",
      "metadata": {
        "id": "t-vIxSQzaDoa",
        "colab_type": "text"
      },
      "source": [
        "# Data Cleaning"
      ]
    },
    {
      "cell_type": "markdown",
      "metadata": {
        "id": "ju1tz7NpaDot",
        "colab_type": "text"
      },
      "source": [
        "This notebook contains the data cleaning phase of the project. The raw datasets have been downloaded from the Driven Data website. The datasets are as follows:\n",
        "\n",
        "\"test_set_values.csv\": the competition testing set, containing only the id and the target variable (\"status_group\")\n",
        "\n",
        "\"training_set_labels.csv\": the competition training set, containing the target variable\n",
        "\n",
        "\"training_set_values.csv\": the competition training set, containing all the features"
      ]
    },
    {
      "cell_type": "markdown",
      "metadata": {
        "id": "76eg9T7UaDo0",
        "colab_type": "text"
      },
      "source": [
        "## Step 1\n",
        "### Initial Setup"
      ]
    },
    {
      "cell_type": "code",
      "metadata": {
        "id": "NkWytCxcaDo1",
        "colab_type": "code",
        "colab": {}
      },
      "source": [
        "# importing relevant libraries\n",
        "import pandas as pd\n",
        "import numpy as np\n",
        "pd.set_option('display.max_columns', None)"
      ],
      "execution_count": 0,
      "outputs": []
    },
    {
      "cell_type": "code",
      "metadata": {
        "id": "qs7syQiRaDpK",
        "colab_type": "code",
        "outputId": "dd5a5d6a-4d09-4e1e-822c-37e57214abb1",
        "colab": {
          "base_uri": "https://localhost:8080/",
          "height": 393
        }
      },
      "source": [
        "# loading datasets into DataFrames\n",
        "df_inspect = pd.read_csv('test_set_values.csv')\n",
        "df2_inspect = pd.read_csv('training_set_labels.csv')\n",
        "df3_inspect = pd.read_csv('training_set_values.csv')"
      ],
      "execution_count": 0,
      "outputs": [
        {
          "output_type": "error",
          "ename": "FileNotFoundError",
          "evalue": "ignored",
          "traceback": [
            "\u001b[0;31m---------------------------------------------------------------------------\u001b[0m",
            "\u001b[0;31mFileNotFoundError\u001b[0m                         Traceback (most recent call last)",
            "\u001b[0;32m<ipython-input-2-d74887702a4c>\u001b[0m in \u001b[0;36m<module>\u001b[0;34m()\u001b[0m\n\u001b[0;32m----> 1\u001b[0;31m \u001b[0mdf_inspect\u001b[0m \u001b[0;34m=\u001b[0m \u001b[0mpd\u001b[0m\u001b[0;34m.\u001b[0m\u001b[0mread_csv\u001b[0m\u001b[0;34m(\u001b[0m\u001b[0;34m'test_set_values.csv'\u001b[0m\u001b[0;34m)\u001b[0m\u001b[0;34m\u001b[0m\u001b[0;34m\u001b[0m\u001b[0m\n\u001b[0m\u001b[1;32m      2\u001b[0m \u001b[0mdf2_inspect\u001b[0m \u001b[0;34m=\u001b[0m \u001b[0mpd\u001b[0m\u001b[0;34m.\u001b[0m\u001b[0mread_csv\u001b[0m\u001b[0;34m(\u001b[0m\u001b[0;34m'training_set_labels.csv'\u001b[0m\u001b[0;34m)\u001b[0m\u001b[0;34m\u001b[0m\u001b[0;34m\u001b[0m\u001b[0m\n\u001b[1;32m      3\u001b[0m \u001b[0mdf3_inspect\u001b[0m \u001b[0;34m=\u001b[0m \u001b[0mpd\u001b[0m\u001b[0;34m.\u001b[0m\u001b[0mread_csv\u001b[0m\u001b[0;34m(\u001b[0m\u001b[0;34m'training_set_values.csv'\u001b[0m\u001b[0;34m)\u001b[0m\u001b[0;34m\u001b[0m\u001b[0;34m\u001b[0m\u001b[0m\n",
            "\u001b[0;32m/usr/local/lib/python3.6/dist-packages/pandas/io/parsers.py\u001b[0m in \u001b[0;36mparser_f\u001b[0;34m(filepath_or_buffer, sep, delimiter, header, names, index_col, usecols, squeeze, prefix, mangle_dupe_cols, dtype, engine, converters, true_values, false_values, skipinitialspace, skiprows, skipfooter, nrows, na_values, keep_default_na, na_filter, verbose, skip_blank_lines, parse_dates, infer_datetime_format, keep_date_col, date_parser, dayfirst, cache_dates, iterator, chunksize, compression, thousands, decimal, lineterminator, quotechar, quoting, doublequote, escapechar, comment, encoding, dialect, error_bad_lines, warn_bad_lines, delim_whitespace, low_memory, memory_map, float_precision)\u001b[0m\n\u001b[1;32m    674\u001b[0m         )\n\u001b[1;32m    675\u001b[0m \u001b[0;34m\u001b[0m\u001b[0m\n\u001b[0;32m--> 676\u001b[0;31m         \u001b[0;32mreturn\u001b[0m \u001b[0m_read\u001b[0m\u001b[0;34m(\u001b[0m\u001b[0mfilepath_or_buffer\u001b[0m\u001b[0;34m,\u001b[0m \u001b[0mkwds\u001b[0m\u001b[0;34m)\u001b[0m\u001b[0;34m\u001b[0m\u001b[0;34m\u001b[0m\u001b[0m\n\u001b[0m\u001b[1;32m    677\u001b[0m \u001b[0;34m\u001b[0m\u001b[0m\n\u001b[1;32m    678\u001b[0m     \u001b[0mparser_f\u001b[0m\u001b[0;34m.\u001b[0m\u001b[0m__name__\u001b[0m \u001b[0;34m=\u001b[0m \u001b[0mname\u001b[0m\u001b[0;34m\u001b[0m\u001b[0;34m\u001b[0m\u001b[0m\n",
            "\u001b[0;32m/usr/local/lib/python3.6/dist-packages/pandas/io/parsers.py\u001b[0m in \u001b[0;36m_read\u001b[0;34m(filepath_or_buffer, kwds)\u001b[0m\n\u001b[1;32m    446\u001b[0m \u001b[0;34m\u001b[0m\u001b[0m\n\u001b[1;32m    447\u001b[0m     \u001b[0;31m# Create the parser.\u001b[0m\u001b[0;34m\u001b[0m\u001b[0;34m\u001b[0m\u001b[0;34m\u001b[0m\u001b[0m\n\u001b[0;32m--> 448\u001b[0;31m     \u001b[0mparser\u001b[0m \u001b[0;34m=\u001b[0m \u001b[0mTextFileReader\u001b[0m\u001b[0;34m(\u001b[0m\u001b[0mfp_or_buf\u001b[0m\u001b[0;34m,\u001b[0m \u001b[0;34m**\u001b[0m\u001b[0mkwds\u001b[0m\u001b[0;34m)\u001b[0m\u001b[0;34m\u001b[0m\u001b[0;34m\u001b[0m\u001b[0m\n\u001b[0m\u001b[1;32m    449\u001b[0m \u001b[0;34m\u001b[0m\u001b[0m\n\u001b[1;32m    450\u001b[0m     \u001b[0;32mif\u001b[0m \u001b[0mchunksize\u001b[0m \u001b[0;32mor\u001b[0m \u001b[0miterator\u001b[0m\u001b[0;34m:\u001b[0m\u001b[0;34m\u001b[0m\u001b[0;34m\u001b[0m\u001b[0m\n",
            "\u001b[0;32m/usr/local/lib/python3.6/dist-packages/pandas/io/parsers.py\u001b[0m in \u001b[0;36m__init__\u001b[0;34m(self, f, engine, **kwds)\u001b[0m\n\u001b[1;32m    878\u001b[0m             \u001b[0mself\u001b[0m\u001b[0;34m.\u001b[0m\u001b[0moptions\u001b[0m\u001b[0;34m[\u001b[0m\u001b[0;34m\"has_index_names\"\u001b[0m\u001b[0;34m]\u001b[0m \u001b[0;34m=\u001b[0m \u001b[0mkwds\u001b[0m\u001b[0;34m[\u001b[0m\u001b[0;34m\"has_index_names\"\u001b[0m\u001b[0;34m]\u001b[0m\u001b[0;34m\u001b[0m\u001b[0;34m\u001b[0m\u001b[0m\n\u001b[1;32m    879\u001b[0m \u001b[0;34m\u001b[0m\u001b[0m\n\u001b[0;32m--> 880\u001b[0;31m         \u001b[0mself\u001b[0m\u001b[0;34m.\u001b[0m\u001b[0m_make_engine\u001b[0m\u001b[0;34m(\u001b[0m\u001b[0mself\u001b[0m\u001b[0;34m.\u001b[0m\u001b[0mengine\u001b[0m\u001b[0;34m)\u001b[0m\u001b[0;34m\u001b[0m\u001b[0;34m\u001b[0m\u001b[0m\n\u001b[0m\u001b[1;32m    881\u001b[0m \u001b[0;34m\u001b[0m\u001b[0m\n\u001b[1;32m    882\u001b[0m     \u001b[0;32mdef\u001b[0m \u001b[0mclose\u001b[0m\u001b[0;34m(\u001b[0m\u001b[0mself\u001b[0m\u001b[0;34m)\u001b[0m\u001b[0;34m:\u001b[0m\u001b[0;34m\u001b[0m\u001b[0;34m\u001b[0m\u001b[0m\n",
            "\u001b[0;32m/usr/local/lib/python3.6/dist-packages/pandas/io/parsers.py\u001b[0m in \u001b[0;36m_make_engine\u001b[0;34m(self, engine)\u001b[0m\n\u001b[1;32m   1112\u001b[0m     \u001b[0;32mdef\u001b[0m \u001b[0m_make_engine\u001b[0m\u001b[0;34m(\u001b[0m\u001b[0mself\u001b[0m\u001b[0;34m,\u001b[0m \u001b[0mengine\u001b[0m\u001b[0;34m=\u001b[0m\u001b[0;34m\"c\"\u001b[0m\u001b[0;34m)\u001b[0m\u001b[0;34m:\u001b[0m\u001b[0;34m\u001b[0m\u001b[0;34m\u001b[0m\u001b[0m\n\u001b[1;32m   1113\u001b[0m         \u001b[0;32mif\u001b[0m \u001b[0mengine\u001b[0m \u001b[0;34m==\u001b[0m \u001b[0;34m\"c\"\u001b[0m\u001b[0;34m:\u001b[0m\u001b[0;34m\u001b[0m\u001b[0;34m\u001b[0m\u001b[0m\n\u001b[0;32m-> 1114\u001b[0;31m             \u001b[0mself\u001b[0m\u001b[0;34m.\u001b[0m\u001b[0m_engine\u001b[0m \u001b[0;34m=\u001b[0m \u001b[0mCParserWrapper\u001b[0m\u001b[0;34m(\u001b[0m\u001b[0mself\u001b[0m\u001b[0;34m.\u001b[0m\u001b[0mf\u001b[0m\u001b[0;34m,\u001b[0m \u001b[0;34m**\u001b[0m\u001b[0mself\u001b[0m\u001b[0;34m.\u001b[0m\u001b[0moptions\u001b[0m\u001b[0;34m)\u001b[0m\u001b[0;34m\u001b[0m\u001b[0;34m\u001b[0m\u001b[0m\n\u001b[0m\u001b[1;32m   1115\u001b[0m         \u001b[0;32melse\u001b[0m\u001b[0;34m:\u001b[0m\u001b[0;34m\u001b[0m\u001b[0;34m\u001b[0m\u001b[0m\n\u001b[1;32m   1116\u001b[0m             \u001b[0;32mif\u001b[0m \u001b[0mengine\u001b[0m \u001b[0;34m==\u001b[0m \u001b[0;34m\"python\"\u001b[0m\u001b[0;34m:\u001b[0m\u001b[0;34m\u001b[0m\u001b[0;34m\u001b[0m\u001b[0m\n",
            "\u001b[0;32m/usr/local/lib/python3.6/dist-packages/pandas/io/parsers.py\u001b[0m in \u001b[0;36m__init__\u001b[0;34m(self, src, **kwds)\u001b[0m\n\u001b[1;32m   1889\u001b[0m         \u001b[0mkwds\u001b[0m\u001b[0;34m[\u001b[0m\u001b[0;34m\"usecols\"\u001b[0m\u001b[0;34m]\u001b[0m \u001b[0;34m=\u001b[0m \u001b[0mself\u001b[0m\u001b[0;34m.\u001b[0m\u001b[0musecols\u001b[0m\u001b[0;34m\u001b[0m\u001b[0;34m\u001b[0m\u001b[0m\n\u001b[1;32m   1890\u001b[0m \u001b[0;34m\u001b[0m\u001b[0m\n\u001b[0;32m-> 1891\u001b[0;31m         \u001b[0mself\u001b[0m\u001b[0;34m.\u001b[0m\u001b[0m_reader\u001b[0m \u001b[0;34m=\u001b[0m \u001b[0mparsers\u001b[0m\u001b[0;34m.\u001b[0m\u001b[0mTextReader\u001b[0m\u001b[0;34m(\u001b[0m\u001b[0msrc\u001b[0m\u001b[0;34m,\u001b[0m \u001b[0;34m**\u001b[0m\u001b[0mkwds\u001b[0m\u001b[0;34m)\u001b[0m\u001b[0;34m\u001b[0m\u001b[0;34m\u001b[0m\u001b[0m\n\u001b[0m\u001b[1;32m   1892\u001b[0m         \u001b[0mself\u001b[0m\u001b[0;34m.\u001b[0m\u001b[0munnamed_cols\u001b[0m \u001b[0;34m=\u001b[0m \u001b[0mself\u001b[0m\u001b[0;34m.\u001b[0m\u001b[0m_reader\u001b[0m\u001b[0;34m.\u001b[0m\u001b[0munnamed_cols\u001b[0m\u001b[0;34m\u001b[0m\u001b[0;34m\u001b[0m\u001b[0m\n\u001b[1;32m   1893\u001b[0m \u001b[0;34m\u001b[0m\u001b[0m\n",
            "\u001b[0;32mpandas/_libs/parsers.pyx\u001b[0m in \u001b[0;36mpandas._libs.parsers.TextReader.__cinit__\u001b[0;34m()\u001b[0m\n",
            "\u001b[0;32mpandas/_libs/parsers.pyx\u001b[0m in \u001b[0;36mpandas._libs.parsers.TextReader._setup_parser_source\u001b[0;34m()\u001b[0m\n",
            "\u001b[0;31mFileNotFoundError\u001b[0m: [Errno 2] File test_set_values.csv does not exist: 'test_set_values.csv'"
          ]
        }
      ]
    },
    {
      "cell_type": "markdown",
      "metadata": {
        "id": "B1DR2quoaDpQ",
        "colab_type": "text"
      },
      "source": [
        "The testing data set will be ignored for now, as it relates to the competition. The competition training data will be combined into a single DF for cleaning purposes, and will itself be split into testing/training/validation sets further down the line."
      ]
    },
    {
      "cell_type": "code",
      "metadata": {
        "id": "kULL_a1eaDpQ",
        "colab_type": "code",
        "colab": {}
      },
      "source": [
        "# Combining competition training sets\n",
        "df4_combo = df3_inspect.join(df2_inspect, rsuffix='_r')\n",
        "df5_combo = df4_combo.drop(['id_r'], axis=1)"
      ],
      "execution_count": 0,
      "outputs": []
    },
    {
      "cell_type": "markdown",
      "metadata": {
        "id": "HDP9YoGBaDpY",
        "colab_type": "text"
      },
      "source": [
        "## Step 2\n",
        "### Data Exploration"
      ]
    },
    {
      "cell_type": "markdown",
      "metadata": {
        "id": "aQytX6xDaDpb",
        "colab_type": "text"
      },
      "source": [
        "The features included in the dataset are described as follows (as per the Driven Date website):"
      ]
    },
    {
      "cell_type": "markdown",
      "metadata": {
        "id": "eq7L77sZaDpd",
        "colab_type": "text"
      },
      "source": [
        "- **amount_tsh** - Total static head (amount water available to waterpoint)\n",
        "- **date_recorded** - The date the row was entered\n",
        "- **funder** - Who funded the well\n",
        "- **gps_height** - Altitude of the well\n",
        "- **installer** - Organization that installed the well\n",
        "- **longitude** - GPS coordinate\n",
        "- **latitude** - GPS coordinate\n",
        "- **wpt_name** - Name of the waterpoint if there is one\n",
        "- **num_private** -\n",
        "- **basin** - Geographic water basin\n",
        "- **subvillage** - Geographic location\n",
        "- **region** - Geographic location\n",
        "- **region_code** - Geographic location (coded)\n",
        "- **district_code** - Geographic location (coded)\n",
        "- **lga** - Geographic location\n",
        "- **ward** - Geographic location\n",
        "- **population** - Population around the well\n",
        "- **public_meeting** - True/False\n",
        "- **recorded_by** - Group entering this row of data\n",
        "- **scheme_management** - Who operates the waterpoint\n",
        "- **scheme_name** - Who operates the waterpoint\n",
        "- **permit** - If the waterpoint is permitted\n",
        "- **construction_year** - Year the waterpoint was constructed\n",
        "- **extraction_type** - The kind of extraction the waterpoint uses\n",
        "- **extraction_type_group** - The kind of extraction the waterpoint uses\n",
        "- **extraction_type_class** - The kind of extraction the waterpoint uses\n",
        "- **management** - How the waterpoint is managed\n",
        "- **management_group** - How the waterpoint is managed\n",
        "- **payment** - What the water costs\n",
        "- **payment_type** - What the water costs\n",
        "- **water_quality** - The quality of the water\n",
        "- **quality_group** - The quality of the water\n",
        "- **quantity** - The quantity of water\n",
        "- **quantity_group** - The quantity of water\n",
        "- **source** - The source of the water\n",
        "- **source_type** - The source of the water\n",
        "- **source_class** - The source of the water\n",
        "- **waterpoint_type** - The kind of waterpoint\n",
        "- **waterpoint_type_group** - The kind of waterpoint"
      ]
    },
    {
      "cell_type": "markdown",
      "metadata": {
        "id": "y5qOetp9aDpf",
        "colab_type": "text"
      },
      "source": [
        "The features were inspected one by one to determine if any need to be edited or removed. Below are the features for which an issue has been identified:\n",
        "\n",
        "- **date_recorded**: deemed irrelevant for analysis - *to remove*\n",
        "- **funder**: missing values, and too many single instances - *to fill and to cut down*\n",
        "- **installer**: missing values, and too many single instances - *to fill and to cut down*\n",
        "- **wpt_name**: deemed irrelevant for analysis - *to remove*\n",
        "- **num_private**: empty feature - *to remove*\n",
        "- **subvillage**: deemed irrelevant for analysis - *to remove*\n",
        "- **region**: deemed irrelevant for analysis - *to remove*\n",
        "- **region_code**: deemed irrelevant for analysis - *to remove*\n",
        "- **district_code**: deemed irrelevant for analysis - *to remove*\n",
        "- **lga**: deemed irrelevant for analysis - *to remove*\n",
        "- **ward**: deemed irrelevant for analysis - *to remove*\n",
        "- **public_meeting**: deemed irrelevant for analysis - *to remove*\n",
        "- **recorded_by**: all values are the same, none missing - *to remove*\n",
        "- **scheme_management**: missing values, duplicate of 'management' - *to remove*\n",
        "- **scheme_name**: missing values, deemed irrelevant for analysis - *to remove*\n",
        "- **permit**: missing values - *to fill*\n",
        "- **construction_year**: mostly zero; not useful for analyis - *to convert to age in months and fill missing with median*\n",
        "- **extraction_type_group** - subsumed by 'extraction_type' - *to remove*\n",
        "- **extraction_type_class** - subsumed by 'extraction_type' - *to remove*\n",
        "- **payment_type**: duplicate of 'payment' - *to remove*\n",
        "- **water_quality**: subsumed by 'quality_group' - *to remove*\n",
        "- **quantity_group**: duplicate of 'quantity' - *to remove*\n",
        "- **source_type**: subsumed by 'source' - *to remove*\n",
        "- **source_class**: subsumed by 'source' - *to remove*\n",
        "- **waterpoint_type_group**: subsumed by 'waterpoint_type' - *to remove*"
      ]
    },
    {
      "cell_type": "markdown",
      "metadata": {
        "id": "O1BVl9lCaDpf",
        "colab_type": "text"
      },
      "source": [
        "A specific point to mention is that the 'funder' and 'installer' variables have many singular instances, ie there are many organisations that have funded/installed a single well. This means that there is no useful insight to be gained from these features as they are, since a testing data point will probably not fit into any existing category here. To solve this, these two features will be limited to the top 6 installers and funders, and all remaining values will be grouped into a single value named 'small_org'."
      ]
    },
    {
      "cell_type": "markdown",
      "metadata": {
        "id": "if2OycZ6aDpg",
        "colab_type": "text"
      },
      "source": [
        "## Step 3\n",
        "### Processing"
      ]
    },
    {
      "cell_type": "markdown",
      "metadata": {
        "id": "1cYBNZ7kaDpg",
        "colab_type": "text"
      },
      "source": [
        "A function is created in order to clean the entire dataset. The function is documented below, and can also be used to clean the competition test set, if required."
      ]
    },
    {
      "cell_type": "code",
      "metadata": {
        "id": "G7WnRCSoaDph",
        "colab_type": "code",
        "colab": {}
      },
      "source": [
        "# creating function to clean and rearrange dataframe\n",
        "\n",
        "def preprocess_clean(dataframe, cols_to_drop, cols_to_fill, col_order, target_name):\n",
        "    \n",
        "    \"\"\"Function to clean and rearrange dataframe for use in the model.\n",
        "    \n",
        "    The function will take the dataframe as an argument and perform the following operations:\n",
        "    - Fill 'construction year' nil values with median non-zero value\n",
        "    - Convert 'construction year' to age in years\n",
        "    - Remove the rows identified as irrelevant\n",
        "    - Fill categorical variable NAs with 'unknown'\n",
        "    - Limit funders and installers to top five, with remaining values grouped into single value\n",
        "    - Rearranges column order for readibility\n",
        "    \n",
        "    Args:\n",
        "        'dataframe': the dataframe to clean\n",
        "        'cols_to_drop': list of columns to drop from the dataframe\n",
        "        'cols_to_fill': list of categorical columns to fill\n",
        "        'col_order': list of columns in the desired order for the output\n",
        "        'target_name': name (as string) of target variable\n",
        "    \n",
        "    Returns:\n",
        "        A cleaned dataframe with the desired columns in the order specified\n",
        "    \"\"\"\n",
        "    \n",
        "    # creating copy of dataframe\n",
        "    df = dataframe.copy()\n",
        "    \n",
        "    # converting 'construction_year' to age in years and filling zeros with median\n",
        "    if 'construction_year' in df.columns:\n",
        "        df.replace(0, np.nan, inplace=True)\n",
        "        median_x = df['construction_year'].median(skipna=True)\n",
        "        df['construction_year'].fillna(median_x, inplace=True)\n",
        "        df['age_years'] = round(2019 - df['construction_year'],0)\n",
        "\n",
        "    else:\n",
        "        pass\n",
        "\n",
        "    # dropping columns identified above as irrelvant\n",
        "    df2 = df.drop(cols_to_drop, axis=1)\n",
        "    \n",
        "    # filling missing values with 'unknown' categorical\n",
        "    df2[cols_to_fill] = df2[cols_to_fill].fillna(value='unknown')\n",
        "    \n",
        "    # limiting installers to top 6 only, with remaining values grouped together\n",
        "    if 'installer' in df2.columns:\n",
        "        installer_series = df2['installer'].value_counts()\n",
        "        installer_series_2 = installer_series.sort_values(ascending=False)\n",
        "        installer_top_6 = installer_series_2.index[0:6]\n",
        "        installer_top_6_list = list(installer_top_6)\n",
        "        df2['installer'] = df2['installer'].apply(lambda x: x if x in installer_top_6_list else 'small_inst')\n",
        "    \n",
        "    else:\n",
        "        pass\n",
        "\n",
        "    # limiting funders to top 6 only, with remaining values grouped together\n",
        "    if 'funder' in df2.columns:\n",
        "        funder_series = df2['funder'].value_counts()\n",
        "        funder_series_2 = funder_series.sort_values(ascending=False)\n",
        "        funder_top_6 = funder_series_2.index[0:6]\n",
        "        funder_top_6_list = list(funder_top_6)\n",
        "        df2['funder'] = df2['funder'].apply(lambda x: x if x in funder_top_6_list else 'small_fund')\n",
        "    \n",
        "    else:\n",
        "        pass    \n",
        "    \n",
        "    # rearranging column order, and excluding target variable if not in dataframe\n",
        "    if target_name in df2.columns:\n",
        "        df3 = df2[col_order]\n",
        "    else:\n",
        "        list2 = order_cols[:order_cols.index(target_name)]+order_cols[order_cols.index(target_name)+1:]\n",
        "        df3 = df2[list2]\n",
        "    \n",
        "    df4 = df3.fillna(0)\n",
        "    \n",
        "    return df4\n",
        "    "
      ],
      "execution_count": 0,
      "outputs": []
    },
    {
      "cell_type": "code",
      "metadata": {
        "id": "nJJ0VqHmaDpr",
        "colab_type": "code",
        "colab": {}
      },
      "source": [
        "# creating list of columns to drop, in order to pass into the cleaning function\n",
        "drop_cols = ['date_recorded',\n",
        "                'wpt_name',\n",
        "                'num_private',\n",
        "                'subvillage',\n",
        "                'region',\n",
        "                'region_code',\n",
        "                'district_code',\n",
        "                'lga',\n",
        "                'ward',\n",
        "                'public_meeting',\n",
        "                'recorded_by',\n",
        "                'scheme_management',\n",
        "                'scheme_name',\n",
        "                'construction_year',\n",
        "                'extraction_type_group',\n",
        "                'extraction_type_class',\n",
        "                'payment_type',\n",
        "                'water_quality',\n",
        "                'quantity_group',\n",
        "                'source_type',\n",
        "                'source_class',\n",
        "                'waterpoint_type_group']\n",
        "\n",
        "# creating list of columns to fill with 'unknown'\n",
        "fill_cols = ['funder',\n",
        "            'installer',\n",
        "            'permit']\n",
        "\n",
        "# creating list of columns order\n",
        "order_cols = ['id',\n",
        "            'amount_tsh',\n",
        "            'funder',\n",
        "            'installer',\n",
        "            'gps_height',\n",
        "            'longitude',\n",
        "            'latitude',\n",
        "            'basin',\n",
        "            'population',\n",
        "            'permit',\n",
        "            'extraction_type',\n",
        "            'management',\n",
        "            'management_group',\n",
        "            'payment',\n",
        "            'quality_group',\n",
        "            'quantity',\n",
        "            'source',\n",
        "            'waterpoint_type',\n",
        "            'age_years',\n",
        "            'status_group',]"
      ],
      "execution_count": 0,
      "outputs": []
    },
    {
      "cell_type": "code",
      "metadata": {
        "id": "EAhbEYolaDp4",
        "colab_type": "code",
        "outputId": "54ee255e-256c-42b6-ac17-f466b47c2325",
        "colab": {}
      },
      "source": [
        "# cleaning the datatset using the cleaning function\n",
        "df_clean = preprocess_clean(df5_combo, drop_cols, fill_cols, order_cols, 'status_group')\n",
        "df_clean.info()"
      ],
      "execution_count": 0,
      "outputs": [
        {
          "output_type": "stream",
          "text": [
            "<class 'pandas.core.frame.DataFrame'>\n",
            "RangeIndex: 59400 entries, 0 to 59399\n",
            "Data columns (total 20 columns):\n",
            "id                  59400 non-null float64\n",
            "amount_tsh          59400 non-null float64\n",
            "funder              59400 non-null object\n",
            "installer           59400 non-null object\n",
            "gps_height          59400 non-null float64\n",
            "longitude           59400 non-null float64\n",
            "latitude            59400 non-null float64\n",
            "basin               59400 non-null object\n",
            "population          59400 non-null float64\n",
            "permit              59400 non-null object\n",
            "extraction_type     59400 non-null object\n",
            "management          59400 non-null object\n",
            "management_group    59400 non-null object\n",
            "payment             59400 non-null object\n",
            "quality_group       59400 non-null object\n",
            "quantity            59400 non-null object\n",
            "source              59400 non-null object\n",
            "waterpoint_type     59400 non-null object\n",
            "age_years           59400 non-null float64\n",
            "status_group        59400 non-null object\n",
            "dtypes: float64(7), object(13)\n",
            "memory usage: 9.1+ MB\n"
          ],
          "name": "stdout"
        }
      ]
    },
    {
      "cell_type": "code",
      "metadata": {
        "id": "fwDoNrbRaDp7",
        "colab_type": "code",
        "outputId": "58afdf23-0a84-4bcf-bcbd-8f82234bd07c",
        "colab": {}
      },
      "source": [
        "df_clean_2 = preprocess_clean(df_inspect, drop_cols, fill_cols, order_cols, 'status_group')\n",
        "df_clean_2.info()"
      ],
      "execution_count": 0,
      "outputs": [
        {
          "output_type": "stream",
          "text": [
            "<class 'pandas.core.frame.DataFrame'>\n",
            "RangeIndex: 14850 entries, 0 to 14849\n",
            "Data columns (total 19 columns):\n",
            "id                  14850 non-null int64\n",
            "amount_tsh          14850 non-null float64\n",
            "funder              14850 non-null object\n",
            "installer           14850 non-null object\n",
            "gps_height          14850 non-null float64\n",
            "longitude           14850 non-null float64\n",
            "latitude            14850 non-null float64\n",
            "basin               14850 non-null object\n",
            "population          14850 non-null float64\n",
            "permit              14850 non-null object\n",
            "extraction_type     14850 non-null object\n",
            "management          14850 non-null object\n",
            "management_group    14850 non-null object\n",
            "payment             14850 non-null object\n",
            "quality_group       14850 non-null object\n",
            "quantity            14850 non-null object\n",
            "source              14850 non-null object\n",
            "waterpoint_type     14850 non-null object\n",
            "age_years           14850 non-null float64\n",
            "dtypes: float64(6), int64(1), object(12)\n",
            "memory usage: 2.2+ MB\n"
          ],
          "name": "stdout"
        }
      ]
    },
    {
      "cell_type": "code",
      "metadata": {
        "id": "n8v4bNLUaDp-",
        "colab_type": "code",
        "colab": {}
      },
      "source": [
        "df_clean.to_csv('df_clean.csv')"
      ],
      "execution_count": 0,
      "outputs": []
    },
    {
      "cell_type": "code",
      "metadata": {
        "id": "E_EFOVtXaqxa",
        "colab_type": "code",
        "outputId": "40336821-a925-4c83-9d18-49847516f3a9",
        "colab": {
          "base_uri": "https://localhost:8080/",
          "height": 33
        }
      },
      "source": [
        "!ls"
      ],
      "execution_count": 0,
      "outputs": [
        {
          "output_type": "stream",
          "text": [
            "df_clean.csv  sample_data\n"
          ],
          "name": "stdout"
        }
      ]
    },
    {
      "cell_type": "code",
      "metadata": {
        "id": "-9Szz3YzaDqB",
        "colab_type": "code",
        "outputId": "6c7f5f10-4abf-41ac-89ab-dc2342c94746",
        "colab": {
          "base_uri": "https://localhost:8080/",
          "height": 341
        }
      },
      "source": [
        "data = pd.read_csv('./df_clean.csv')\n",
        "data.head()"
      ],
      "execution_count": 0,
      "outputs": [
        {
          "output_type": "execute_result",
          "data": {
            "text/html": [
              "<div>\n",
              "<style scoped>\n",
              "    .dataframe tbody tr th:only-of-type {\n",
              "        vertical-align: middle;\n",
              "    }\n",
              "\n",
              "    .dataframe tbody tr th {\n",
              "        vertical-align: top;\n",
              "    }\n",
              "\n",
              "    .dataframe thead th {\n",
              "        text-align: right;\n",
              "    }\n",
              "</style>\n",
              "<table border=\"1\" class=\"dataframe\">\n",
              "  <thead>\n",
              "    <tr style=\"text-align: right;\">\n",
              "      <th></th>\n",
              "      <th>Unnamed: 0</th>\n",
              "      <th>id</th>\n",
              "      <th>amount_tsh</th>\n",
              "      <th>funder</th>\n",
              "      <th>installer</th>\n",
              "      <th>gps_height</th>\n",
              "      <th>longitude</th>\n",
              "      <th>latitude</th>\n",
              "      <th>basin</th>\n",
              "      <th>population</th>\n",
              "      <th>permit</th>\n",
              "      <th>extraction_type</th>\n",
              "      <th>management</th>\n",
              "      <th>management_group</th>\n",
              "      <th>payment</th>\n",
              "      <th>quality_group</th>\n",
              "      <th>quantity</th>\n",
              "      <th>source</th>\n",
              "      <th>waterpoint_type</th>\n",
              "      <th>age_years</th>\n",
              "      <th>status_group</th>\n",
              "    </tr>\n",
              "  </thead>\n",
              "  <tbody>\n",
              "    <tr>\n",
              "      <th>0</th>\n",
              "      <td>0</td>\n",
              "      <td>69572.0</td>\n",
              "      <td>6000.0</td>\n",
              "      <td>small_fund</td>\n",
              "      <td>small_inst</td>\n",
              "      <td>1390.0</td>\n",
              "      <td>34.938093</td>\n",
              "      <td>-9.856322</td>\n",
              "      <td>Lake Nyasa</td>\n",
              "      <td>109.0</td>\n",
              "      <td>unknown</td>\n",
              "      <td>gravity</td>\n",
              "      <td>vwc</td>\n",
              "      <td>user-group</td>\n",
              "      <td>pay annually</td>\n",
              "      <td>good</td>\n",
              "      <td>enough</td>\n",
              "      <td>spring</td>\n",
              "      <td>communal standpipe</td>\n",
              "      <td>20.0</td>\n",
              "      <td>functional</td>\n",
              "    </tr>\n",
              "    <tr>\n",
              "      <th>1</th>\n",
              "      <td>1</td>\n",
              "      <td>8776.0</td>\n",
              "      <td>0.0</td>\n",
              "      <td>small_fund</td>\n",
              "      <td>small_inst</td>\n",
              "      <td>1399.0</td>\n",
              "      <td>34.698766</td>\n",
              "      <td>-2.147466</td>\n",
              "      <td>Lake Victoria</td>\n",
              "      <td>280.0</td>\n",
              "      <td>True</td>\n",
              "      <td>gravity</td>\n",
              "      <td>wug</td>\n",
              "      <td>user-group</td>\n",
              "      <td>never pay</td>\n",
              "      <td>good</td>\n",
              "      <td>insufficient</td>\n",
              "      <td>rainwater harvesting</td>\n",
              "      <td>communal standpipe</td>\n",
              "      <td>9.0</td>\n",
              "      <td>functional</td>\n",
              "    </tr>\n",
              "    <tr>\n",
              "      <th>2</th>\n",
              "      <td>2</td>\n",
              "      <td>34310.0</td>\n",
              "      <td>25.0</td>\n",
              "      <td>small_fund</td>\n",
              "      <td>small_inst</td>\n",
              "      <td>686.0</td>\n",
              "      <td>37.460664</td>\n",
              "      <td>-3.821329</td>\n",
              "      <td>Pangani</td>\n",
              "      <td>250.0</td>\n",
              "      <td>True</td>\n",
              "      <td>gravity</td>\n",
              "      <td>vwc</td>\n",
              "      <td>user-group</td>\n",
              "      <td>pay per bucket</td>\n",
              "      <td>good</td>\n",
              "      <td>enough</td>\n",
              "      <td>dam</td>\n",
              "      <td>communal standpipe multiple</td>\n",
              "      <td>10.0</td>\n",
              "      <td>functional</td>\n",
              "    </tr>\n",
              "    <tr>\n",
              "      <th>3</th>\n",
              "      <td>3</td>\n",
              "      <td>67743.0</td>\n",
              "      <td>0.0</td>\n",
              "      <td>small_fund</td>\n",
              "      <td>small_inst</td>\n",
              "      <td>263.0</td>\n",
              "      <td>38.486161</td>\n",
              "      <td>-11.155298</td>\n",
              "      <td>Ruvuma / Southern Coast</td>\n",
              "      <td>58.0</td>\n",
              "      <td>True</td>\n",
              "      <td>submersible</td>\n",
              "      <td>vwc</td>\n",
              "      <td>user-group</td>\n",
              "      <td>never pay</td>\n",
              "      <td>good</td>\n",
              "      <td>dry</td>\n",
              "      <td>machine dbh</td>\n",
              "      <td>communal standpipe multiple</td>\n",
              "      <td>33.0</td>\n",
              "      <td>non functional</td>\n",
              "    </tr>\n",
              "    <tr>\n",
              "      <th>4</th>\n",
              "      <td>4</td>\n",
              "      <td>19728.0</td>\n",
              "      <td>0.0</td>\n",
              "      <td>small_fund</td>\n",
              "      <td>small_inst</td>\n",
              "      <td>0.0</td>\n",
              "      <td>31.130847</td>\n",
              "      <td>-1.825359</td>\n",
              "      <td>Lake Victoria</td>\n",
              "      <td>0.0</td>\n",
              "      <td>True</td>\n",
              "      <td>gravity</td>\n",
              "      <td>other</td>\n",
              "      <td>other</td>\n",
              "      <td>never pay</td>\n",
              "      <td>good</td>\n",
              "      <td>seasonal</td>\n",
              "      <td>rainwater harvesting</td>\n",
              "      <td>communal standpipe</td>\n",
              "      <td>19.0</td>\n",
              "      <td>functional</td>\n",
              "    </tr>\n",
              "  </tbody>\n",
              "</table>\n",
              "</div>"
            ],
            "text/plain": [
              "   Unnamed: 0       id  amount_tsh      funder   installer  gps_height  \\\n",
              "0           0  69572.0      6000.0  small_fund  small_inst      1390.0   \n",
              "1           1   8776.0         0.0  small_fund  small_inst      1399.0   \n",
              "2           2  34310.0        25.0  small_fund  small_inst       686.0   \n",
              "3           3  67743.0         0.0  small_fund  small_inst       263.0   \n",
              "4           4  19728.0         0.0  small_fund  small_inst         0.0   \n",
              "\n",
              "   longitude   latitude                    basin  population   permit  \\\n",
              "0  34.938093  -9.856322               Lake Nyasa       109.0  unknown   \n",
              "1  34.698766  -2.147466            Lake Victoria       280.0     True   \n",
              "2  37.460664  -3.821329                  Pangani       250.0     True   \n",
              "3  38.486161 -11.155298  Ruvuma / Southern Coast        58.0     True   \n",
              "4  31.130847  -1.825359            Lake Victoria         0.0     True   \n",
              "\n",
              "  extraction_type management management_group         payment quality_group  \\\n",
              "0         gravity        vwc       user-group    pay annually          good   \n",
              "1         gravity        wug       user-group       never pay          good   \n",
              "2         gravity        vwc       user-group  pay per bucket          good   \n",
              "3     submersible        vwc       user-group       never pay          good   \n",
              "4         gravity      other            other       never pay          good   \n",
              "\n",
              "       quantity                source              waterpoint_type  age_years  \\\n",
              "0        enough                spring           communal standpipe       20.0   \n",
              "1  insufficient  rainwater harvesting           communal standpipe        9.0   \n",
              "2        enough                   dam  communal standpipe multiple       10.0   \n",
              "3           dry           machine dbh  communal standpipe multiple       33.0   \n",
              "4      seasonal  rainwater harvesting           communal standpipe       19.0   \n",
              "\n",
              "     status_group  \n",
              "0      functional  \n",
              "1      functional  \n",
              "2      functional  \n",
              "3  non functional  \n",
              "4      functional  "
            ]
          },
          "metadata": {
            "tags": []
          },
          "execution_count": 5
        }
      ]
    },
    {
      "cell_type": "code",
      "metadata": {
        "id": "ZCcVmQwMaDqP",
        "colab_type": "code",
        "colab": {}
      },
      "source": [
        "small_data = data.sample(frac=0.1, replace=True, random_state=1)"
      ],
      "execution_count": 0,
      "outputs": []
    },
    {
      "cell_type": "markdown",
      "metadata": {
        "id": "cXI340FiaDqV",
        "colab_type": "text"
      },
      "source": [
        "# Exploratory Data Analysis"
      ]
    },
    {
      "cell_type": "code",
      "metadata": {
        "id": "btMNZTQdaDqZ",
        "colab_type": "code",
        "outputId": "096ecc52-8e78-46b0-d129-10ff6f9aa243",
        "colab": {
          "base_uri": "https://localhost:8080/",
          "height": 82
        }
      },
      "source": [
        "data.status_group.value_counts()"
      ],
      "execution_count": 0,
      "outputs": [
        {
          "output_type": "execute_result",
          "data": {
            "text/plain": [
              "functional                 32259\n",
              "non functional             22824\n",
              "functional needs repair     4317\n",
              "Name: status_group, dtype: int64"
            ]
          },
          "metadata": {
            "tags": []
          },
          "execution_count": 7
        }
      ]
    },
    {
      "cell_type": "code",
      "metadata": {
        "id": "XoUBXa69aDqg",
        "colab_type": "code",
        "colab": {}
      },
      "source": [
        "#Just over half of the waterwells are functional \n",
        "#need to transform my categorical data into dummies. \n",
        "# first lets separate x and y\n",
        "y = data['status_group']\n",
        "X = data.drop(columns='status_group', axis=1)"
      ],
      "execution_count": 0,
      "outputs": []
    },
    {
      "cell_type": "code",
      "metadata": {
        "scrolled": false,
        "id": "OHSY7zUTaDqj",
        "colab_type": "code",
        "colab": {}
      },
      "source": [
        "y = data['status_group'].replace(['non functional','fuctional needs repair'], ['needs repair','needs repair'], inplace=True)\n",
        "y = data.status_group = data.status_group.replace('functional needs repair', 'needs repair')\n",
        "y = y.replace('non functional', 'needs repair')\n",
        "#y = small_data.status_group = small_data.status_group.replace('functional needs repair', 'needs repair')\n",
        "#y = y.replace('non functional', 'needs repair')"
      ],
      "execution_count": 0,
      "outputs": []
    },
    {
      "cell_type": "code",
      "metadata": {
        "id": "dDMkwi8IaDqs",
        "colab_type": "code",
        "outputId": "bcd4fb13-e4ea-4ac6-8b4e-9aed9313d89a",
        "colab": {
          "base_uri": "https://localhost:8080/",
          "height": 82
        }
      },
      "source": [
        "data.status_group.value_counts()"
      ],
      "execution_count": 0,
      "outputs": [
        {
          "output_type": "execute_result",
          "data": {
            "text/plain": [
              "functional                 32259\n",
              "non functional             22824\n",
              "functional needs repair     4317\n",
              "Name: status_group, dtype: int64"
            ]
          },
          "metadata": {
            "tags": []
          },
          "execution_count": 10
        }
      ]
    },
    {
      "cell_type": "code",
      "metadata": {
        "id": "V1xF1X92aDqz",
        "colab_type": "code",
        "outputId": "c359d01f-40f7-48b4-adc0-1ea4509c5133",
        "colab": {
          "base_uri": "https://localhost:8080/",
          "height": 341
        }
      },
      "source": [
        "data.head()"
      ],
      "execution_count": 0,
      "outputs": [
        {
          "output_type": "execute_result",
          "data": {
            "text/html": [
              "<div>\n",
              "<style scoped>\n",
              "    .dataframe tbody tr th:only-of-type {\n",
              "        vertical-align: middle;\n",
              "    }\n",
              "\n",
              "    .dataframe tbody tr th {\n",
              "        vertical-align: top;\n",
              "    }\n",
              "\n",
              "    .dataframe thead th {\n",
              "        text-align: right;\n",
              "    }\n",
              "</style>\n",
              "<table border=\"1\" class=\"dataframe\">\n",
              "  <thead>\n",
              "    <tr style=\"text-align: right;\">\n",
              "      <th></th>\n",
              "      <th>Unnamed: 0</th>\n",
              "      <th>id</th>\n",
              "      <th>amount_tsh</th>\n",
              "      <th>funder</th>\n",
              "      <th>installer</th>\n",
              "      <th>gps_height</th>\n",
              "      <th>longitude</th>\n",
              "      <th>latitude</th>\n",
              "      <th>basin</th>\n",
              "      <th>population</th>\n",
              "      <th>permit</th>\n",
              "      <th>extraction_type</th>\n",
              "      <th>management</th>\n",
              "      <th>management_group</th>\n",
              "      <th>payment</th>\n",
              "      <th>quality_group</th>\n",
              "      <th>quantity</th>\n",
              "      <th>source</th>\n",
              "      <th>waterpoint_type</th>\n",
              "      <th>age_years</th>\n",
              "      <th>status_group</th>\n",
              "    </tr>\n",
              "  </thead>\n",
              "  <tbody>\n",
              "    <tr>\n",
              "      <th>0</th>\n",
              "      <td>0</td>\n",
              "      <td>69572.0</td>\n",
              "      <td>6000.0</td>\n",
              "      <td>small_fund</td>\n",
              "      <td>small_inst</td>\n",
              "      <td>1390.0</td>\n",
              "      <td>34.938093</td>\n",
              "      <td>-9.856322</td>\n",
              "      <td>Lake Nyasa</td>\n",
              "      <td>109.0</td>\n",
              "      <td>unknown</td>\n",
              "      <td>gravity</td>\n",
              "      <td>vwc</td>\n",
              "      <td>user-group</td>\n",
              "      <td>pay annually</td>\n",
              "      <td>good</td>\n",
              "      <td>enough</td>\n",
              "      <td>spring</td>\n",
              "      <td>communal standpipe</td>\n",
              "      <td>20.0</td>\n",
              "      <td>functional</td>\n",
              "    </tr>\n",
              "    <tr>\n",
              "      <th>1</th>\n",
              "      <td>1</td>\n",
              "      <td>8776.0</td>\n",
              "      <td>0.0</td>\n",
              "      <td>small_fund</td>\n",
              "      <td>small_inst</td>\n",
              "      <td>1399.0</td>\n",
              "      <td>34.698766</td>\n",
              "      <td>-2.147466</td>\n",
              "      <td>Lake Victoria</td>\n",
              "      <td>280.0</td>\n",
              "      <td>True</td>\n",
              "      <td>gravity</td>\n",
              "      <td>wug</td>\n",
              "      <td>user-group</td>\n",
              "      <td>never pay</td>\n",
              "      <td>good</td>\n",
              "      <td>insufficient</td>\n",
              "      <td>rainwater harvesting</td>\n",
              "      <td>communal standpipe</td>\n",
              "      <td>9.0</td>\n",
              "      <td>functional</td>\n",
              "    </tr>\n",
              "    <tr>\n",
              "      <th>2</th>\n",
              "      <td>2</td>\n",
              "      <td>34310.0</td>\n",
              "      <td>25.0</td>\n",
              "      <td>small_fund</td>\n",
              "      <td>small_inst</td>\n",
              "      <td>686.0</td>\n",
              "      <td>37.460664</td>\n",
              "      <td>-3.821329</td>\n",
              "      <td>Pangani</td>\n",
              "      <td>250.0</td>\n",
              "      <td>True</td>\n",
              "      <td>gravity</td>\n",
              "      <td>vwc</td>\n",
              "      <td>user-group</td>\n",
              "      <td>pay per bucket</td>\n",
              "      <td>good</td>\n",
              "      <td>enough</td>\n",
              "      <td>dam</td>\n",
              "      <td>communal standpipe multiple</td>\n",
              "      <td>10.0</td>\n",
              "      <td>functional</td>\n",
              "    </tr>\n",
              "    <tr>\n",
              "      <th>3</th>\n",
              "      <td>3</td>\n",
              "      <td>67743.0</td>\n",
              "      <td>0.0</td>\n",
              "      <td>small_fund</td>\n",
              "      <td>small_inst</td>\n",
              "      <td>263.0</td>\n",
              "      <td>38.486161</td>\n",
              "      <td>-11.155298</td>\n",
              "      <td>Ruvuma / Southern Coast</td>\n",
              "      <td>58.0</td>\n",
              "      <td>True</td>\n",
              "      <td>submersible</td>\n",
              "      <td>vwc</td>\n",
              "      <td>user-group</td>\n",
              "      <td>never pay</td>\n",
              "      <td>good</td>\n",
              "      <td>dry</td>\n",
              "      <td>machine dbh</td>\n",
              "      <td>communal standpipe multiple</td>\n",
              "      <td>33.0</td>\n",
              "      <td>non functional</td>\n",
              "    </tr>\n",
              "    <tr>\n",
              "      <th>4</th>\n",
              "      <td>4</td>\n",
              "      <td>19728.0</td>\n",
              "      <td>0.0</td>\n",
              "      <td>small_fund</td>\n",
              "      <td>small_inst</td>\n",
              "      <td>0.0</td>\n",
              "      <td>31.130847</td>\n",
              "      <td>-1.825359</td>\n",
              "      <td>Lake Victoria</td>\n",
              "      <td>0.0</td>\n",
              "      <td>True</td>\n",
              "      <td>gravity</td>\n",
              "      <td>other</td>\n",
              "      <td>other</td>\n",
              "      <td>never pay</td>\n",
              "      <td>good</td>\n",
              "      <td>seasonal</td>\n",
              "      <td>rainwater harvesting</td>\n",
              "      <td>communal standpipe</td>\n",
              "      <td>19.0</td>\n",
              "      <td>functional</td>\n",
              "    </tr>\n",
              "  </tbody>\n",
              "</table>\n",
              "</div>"
            ],
            "text/plain": [
              "   Unnamed: 0       id  amount_tsh      funder   installer  gps_height  \\\n",
              "0           0  69572.0      6000.0  small_fund  small_inst      1390.0   \n",
              "1           1   8776.0         0.0  small_fund  small_inst      1399.0   \n",
              "2           2  34310.0        25.0  small_fund  small_inst       686.0   \n",
              "3           3  67743.0         0.0  small_fund  small_inst       263.0   \n",
              "4           4  19728.0         0.0  small_fund  small_inst         0.0   \n",
              "\n",
              "   longitude   latitude                    basin  population   permit  \\\n",
              "0  34.938093  -9.856322               Lake Nyasa       109.0  unknown   \n",
              "1  34.698766  -2.147466            Lake Victoria       280.0     True   \n",
              "2  37.460664  -3.821329                  Pangani       250.0     True   \n",
              "3  38.486161 -11.155298  Ruvuma / Southern Coast        58.0     True   \n",
              "4  31.130847  -1.825359            Lake Victoria         0.0     True   \n",
              "\n",
              "  extraction_type management management_group         payment quality_group  \\\n",
              "0         gravity        vwc       user-group    pay annually          good   \n",
              "1         gravity        wug       user-group       never pay          good   \n",
              "2         gravity        vwc       user-group  pay per bucket          good   \n",
              "3     submersible        vwc       user-group       never pay          good   \n",
              "4         gravity      other            other       never pay          good   \n",
              "\n",
              "       quantity                source              waterpoint_type  age_years  \\\n",
              "0        enough                spring           communal standpipe       20.0   \n",
              "1  insufficient  rainwater harvesting           communal standpipe        9.0   \n",
              "2        enough                   dam  communal standpipe multiple       10.0   \n",
              "3           dry           machine dbh  communal standpipe multiple       33.0   \n",
              "4      seasonal  rainwater harvesting           communal standpipe       19.0   \n",
              "\n",
              "     status_group  \n",
              "0      functional  \n",
              "1      functional  \n",
              "2      functional  \n",
              "3  non functional  \n",
              "4      functional  "
            ]
          },
          "metadata": {
            "tags": []
          },
          "execution_count": 11
        }
      ]
    },
    {
      "cell_type": "code",
      "metadata": {
        "id": "sFrCKyJ_aDq_",
        "colab_type": "code",
        "colab": {}
      },
      "source": [
        ""
      ],
      "execution_count": 0,
      "outputs": []
    },
    {
      "cell_type": "code",
      "metadata": {
        "id": "PjaWx8ZaaDrE",
        "colab_type": "code",
        "outputId": "27f4f2ac-4a2d-4abb-a6c1-56c98d907fa3",
        "colab": {
          "base_uri": "https://localhost:8080/",
          "height": 70
        }
      },
      "source": [
        "import matplotlib.pyplot as plt\n",
        "%matplotlib inline\n",
        "import seaborn as sns"
      ],
      "execution_count": 0,
      "outputs": [
        {
          "output_type": "stream",
          "text": [
            "/usr/local/lib/python3.6/dist-packages/statsmodels/tools/_testing.py:19: FutureWarning: pandas.util.testing is deprecated. Use the functions in the public API at pandas.testing instead.\n",
            "  import pandas.util.testing as tm\n"
          ],
          "name": "stderr"
        }
      ]
    },
    {
      "cell_type": "code",
      "metadata": {
        "id": "Rue7Snn3aDrJ",
        "colab_type": "code",
        "outputId": "384c67be-eb6b-41e6-a02a-273954610bf4",
        "colab": {
          "base_uri": "https://localhost:8080/",
          "height": 621
        }
      },
      "source": [
        "fig = plt.figure(figsize=(20,10))\n",
        "sns.countplot(data['status_group'], palette='gist_rainbow')\n",
        "plt.title(\"Waterwells Across Tanzania\")\n",
        "plt.xlabel(\"Wells\")\n",
        "plt.ylabel(\"Number of wells\")\n",
        "plt.legend(data['status_group'])\n",
        "plt.show()"
      ],
      "execution_count": 0,
      "outputs": [
        {
          "output_type": "display_data",
          "data": {
            "image/png": "[encoded data removed]",
            "text/plain": [
              "<Figure size 1440x720 with 1 Axes>"
            ]
          },
          "metadata": {
            "tags": [],
            "needs_background": "light"
          }
        }
      ]
    },
    {
      "cell_type": "code",
      "metadata": {
        "id": "OQy77_w6aDrT",
        "colab_type": "code",
        "colab": {}
      },
      "source": [
        "#small_data = data.sample(frac=0.1, replace=True, random_state=1)"
      ],
      "execution_count": 0,
      "outputs": []
    },
    {
      "cell_type": "code",
      "metadata": {
        "id": "aTl_NLiJaDrW",
        "colab_type": "code",
        "colab": {}
      },
      "source": [
        ""
      ],
      "execution_count": 0,
      "outputs": []
    },
    {
      "cell_type": "code",
      "metadata": {
        "id": "ZpEZz7bZaDrf",
        "colab_type": "code",
        "colab": {}
      },
      "source": [
        ""
      ],
      "execution_count": 0,
      "outputs": []
    },
    {
      "cell_type": "code",
      "metadata": {
        "id": "o31BNP4_aDrh",
        "colab_type": "code",
        "colab": {}
      },
      "source": [
        "#change them into dummies so that it can be read into our models\n",
        "X_d = pd.get_dummies(X)"
      ],
      "execution_count": 0,
      "outputs": []
    },
    {
      "cell_type": "code",
      "metadata": {
        "id": "qb1w_Jy-aDrk",
        "colab_type": "code",
        "colab": {}
      },
      "source": [
        "#perform a train_test_split\n",
        "from sklearn.model_selection import train_test_split\n",
        "y = pd.get_dummies(y)\n",
        "X = data.drop(columns=['status_group','id'], axis=1)\n",
        "X_train, X_test, y_train, y_test = train_test_split(X_d, y, random_state=10) #x y train test split for train\n",
        "X_train_v, X_val, y_train_v, y_val = train_test_split(X_train,y_train,test_size=.2, random_state=123)\n",
        "y_val = y_val['functional']\n",
        "y_train = y_train['functional']\n",
        "y_train_v = y_train_v['functional']\n",
        "\n"
      ],
      "execution_count": 0,
      "outputs": []
    },
    {
      "cell_type": "code",
      "metadata": {
        "id": "FslSQOc8aDsB",
        "colab_type": "code",
        "outputId": "7972f3c7-6f0d-429b-cae8-a96b22003fe5",
        "colab": {
          "base_uri": "https://localhost:8080/",
          "height": 212
        }
      },
      "source": [
        "print(y_train)"
      ],
      "execution_count": 0,
      "outputs": [
        {
          "output_type": "stream",
          "text": [
            "37648    1\n",
            "17049    1\n",
            "42569    1\n",
            "58401    0\n",
            "49211    1\n",
            "        ..\n",
            "28017    1\n",
            "50496    0\n",
            "29199    1\n",
            "40061    1\n",
            "17673    1\n",
            "Name: functional, Length: 44550, dtype: uint8\n"
          ],
          "name": "stdout"
        }
      ]
    },
    {
      "cell_type": "markdown",
      "metadata": {
        "id": "PqfUXyCmaDsF",
        "colab_type": "text"
      },
      "source": [
        "# Baseline Model"
      ]
    },
    {
      "cell_type": "code",
      "metadata": {
        "id": "nzQvX03FaDsG",
        "colab_type": "code",
        "outputId": "0fc3039f-d9f9-4115-8caf-4d4c4bd94373",
        "colab": {
          "base_uri": "https://localhost:8080/",
          "height": 98
        }
      },
      "source": [
        "from sklearn.linear_model import LogisticRegression\n",
        "#instantiate the model \n",
        "baseline = LogisticRegression(solver='lbfgs',max_iter=1000)\n",
        "baseline.fit(X_train_v,y_train_v)\n"
      ],
      "execution_count": 0,
      "outputs": [
        {
          "output_type": "execute_result",
          "data": {
            "text/plain": [
              "LogisticRegression(C=1.0, class_weight=None, dual=False, fit_intercept=True,\n",
              "                   intercept_scaling=1, l1_ratio=None, max_iter=1000,\n",
              "                   multi_class='auto', n_jobs=None, penalty='l2',\n",
              "                   random_state=None, solver='lbfgs', tol=0.0001, verbose=0,\n",
              "                   warm_start=False)"
            ]
          },
          "metadata": {
            "tags": []
          },
          "execution_count": 25
        }
      ]
    },
    {
      "cell_type": "code",
      "metadata": {
        "id": "Bv6135mtaDsR",
        "colab_type": "code",
        "colab": {}
      },
      "source": [
        "#From our logistic regression model, we are going to measure the ROC_AUC\n",
        "from sklearn.metrics import accuracy_score, roc_auc_score, roc_curve, auc, classification_report\n",
        "\n",
        "# Calculate the probability scores of each point in the training set\n",
        "y_train_probs = baseline.predict_proba(X_train_v)[:,1] #probability prediction\n",
        "\n",
        "\n",
        "# Calculate the fpr, tpr, and thresholds for the training set\n",
        "train_fpr, train_tpr, thresholds = roc_curve(y_train_v, y_train_probs)\n",
        "\n",
        "# Calculate the probability scores of each point in the test set\n",
        "y_val_probs = baseline.predict_proba(X_val)[:,1]\n",
        "\n",
        "# Calculate the fpr, tpr, and thresholds for the test set\n",
        "val_fpr, val_tpr, val_thresholds = roc_curve(y_val, y_val_probs)"
      ],
      "execution_count": 0,
      "outputs": []
    },
    {
      "cell_type": "code",
      "metadata": {
        "id": "OZjx9AJTaDsU",
        "colab_type": "code",
        "outputId": "c3b89676-17ba-4118-b33a-edb53556155a",
        "colab": {
          "base_uri": "https://localhost:8080/",
          "height": 33
        }
      },
      "source": [
        "roc_auc_score(y_train_v, y_train_probs) #area for the score of the train data"
      ],
      "execution_count": 0,
      "outputs": [
        {
          "output_type": "execute_result",
          "data": {
            "text/plain": [
              "0.7855163787812061"
            ]
          },
          "metadata": {
            "tags": []
          },
          "execution_count": 27
        }
      ]
    },
    {
      "cell_type": "code",
      "metadata": {
        "id": "pI3H5Cr1aDsn",
        "colab_type": "code",
        "outputId": "17102cab-3373-4a62-de8b-dd80ffd34317",
        "colab": {
          "base_uri": "https://localhost:8080/",
          "height": 33
        }
      },
      "source": [
        "roc_auc_score(y_val, y_val_probs) #area for the score of the validation data\n"
      ],
      "execution_count": 0,
      "outputs": [
        {
          "output_type": "execute_result",
          "data": {
            "text/plain": [
              "0.7799341560747299"
            ]
          },
          "metadata": {
            "tags": []
          },
          "execution_count": 28
        }
      ]
    },
    {
      "cell_type": "code",
      "metadata": {
        "scrolled": true,
        "id": "4Kag10ONaDs4",
        "colab_type": "code",
        "outputId": "c29c3c81-3725-4a3c-f4ac-e85f44c87575",
        "colab": {
          "base_uri": "https://localhost:8080/",
          "height": 281
        }
      },
      "source": [
        "import matplotlib.pyplot as plt\n",
        "%matplotlib inline\n",
        "fpr,tpr,thr = roc_curve(y_train_v,y_train_probs)\n",
        "plt.plot(fpr,tpr)\n",
        "print(auc(fpr,tpr))"
      ],
      "execution_count": 0,
      "outputs": [
        {
          "output_type": "stream",
          "text": [
            "0.7855163787812061\n"
          ],
          "name": "stdout"
        },
        {
          "output_type": "display_data",
          "data": {
            "image/png": "[encoded data removed]",
            "text/plain": [
              "<Figure size 432x288 with 1 Axes>"
            ]
          },
          "metadata": {
            "tags": [],
            "needs_background": "light"
          }
        }
      ]
    },
    {
      "cell_type": "code",
      "metadata": {
        "id": "oAIDllLWaDs8",
        "colab_type": "code",
        "outputId": "7bef9a88-0f7d-4f4d-d32e-2452b0963e69",
        "colab": {
          "base_uri": "https://localhost:8080/",
          "height": 528
        }
      },
      "source": [
        "\n",
        "plt.figure(figsize=(10, 8))\n",
        "lw = 2\n",
        "plt.plot(train_fpr, train_tpr, color='darkorange',\n",
        "         lw=lw, label='ROC curve')\n",
        "plt.plot([0, 1], [0, 1], color='navy', lw=lw, linestyle='--')\n",
        "plt.xlim([0.0, 1.0])\n",
        "plt.ylim([0.0, 1.05])\n",
        "plt.yticks([i/20.0 for i in range(21)])\n",
        "plt.xticks([i/20.0 for i in range(21)])\n",
        "plt.xlabel('False Positive Rate')\n",
        "plt.ylabel('True Positive Rate')\n",
        "plt.title('Receiver operating characteristic (ROC) Curve for Training Set')\n",
        "plt.legend(loc='lower right')\n",
        "print('Training AUC: {}'.format(auc(train_fpr, train_tpr)))\n",
        "plt.show()"
      ],
      "execution_count": 0,
      "outputs": [
        {
          "output_type": "stream",
          "text": [
            "Training AUC: 0.7855163787812061\n"
          ],
          "name": "stdout"
        },
        {
          "output_type": "display_data",
          "data": {
            "image/png": "[encoded data removed]",
            "text/plain": [
              "<Figure size 720x576 with 1 Axes>"
            ]
          },
          "metadata": {
            "tags": [],
            "needs_background": "light"
          }
        }
      ]
    },
    {
      "cell_type": "code",
      "metadata": {
        "id": "tqr0a6JQ86-b",
        "colab_type": "code",
        "outputId": "66e02d1c-feaa-45e8-8300-1129c2cf1d67",
        "colab": {
          "base_uri": "https://localhost:8080/",
          "height": 163
        }
      },
      "source": [
        "print(classification_report(y_val, baseline.predict(X_val)))"
      ],
      "execution_count": 0,
      "outputs": [
        {
          "output_type": "stream",
          "text": [
            "              precision    recall  f1-score   support\n",
            "\n",
            "           0       0.72      0.63      0.67      4096\n",
            "           1       0.71      0.79      0.75      4814\n",
            "\n",
            "    accuracy                           0.71      8910\n",
            "   macro avg       0.71      0.71      0.71      8910\n",
            "weighted avg       0.71      0.71      0.71      8910\n",
            "\n"
          ],
          "name": "stdout"
        }
      ]
    },
    {
      "cell_type": "code",
      "metadata": {
        "id": "7uwg3KJ9aDtB",
        "colab_type": "code",
        "colab": {}
      },
      "source": [
        "#using this from our hyperparameter lecture to make things a lot faster for visualisation on best models\n",
        "from sklearn.metrics import roc_auc_score\n",
        "def scores(model,X_train,X_val,y_train,y_val):\n",
        "    train_prob = model.predict_proba(X_train)[:,1]\n",
        "    val_prob = model.predict_proba(X_val)[:,1]\n",
        "    train = roc_auc_score(y_train,train_prob)\n",
        "    val = roc_auc_score(y_val,val_prob)\n",
        "    print('train:',round(train,2),'validation:',round(val,2))"
      ],
      "execution_count": 0,
      "outputs": []
    },
    {
      "cell_type": "code",
      "metadata": {
        "id": "t1lEA9oAaDtK",
        "colab_type": "code",
        "colab": {}
      },
      "source": [
        "def annot(fpr,tpr,thr):\n",
        "    k=0\n",
        "    for i,j in zip(fpr,tpr):\n",
        "        if k %50 == 0:\n",
        "            plt.annotate(round(thr[k],2),xy=(i,j), textcoords='data')\n",
        "        k+=1"
      ],
      "execution_count": 0,
      "outputs": []
    },
    {
      "cell_type": "code",
      "metadata": {
        "id": "2JrGN1K7aDtY",
        "colab_type": "code",
        "colab": {}
      },
      "source": [
        "from sklearn.metrics import roc_curve\n",
        "def roc_plot(model,X_train,y_train,X_val,y_val):\n",
        "    train_prob = model.predict_proba(X_train)[:,1]\n",
        "    val_prob = model.predict_proba(X_val)[:,1]\n",
        "    plt.figure(figsize=(7,7))\n",
        "    for data in [[y_train, train_prob],[y_val, val_prob]]: # ,[y_test, test_prob]\n",
        "        fpr, tpr, threshold = roc_curve(data[0], data[1])\n",
        "        plt.plot(fpr, tpr)\n",
        "    annot(fpr, tpr, threshold)\n",
        "    plt.plot([0, 1], [0, 1], color='navy', linestyle='--')\n",
        "    plt.ylabel('TPR (power)')\n",
        "    plt.xlabel('FPR (alpha)')\n",
        "    plt.legend(['train','val'])\n",
        "    plt.show()"
      ],
      "execution_count": 0,
      "outputs": []
    },
    {
      "cell_type": "code",
      "metadata": {
        "id": "3rMh3TQNaDtb",
        "colab_type": "code",
        "colab": {}
      },
      "source": [
        "def opt_plots(opt_model):\n",
        "    opt = pd.DataFrame(opt_model.cv_results_)\n",
        "    cols = [col for col in opt.columns if ('mean' in col or 'std' in col) and 'time' not in col]\n",
        "    params = pd.DataFrame(list(opt.params))\n",
        "    opt = pd.concat([params,opt[cols]],axis=1,sort=False)\n",
        "    \n",
        "    plt.figure(figsize=[15,4])\n",
        "    plt.subplot(121)\n",
        "    sns.heatmap(pd.pivot_table(opt,index='max_depth',columns='min_samples_leaf',values='mean_train_score')*100)\n",
        "    plt.title('ROC_AUC - Training')\n",
        "    plt.subplot(122)\n",
        "    sns.heatmap(pd.pivot_table(opt,index='max_depth',columns='min_samples_leaf',values='mean_test_score')*100)\n",
        "    plt.title('ROC_AUC - Validation')\n",
        "#     return opt"
      ],
      "execution_count": 0,
      "outputs": []
    },
    {
      "cell_type": "markdown",
      "metadata": {
        "id": "f3ZESVjEaDtk",
        "colab_type": "text"
      },
      "source": [
        "# Logistic Regression, Learner 1"
      ]
    },
    {
      "cell_type": "code",
      "metadata": {
        "id": "QMt4KIesaDtl",
        "colab_type": "code",
        "outputId": "b12cfa06-48b3-4b3e-e174-98a700954b22",
        "colab": {
          "base_uri": "https://localhost:8080/",
          "height": 98
        }
      },
      "source": [
        "learner1 = LogisticRegression(penalty='l1', solver='liblinear', max_iter = 1000, random_state=0)\n",
        "learner1.fit(X_train, y_train)"
      ],
      "execution_count": 0,
      "outputs": [
        {
          "output_type": "execute_result",
          "data": {
            "text/plain": [
              "LogisticRegression(C=1.0, class_weight=None, dual=False, fit_intercept=True,\n",
              "                   intercept_scaling=1, l1_ratio=None, max_iter=1000,\n",
              "                   multi_class='auto', n_jobs=None, penalty='l1',\n",
              "                   random_state=0, solver='liblinear', tol=0.0001, verbose=0,\n",
              "                   warm_start=False)"
            ]
          },
          "metadata": {
            "tags": []
          },
          "execution_count": 36
        }
      ]
    },
    {
      "cell_type": "code",
      "metadata": {
        "id": "TeH_udvFaDto",
        "colab_type": "code",
        "outputId": "e37007a0-3834-4f99-ee54-6de594e08739",
        "colab": {
          "base_uri": "https://localhost:8080/",
          "height": 458
        }
      },
      "source": [
        "#train and validation curve without gridsearch on learner1\n",
        "scores(learner1,X_train,X_val,y_train,y_val)\n",
        "roc_plot(learner1,X_train,y_train,X_val,y_val)"
      ],
      "execution_count": 0,
      "outputs": [
        {
          "output_type": "stream",
          "text": [
            "train: 0.83 validation: 0.82\n"
          ],
          "name": "stdout"
        },
        {
          "output_type": "display_data",
          "data": {
            "image/png": "[encoded data removed]",
            "text/plain": [
              "<Figure size 504x504 with 1 Axes>"
            ]
          },
          "metadata": {
            "tags": [],
            "needs_background": "light"
          }
        }
      ]
    },
    {
      "cell_type": "markdown",
      "metadata": {
        "id": "C7iu2WpvaDtq",
        "colab_type": "text"
      },
      "source": [
        "Next step is to make a parameter that will likely be passed into gridsearchCV, this is an important step. I tried putting defaults rather than multiple values into my param grid and it resulted in gridsearch failing to pick the optimum. Instead it went for the defaults I plugged in."
      ]
    },
    {
      "cell_type": "code",
      "metadata": {
        "id": "QwVMtM-daDtr",
        "colab_type": "code",
        "colab": {}
      },
      "source": [
        "import seaborn as sns \n",
        "from sklearn.model_selection import GridSearchCV,StratifiedKFold"
      ],
      "execution_count": 0,
      "outputs": []
    },
    {
      "cell_type": "code",
      "metadata": {
        "id": "rdtyU5_zaDtz",
        "colab_type": "code",
        "outputId": "2c42310d-75d7-4c92-de13-b8811204d431",
        "colab": {
          "base_uri": "https://localhost:8080/",
          "height": 716
        }
      },
      "source": [
        "#in order to perform a gridsearch i need to first identify our grid of parameters then perform a grid search \n",
        "#penalty = ['l1', 'l2']\n",
        "C = [.001,.01,.1,1,100,1000]\n",
        "#class_weight = [{1:.5, 0:.5},{1:.4, 0:.6}, {1:.6,0:.4}, {1:.7, 0:.3}]\n",
        "solver = ['saga'] #liblinear is good for small datasets whereas saga is good for large\n",
        "#add gridsearchCV\n",
        "skf = StratifiedKFold(n_splits=3, shuffle=True, random_state=42)\n",
        "param_grid_l1 = dict(C=C, solver=solver)\n",
        "opt_model= GridSearchCV(estimator=learner1, param_grid=param_grid_l1,cv=skf, scoring='roc_auc', verbose=1)\n",
        "\n",
        "opt_model.fit(X_train, y_train)\n",
        "best_model = opt_model.best_estimator_\n",
        "#scores(best_model,X_train,X_val,y_train,y_val)\n",
        "print(opt_model.best_params_)\n",
        "print(opt_model.best_score_)\n"
      ],
      "execution_count": 0,
      "outputs": [
        {
          "output_type": "stream",
          "text": [
            "Fitting 3 folds for each of 6 candidates, totalling 18 fits\n"
          ],
          "name": "stdout"
        },
        {
          "output_type": "stream",
          "text": [
            "[Parallel(n_jobs=1)]: Using backend SequentialBackend with 1 concurrent workers.\n",
            "/usr/local/lib/python3.6/dist-packages/sklearn/linear_model/_sag.py:330: ConvergenceWarning: The max_iter was reached which means the coef_ did not converge\n",
            "  \"the coef_ did not converge\", ConvergenceWarning)\n",
            "/usr/local/lib/python3.6/dist-packages/sklearn/linear_model/_sag.py:330: ConvergenceWarning: The max_iter was reached which means the coef_ did not converge\n",
            "  \"the coef_ did not converge\", ConvergenceWarning)\n",
            "/usr/local/lib/python3.6/dist-packages/sklearn/linear_model/_sag.py:330: ConvergenceWarning: The max_iter was reached which means the coef_ did not converge\n",
            "  \"the coef_ did not converge\", ConvergenceWarning)\n",
            "/usr/local/lib/python3.6/dist-packages/sklearn/linear_model/_sag.py:330: ConvergenceWarning: The max_iter was reached which means the coef_ did not converge\n",
            "  \"the coef_ did not converge\", ConvergenceWarning)\n",
            "/usr/local/lib/python3.6/dist-packages/sklearn/linear_model/_sag.py:330: ConvergenceWarning: The max_iter was reached which means the coef_ did not converge\n",
            "  \"the coef_ did not converge\", ConvergenceWarning)\n",
            "/usr/local/lib/python3.6/dist-packages/sklearn/linear_model/_sag.py:330: ConvergenceWarning: The max_iter was reached which means the coef_ did not converge\n",
            "  \"the coef_ did not converge\", ConvergenceWarning)\n",
            "/usr/local/lib/python3.6/dist-packages/sklearn/linear_model/_sag.py:330: ConvergenceWarning: The max_iter was reached which means the coef_ did not converge\n",
            "  \"the coef_ did not converge\", ConvergenceWarning)\n",
            "/usr/local/lib/python3.6/dist-packages/sklearn/linear_model/_sag.py:330: ConvergenceWarning: The max_iter was reached which means the coef_ did not converge\n",
            "  \"the coef_ did not converge\", ConvergenceWarning)\n",
            "/usr/local/lib/python3.6/dist-packages/sklearn/linear_model/_sag.py:330: ConvergenceWarning: The max_iter was reached which means the coef_ did not converge\n",
            "  \"the coef_ did not converge\", ConvergenceWarning)\n",
            "/usr/local/lib/python3.6/dist-packages/sklearn/linear_model/_sag.py:330: ConvergenceWarning: The max_iter was reached which means the coef_ did not converge\n",
            "  \"the coef_ did not converge\", ConvergenceWarning)\n",
            "/usr/local/lib/python3.6/dist-packages/sklearn/linear_model/_sag.py:330: ConvergenceWarning: The max_iter was reached which means the coef_ did not converge\n",
            "  \"the coef_ did not converge\", ConvergenceWarning)\n",
            "/usr/local/lib/python3.6/dist-packages/sklearn/linear_model/_sag.py:330: ConvergenceWarning: The max_iter was reached which means the coef_ did not converge\n",
            "  \"the coef_ did not converge\", ConvergenceWarning)\n",
            "/usr/local/lib/python3.6/dist-packages/sklearn/linear_model/_sag.py:330: ConvergenceWarning: The max_iter was reached which means the coef_ did not converge\n",
            "  \"the coef_ did not converge\", ConvergenceWarning)\n",
            "/usr/local/lib/python3.6/dist-packages/sklearn/linear_model/_sag.py:330: ConvergenceWarning: The max_iter was reached which means the coef_ did not converge\n",
            "  \"the coef_ did not converge\", ConvergenceWarning)\n",
            "/usr/local/lib/python3.6/dist-packages/sklearn/linear_model/_sag.py:330: ConvergenceWarning: The max_iter was reached which means the coef_ did not converge\n",
            "  \"the coef_ did not converge\", ConvergenceWarning)\n",
            "/usr/local/lib/python3.6/dist-packages/sklearn/linear_model/_sag.py:330: ConvergenceWarning: The max_iter was reached which means the coef_ did not converge\n",
            "  \"the coef_ did not converge\", ConvergenceWarning)\n",
            "/usr/local/lib/python3.6/dist-packages/sklearn/linear_model/_sag.py:330: ConvergenceWarning: The max_iter was reached which means the coef_ did not converge\n",
            "  \"the coef_ did not converge\", ConvergenceWarning)\n",
            "/usr/local/lib/python3.6/dist-packages/sklearn/linear_model/_sag.py:330: ConvergenceWarning: The max_iter was reached which means the coef_ did not converge\n",
            "  \"the coef_ did not converge\", ConvergenceWarning)\n",
            "[Parallel(n_jobs=1)]: Done  18 out of  18 | elapsed: 17.1min finished\n"
          ],
          "name": "stderr"
        },
        {
          "output_type": "stream",
          "text": [
            "{'C': 1000, 'solver': 'saga'}\n",
            "0.577927512096806\n"
          ],
          "name": "stdout"
        },
        {
          "output_type": "stream",
          "text": [
            "/usr/local/lib/python3.6/dist-packages/sklearn/linear_model/_sag.py:330: ConvergenceWarning: The max_iter was reached which means the coef_ did not converge\n",
            "  \"the coef_ did not converge\", ConvergenceWarning)\n"
          ],
          "name": "stderr"
        }
      ]
    },
    {
      "cell_type": "code",
      "metadata": {
        "id": "w93AHl-aaDt5",
        "colab_type": "code",
        "outputId": "7a62dc99-6aa7-4942-e8a2-8fa79135babe",
        "colab": {
          "base_uri": "https://localhost:8080/",
          "height": 50
        }
      },
      "source": [
        "print('Best Score:', opt_model.best_score_)\n",
        "print('Best Parameters:',opt_model.best_params_ )"
      ],
      "execution_count": 0,
      "outputs": [
        {
          "output_type": "stream",
          "text": [
            "Best Score: 0.577927512096806\n",
            "Best Parameters: {'C': 1000, 'solver': 'saga'}\n"
          ],
          "name": "stdout"
        }
      ]
    },
    {
      "cell_type": "code",
      "metadata": {
        "id": "eLCvbeKUaDt8",
        "colab_type": "code",
        "outputId": "2b65cf36-91b7-4749-fd60-44a2134cde01",
        "colab": {
          "base_uri": "https://localhost:8080/",
          "height": 511
        }
      },
      "source": [
        "grid_result_val = opt_model.fit(X_val, y_val)\n",
        "print('Best Score:', opt_model.best_score_)\n",
        "print('Best Parameters:', opt_model.best_params_)"
      ],
      "execution_count": 0,
      "outputs": [
        {
          "output_type": "stream",
          "text": [
            "Fitting 3 folds for each of 6 candidates, totalling 18 fits\n"
          ],
          "name": "stdout"
        },
        {
          "output_type": "stream",
          "text": [
            "[Parallel(n_jobs=1)]: Using backend SequentialBackend with 1 concurrent workers.\n",
            "/usr/local/lib/python3.6/dist-packages/sklearn/linear_model/_sag.py:330: ConvergenceWarning: The max_iter was reached which means the coef_ did not converge\n",
            "  \"the coef_ did not converge\", ConvergenceWarning)\n",
            "/usr/local/lib/python3.6/dist-packages/sklearn/linear_model/_sag.py:330: ConvergenceWarning: The max_iter was reached which means the coef_ did not converge\n",
            "  \"the coef_ did not converge\", ConvergenceWarning)\n",
            "/usr/local/lib/python3.6/dist-packages/sklearn/linear_model/_sag.py:330: ConvergenceWarning: The max_iter was reached which means the coef_ did not converge\n",
            "  \"the coef_ did not converge\", ConvergenceWarning)\n",
            "/usr/local/lib/python3.6/dist-packages/sklearn/linear_model/_sag.py:330: ConvergenceWarning: The max_iter was reached which means the coef_ did not converge\n",
            "  \"the coef_ did not converge\", ConvergenceWarning)\n"
          ],
          "name": "stderr"
        },
        {
          "output_type": "error",
          "ename": "KeyboardInterrupt",
          "evalue": "ignored",
          "traceback": [
            "\u001b[0;31m---------------------------------------------------------------------------\u001b[0m",
            "\u001b[0;31mKeyboardInterrupt\u001b[0m                         Traceback (most recent call last)",
            "\u001b[0;32m<ipython-input-41-eb54e90b2344>\u001b[0m in \u001b[0;36m<module>\u001b[0;34m()\u001b[0m\n\u001b[0;32m----> 1\u001b[0;31m \u001b[0mgrid_result_val\u001b[0m \u001b[0;34m=\u001b[0m \u001b[0mopt_model\u001b[0m\u001b[0;34m.\u001b[0m\u001b[0mfit\u001b[0m\u001b[0;34m(\u001b[0m\u001b[0mX_val\u001b[0m\u001b[0;34m,\u001b[0m \u001b[0my_val\u001b[0m\u001b[0;34m)\u001b[0m\u001b[0;34m\u001b[0m\u001b[0;34m\u001b[0m\u001b[0m\n\u001b[0m\u001b[1;32m      2\u001b[0m \u001b[0mprint\u001b[0m\u001b[0;34m(\u001b[0m\u001b[0;34m'Best Score:'\u001b[0m\u001b[0;34m,\u001b[0m \u001b[0mopt_model\u001b[0m\u001b[0;34m.\u001b[0m\u001b[0mbest_score_\u001b[0m\u001b[0;34m)\u001b[0m\u001b[0;34m\u001b[0m\u001b[0;34m\u001b[0m\u001b[0m\n\u001b[1;32m      3\u001b[0m \u001b[0mprint\u001b[0m\u001b[0;34m(\u001b[0m\u001b[0;34m'Best Parameters:'\u001b[0m\u001b[0;34m,\u001b[0m \u001b[0mopt_model\u001b[0m\u001b[0;34m.\u001b[0m\u001b[0mbest_params_\u001b[0m\u001b[0;34m)\u001b[0m\u001b[0;34m\u001b[0m\u001b[0;34m\u001b[0m\u001b[0m\n",
            "\u001b[0;32m/usr/local/lib/python3.6/dist-packages/sklearn/model_selection/_search.py\u001b[0m in \u001b[0;36mfit\u001b[0;34m(self, X, y, groups, **fit_params)\u001b[0m\n\u001b[1;32m    708\u001b[0m                 \u001b[0;32mreturn\u001b[0m \u001b[0mresults\u001b[0m\u001b[0;34m\u001b[0m\u001b[0;34m\u001b[0m\u001b[0m\n\u001b[1;32m    709\u001b[0m \u001b[0;34m\u001b[0m\u001b[0m\n\u001b[0;32m--> 710\u001b[0;31m             \u001b[0mself\u001b[0m\u001b[0;34m.\u001b[0m\u001b[0m_run_search\u001b[0m\u001b[0;34m(\u001b[0m\u001b[0mevaluate_candidates\u001b[0m\u001b[0;34m)\u001b[0m\u001b[0;34m\u001b[0m\u001b[0;34m\u001b[0m\u001b[0m\n\u001b[0m\u001b[1;32m    711\u001b[0m \u001b[0;34m\u001b[0m\u001b[0m\n\u001b[1;32m    712\u001b[0m         \u001b[0;31m# For multi-metric evaluation, store the best_index_, best_params_ and\u001b[0m\u001b[0;34m\u001b[0m\u001b[0;34m\u001b[0m\u001b[0;34m\u001b[0m\u001b[0m\n",
            "\u001b[0;32m/usr/local/lib/python3.6/dist-packages/sklearn/model_selection/_search.py\u001b[0m in \u001b[0;36m_run_search\u001b[0;34m(self, evaluate_candidates)\u001b[0m\n\u001b[1;32m   1149\u001b[0m     \u001b[0;32mdef\u001b[0m \u001b[0m_run_search\u001b[0m\u001b[0;34m(\u001b[0m\u001b[0mself\u001b[0m\u001b[0;34m,\u001b[0m \u001b[0mevaluate_candidates\u001b[0m\u001b[0;34m)\u001b[0m\u001b[0;34m:\u001b[0m\u001b[0;34m\u001b[0m\u001b[0;34m\u001b[0m\u001b[0m\n\u001b[1;32m   1150\u001b[0m         \u001b[0;34m\"\"\"Search all candidates in param_grid\"\"\"\u001b[0m\u001b[0;34m\u001b[0m\u001b[0;34m\u001b[0m\u001b[0m\n\u001b[0;32m-> 1151\u001b[0;31m         \u001b[0mevaluate_candidates\u001b[0m\u001b[0;34m(\u001b[0m\u001b[0mParameterGrid\u001b[0m\u001b[0;34m(\u001b[0m\u001b[0mself\u001b[0m\u001b[0;34m.\u001b[0m\u001b[0mparam_grid\u001b[0m\u001b[0;34m)\u001b[0m\u001b[0;34m)\u001b[0m\u001b[0;34m\u001b[0m\u001b[0;34m\u001b[0m\u001b[0m\n\u001b[0m\u001b[1;32m   1152\u001b[0m \u001b[0;34m\u001b[0m\u001b[0m\n\u001b[1;32m   1153\u001b[0m \u001b[0;34m\u001b[0m\u001b[0m\n",
            "\u001b[0;32m/usr/local/lib/python3.6/dist-packages/sklearn/model_selection/_search.py\u001b[0m in \u001b[0;36mevaluate_candidates\u001b[0;34m(candidate_params)\u001b[0m\n\u001b[1;32m    687\u001b[0m                                \u001b[0;32mfor\u001b[0m \u001b[0mparameters\u001b[0m\u001b[0;34m,\u001b[0m \u001b[0;34m(\u001b[0m\u001b[0mtrain\u001b[0m\u001b[0;34m,\u001b[0m \u001b[0mtest\u001b[0m\u001b[0;34m)\u001b[0m\u001b[0;34m\u001b[0m\u001b[0;34m\u001b[0m\u001b[0m\n\u001b[1;32m    688\u001b[0m                                in product(candidate_params,\n\u001b[0;32m--> 689\u001b[0;31m                                           cv.split(X, y, groups)))\n\u001b[0m\u001b[1;32m    690\u001b[0m \u001b[0;34m\u001b[0m\u001b[0m\n\u001b[1;32m    691\u001b[0m                 \u001b[0;32mif\u001b[0m \u001b[0mlen\u001b[0m\u001b[0;34m(\u001b[0m\u001b[0mout\u001b[0m\u001b[0;34m)\u001b[0m \u001b[0;34m<\u001b[0m \u001b[0;36m1\u001b[0m\u001b[0;34m:\u001b[0m\u001b[0;34m\u001b[0m\u001b[0;34m\u001b[0m\u001b[0m\n",
            "\u001b[0;32m/usr/local/lib/python3.6/dist-packages/joblib/parallel.py\u001b[0m in \u001b[0;36m__call__\u001b[0;34m(self, iterable)\u001b[0m\n\u001b[1;32m   1005\u001b[0m                 \u001b[0mself\u001b[0m\u001b[0;34m.\u001b[0m\u001b[0m_iterating\u001b[0m \u001b[0;34m=\u001b[0m \u001b[0mself\u001b[0m\u001b[0;34m.\u001b[0m\u001b[0m_original_iterator\u001b[0m \u001b[0;32mis\u001b[0m \u001b[0;32mnot\u001b[0m \u001b[0;32mNone\u001b[0m\u001b[0;34m\u001b[0m\u001b[0;34m\u001b[0m\u001b[0m\n\u001b[1;32m   1006\u001b[0m \u001b[0;34m\u001b[0m\u001b[0m\n\u001b[0;32m-> 1007\u001b[0;31m             \u001b[0;32mwhile\u001b[0m \u001b[0mself\u001b[0m\u001b[0;34m.\u001b[0m\u001b[0mdispatch_one_batch\u001b[0m\u001b[0;34m(\u001b[0m\u001b[0miterator\u001b[0m\u001b[0;34m)\u001b[0m\u001b[0;34m:\u001b[0m\u001b[0;34m\u001b[0m\u001b[0;34m\u001b[0m\u001b[0m\n\u001b[0m\u001b[1;32m   1008\u001b[0m                 \u001b[0;32mpass\u001b[0m\u001b[0;34m\u001b[0m\u001b[0;34m\u001b[0m\u001b[0m\n\u001b[1;32m   1009\u001b[0m \u001b[0;34m\u001b[0m\u001b[0m\n",
            "\u001b[0;32m/usr/local/lib/python3.6/dist-packages/joblib/parallel.py\u001b[0m in \u001b[0;36mdispatch_one_batch\u001b[0;34m(self, iterator)\u001b[0m\n\u001b[1;32m    833\u001b[0m                 \u001b[0;32mreturn\u001b[0m \u001b[0;32mFalse\u001b[0m\u001b[0;34m\u001b[0m\u001b[0;34m\u001b[0m\u001b[0m\n\u001b[1;32m    834\u001b[0m             \u001b[0;32melse\u001b[0m\u001b[0;34m:\u001b[0m\u001b[0;34m\u001b[0m\u001b[0;34m\u001b[0m\u001b[0m\n\u001b[0;32m--> 835\u001b[0;31m                 \u001b[0mself\u001b[0m\u001b[0;34m.\u001b[0m\u001b[0m_dispatch\u001b[0m\u001b[0;34m(\u001b[0m\u001b[0mtasks\u001b[0m\u001b[0;34m)\u001b[0m\u001b[0;34m\u001b[0m\u001b[0;34m\u001b[0m\u001b[0m\n\u001b[0m\u001b[1;32m    836\u001b[0m                 \u001b[0;32mreturn\u001b[0m \u001b[0;32mTrue\u001b[0m\u001b[0;34m\u001b[0m\u001b[0;34m\u001b[0m\u001b[0m\n\u001b[1;32m    837\u001b[0m \u001b[0;34m\u001b[0m\u001b[0m\n",
            "\u001b[0;32m/usr/local/lib/python3.6/dist-packages/joblib/parallel.py\u001b[0m in \u001b[0;36m_dispatch\u001b[0;34m(self, batch)\u001b[0m\n\u001b[1;32m    752\u001b[0m         \u001b[0;32mwith\u001b[0m \u001b[0mself\u001b[0m\u001b[0;34m.\u001b[0m\u001b[0m_lock\u001b[0m\u001b[0;34m:\u001b[0m\u001b[0;34m\u001b[0m\u001b[0;34m\u001b[0m\u001b[0m\n\u001b[1;32m    753\u001b[0m             \u001b[0mjob_idx\u001b[0m \u001b[0;34m=\u001b[0m \u001b[0mlen\u001b[0m\u001b[0;34m(\u001b[0m\u001b[0mself\u001b[0m\u001b[0;34m.\u001b[0m\u001b[0m_jobs\u001b[0m\u001b[0;34m)\u001b[0m\u001b[0;34m\u001b[0m\u001b[0;34m\u001b[0m\u001b[0m\n\u001b[0;32m--> 754\u001b[0;31m             \u001b[0mjob\u001b[0m \u001b[0;34m=\u001b[0m \u001b[0mself\u001b[0m\u001b[0;34m.\u001b[0m\u001b[0m_backend\u001b[0m\u001b[0;34m.\u001b[0m\u001b[0mapply_async\u001b[0m\u001b[0;34m(\u001b[0m\u001b[0mbatch\u001b[0m\u001b[0;34m,\u001b[0m \u001b[0mcallback\u001b[0m\u001b[0;34m=\u001b[0m\u001b[0mcb\u001b[0m\u001b[0;34m)\u001b[0m\u001b[0;34m\u001b[0m\u001b[0;34m\u001b[0m\u001b[0m\n\u001b[0m\u001b[1;32m    755\u001b[0m             \u001b[0;31m# A job can complete so quickly than its callback is\u001b[0m\u001b[0;34m\u001b[0m\u001b[0;34m\u001b[0m\u001b[0;34m\u001b[0m\u001b[0m\n\u001b[1;32m    756\u001b[0m             \u001b[0;31m# called before we get here, causing self._jobs to\u001b[0m\u001b[0;34m\u001b[0m\u001b[0;34m\u001b[0m\u001b[0;34m\u001b[0m\u001b[0m\n",
            "\u001b[0;32m/usr/local/lib/python3.6/dist-packages/joblib/_parallel_backends.py\u001b[0m in \u001b[0;36mapply_async\u001b[0;34m(self, func, callback)\u001b[0m\n\u001b[1;32m    207\u001b[0m     \u001b[0;32mdef\u001b[0m \u001b[0mapply_async\u001b[0m\u001b[0;34m(\u001b[0m\u001b[0mself\u001b[0m\u001b[0;34m,\u001b[0m \u001b[0mfunc\u001b[0m\u001b[0;34m,\u001b[0m \u001b[0mcallback\u001b[0m\u001b[0;34m=\u001b[0m\u001b[0;32mNone\u001b[0m\u001b[0;34m)\u001b[0m\u001b[0;34m:\u001b[0m\u001b[0;34m\u001b[0m\u001b[0;34m\u001b[0m\u001b[0m\n\u001b[1;32m    208\u001b[0m         \u001b[0;34m\"\"\"Schedule a func to be run\"\"\"\u001b[0m\u001b[0;34m\u001b[0m\u001b[0;34m\u001b[0m\u001b[0m\n\u001b[0;32m--> 209\u001b[0;31m         \u001b[0mresult\u001b[0m \u001b[0;34m=\u001b[0m \u001b[0mImmediateResult\u001b[0m\u001b[0;34m(\u001b[0m\u001b[0mfunc\u001b[0m\u001b[0;34m)\u001b[0m\u001b[0;34m\u001b[0m\u001b[0;34m\u001b[0m\u001b[0m\n\u001b[0m\u001b[1;32m    210\u001b[0m         \u001b[0;32mif\u001b[0m \u001b[0mcallback\u001b[0m\u001b[0;34m:\u001b[0m\u001b[0;34m\u001b[0m\u001b[0;34m\u001b[0m\u001b[0m\n\u001b[1;32m    211\u001b[0m             \u001b[0mcallback\u001b[0m\u001b[0;34m(\u001b[0m\u001b[0mresult\u001b[0m\u001b[0;34m)\u001b[0m\u001b[0;34m\u001b[0m\u001b[0;34m\u001b[0m\u001b[0m\n",
            "\u001b[0;32m/usr/local/lib/python3.6/dist-packages/joblib/_parallel_backends.py\u001b[0m in \u001b[0;36m__init__\u001b[0;34m(self, batch)\u001b[0m\n\u001b[1;32m    588\u001b[0m         \u001b[0;31m# Don't delay the application, to avoid keeping the input\u001b[0m\u001b[0;34m\u001b[0m\u001b[0;34m\u001b[0m\u001b[0;34m\u001b[0m\u001b[0m\n\u001b[1;32m    589\u001b[0m         \u001b[0;31m# arguments in memory\u001b[0m\u001b[0;34m\u001b[0m\u001b[0;34m\u001b[0m\u001b[0;34m\u001b[0m\u001b[0m\n\u001b[0;32m--> 590\u001b[0;31m         \u001b[0mself\u001b[0m\u001b[0;34m.\u001b[0m\u001b[0mresults\u001b[0m \u001b[0;34m=\u001b[0m \u001b[0mbatch\u001b[0m\u001b[0;34m(\u001b[0m\u001b[0;34m)\u001b[0m\u001b[0;34m\u001b[0m\u001b[0;34m\u001b[0m\u001b[0m\n\u001b[0m\u001b[1;32m    591\u001b[0m \u001b[0;34m\u001b[0m\u001b[0m\n\u001b[1;32m    592\u001b[0m     \u001b[0;32mdef\u001b[0m \u001b[0mget\u001b[0m\u001b[0;34m(\u001b[0m\u001b[0mself\u001b[0m\u001b[0;34m)\u001b[0m\u001b[0;34m:\u001b[0m\u001b[0;34m\u001b[0m\u001b[0;34m\u001b[0m\u001b[0m\n",
            "\u001b[0;32m/usr/local/lib/python3.6/dist-packages/joblib/parallel.py\u001b[0m in \u001b[0;36m__call__\u001b[0;34m(self)\u001b[0m\n\u001b[1;32m    254\u001b[0m         \u001b[0;32mwith\u001b[0m \u001b[0mparallel_backend\u001b[0m\u001b[0;34m(\u001b[0m\u001b[0mself\u001b[0m\u001b[0;34m.\u001b[0m\u001b[0m_backend\u001b[0m\u001b[0;34m,\u001b[0m \u001b[0mn_jobs\u001b[0m\u001b[0;34m=\u001b[0m\u001b[0mself\u001b[0m\u001b[0;34m.\u001b[0m\u001b[0m_n_jobs\u001b[0m\u001b[0;34m)\u001b[0m\u001b[0;34m:\u001b[0m\u001b[0;34m\u001b[0m\u001b[0;34m\u001b[0m\u001b[0m\n\u001b[1;32m    255\u001b[0m             return [func(*args, **kwargs)\n\u001b[0;32m--> 256\u001b[0;31m                     for func, args, kwargs in self.items]\n\u001b[0m\u001b[1;32m    257\u001b[0m \u001b[0;34m\u001b[0m\u001b[0m\n\u001b[1;32m    258\u001b[0m     \u001b[0;32mdef\u001b[0m \u001b[0m__len__\u001b[0m\u001b[0;34m(\u001b[0m\u001b[0mself\u001b[0m\u001b[0;34m)\u001b[0m\u001b[0;34m:\u001b[0m\u001b[0;34m\u001b[0m\u001b[0;34m\u001b[0m\u001b[0m\n",
            "\u001b[0;32m/usr/local/lib/python3.6/dist-packages/joblib/parallel.py\u001b[0m in \u001b[0;36m<listcomp>\u001b[0;34m(.0)\u001b[0m\n\u001b[1;32m    254\u001b[0m         \u001b[0;32mwith\u001b[0m \u001b[0mparallel_backend\u001b[0m\u001b[0;34m(\u001b[0m\u001b[0mself\u001b[0m\u001b[0;34m.\u001b[0m\u001b[0m_backend\u001b[0m\u001b[0;34m,\u001b[0m \u001b[0mn_jobs\u001b[0m\u001b[0;34m=\u001b[0m\u001b[0mself\u001b[0m\u001b[0;34m.\u001b[0m\u001b[0m_n_jobs\u001b[0m\u001b[0;34m)\u001b[0m\u001b[0;34m:\u001b[0m\u001b[0;34m\u001b[0m\u001b[0;34m\u001b[0m\u001b[0m\n\u001b[1;32m    255\u001b[0m             return [func(*args, **kwargs)\n\u001b[0;32m--> 256\u001b[0;31m                     for func, args, kwargs in self.items]\n\u001b[0m\u001b[1;32m    257\u001b[0m \u001b[0;34m\u001b[0m\u001b[0m\n\u001b[1;32m    258\u001b[0m     \u001b[0;32mdef\u001b[0m \u001b[0m__len__\u001b[0m\u001b[0;34m(\u001b[0m\u001b[0mself\u001b[0m\u001b[0;34m)\u001b[0m\u001b[0;34m:\u001b[0m\u001b[0;34m\u001b[0m\u001b[0;34m\u001b[0m\u001b[0m\n",
            "\u001b[0;32m/usr/local/lib/python3.6/dist-packages/sklearn/model_selection/_validation.py\u001b[0m in \u001b[0;36m_fit_and_score\u001b[0;34m(estimator, X, y, scorer, train, test, verbose, parameters, fit_params, return_train_score, return_parameters, return_n_test_samples, return_times, return_estimator, error_score)\u001b[0m\n\u001b[1;32m    513\u001b[0m             \u001b[0mestimator\u001b[0m\u001b[0;34m.\u001b[0m\u001b[0mfit\u001b[0m\u001b[0;34m(\u001b[0m\u001b[0mX_train\u001b[0m\u001b[0;34m,\u001b[0m \u001b[0;34m**\u001b[0m\u001b[0mfit_params\u001b[0m\u001b[0;34m)\u001b[0m\u001b[0;34m\u001b[0m\u001b[0;34m\u001b[0m\u001b[0m\n\u001b[1;32m    514\u001b[0m         \u001b[0;32melse\u001b[0m\u001b[0;34m:\u001b[0m\u001b[0;34m\u001b[0m\u001b[0;34m\u001b[0m\u001b[0m\n\u001b[0;32m--> 515\u001b[0;31m             \u001b[0mestimator\u001b[0m\u001b[0;34m.\u001b[0m\u001b[0mfit\u001b[0m\u001b[0;34m(\u001b[0m\u001b[0mX_train\u001b[0m\u001b[0;34m,\u001b[0m \u001b[0my_train\u001b[0m\u001b[0;34m,\u001b[0m \u001b[0;34m**\u001b[0m\u001b[0mfit_params\u001b[0m\u001b[0;34m)\u001b[0m\u001b[0;34m\u001b[0m\u001b[0;34m\u001b[0m\u001b[0m\n\u001b[0m\u001b[1;32m    516\u001b[0m \u001b[0;34m\u001b[0m\u001b[0m\n\u001b[1;32m    517\u001b[0m     \u001b[0;32mexcept\u001b[0m \u001b[0mException\u001b[0m \u001b[0;32mas\u001b[0m \u001b[0me\u001b[0m\u001b[0;34m:\u001b[0m\u001b[0;34m\u001b[0m\u001b[0;34m\u001b[0m\u001b[0m\n",
            "\u001b[0;32m/usr/local/lib/python3.6/dist-packages/sklearn/linear_model/_logistic.py\u001b[0m in \u001b[0;36mfit\u001b[0;34m(self, X, y, sample_weight)\u001b[0m\n\u001b[1;32m   1599\u001b[0m                       \u001b[0mpenalty\u001b[0m\u001b[0;34m=\u001b[0m\u001b[0mpenalty\u001b[0m\u001b[0;34m,\u001b[0m \u001b[0mmax_squared_sum\u001b[0m\u001b[0;34m=\u001b[0m\u001b[0mmax_squared_sum\u001b[0m\u001b[0;34m,\u001b[0m\u001b[0;34m\u001b[0m\u001b[0;34m\u001b[0m\u001b[0m\n\u001b[1;32m   1600\u001b[0m                       sample_weight=sample_weight)\n\u001b[0;32m-> 1601\u001b[0;31m             for class_, warm_start_coef_ in zip(classes_, warm_start_coef))\n\u001b[0m\u001b[1;32m   1602\u001b[0m \u001b[0;34m\u001b[0m\u001b[0m\n\u001b[1;32m   1603\u001b[0m         \u001b[0mfold_coefs_\u001b[0m\u001b[0;34m,\u001b[0m \u001b[0m_\u001b[0m\u001b[0;34m,\u001b[0m \u001b[0mn_iter_\u001b[0m \u001b[0;34m=\u001b[0m \u001b[0mzip\u001b[0m\u001b[0;34m(\u001b[0m\u001b[0;34m*\u001b[0m\u001b[0mfold_coefs_\u001b[0m\u001b[0;34m)\u001b[0m\u001b[0;34m\u001b[0m\u001b[0;34m\u001b[0m\u001b[0m\n",
            "\u001b[0;32m/usr/local/lib/python3.6/dist-packages/joblib/parallel.py\u001b[0m in \u001b[0;36m__call__\u001b[0;34m(self, iterable)\u001b[0m\n\u001b[1;32m   1002\u001b[0m             \u001b[0;31m# remaining jobs.\u001b[0m\u001b[0;34m\u001b[0m\u001b[0;34m\u001b[0m\u001b[0;34m\u001b[0m\u001b[0m\n\u001b[1;32m   1003\u001b[0m             \u001b[0mself\u001b[0m\u001b[0;34m.\u001b[0m\u001b[0m_iterating\u001b[0m \u001b[0;34m=\u001b[0m \u001b[0;32mFalse\u001b[0m\u001b[0;34m\u001b[0m\u001b[0;34m\u001b[0m\u001b[0m\n\u001b[0;32m-> 1004\u001b[0;31m             \u001b[0;32mif\u001b[0m \u001b[0mself\u001b[0m\u001b[0;34m.\u001b[0m\u001b[0mdispatch_one_batch\u001b[0m\u001b[0;34m(\u001b[0m\u001b[0miterator\u001b[0m\u001b[0;34m)\u001b[0m\u001b[0;34m:\u001b[0m\u001b[0;34m\u001b[0m\u001b[0;34m\u001b[0m\u001b[0m\n\u001b[0m\u001b[1;32m   1005\u001b[0m                 \u001b[0mself\u001b[0m\u001b[0;34m.\u001b[0m\u001b[0m_iterating\u001b[0m \u001b[0;34m=\u001b[0m \u001b[0mself\u001b[0m\u001b[0;34m.\u001b[0m\u001b[0m_original_iterator\u001b[0m \u001b[0;32mis\u001b[0m \u001b[0;32mnot\u001b[0m \u001b[0;32mNone\u001b[0m\u001b[0;34m\u001b[0m\u001b[0;34m\u001b[0m\u001b[0m\n\u001b[1;32m   1006\u001b[0m \u001b[0;34m\u001b[0m\u001b[0m\n",
            "\u001b[0;32m/usr/local/lib/python3.6/dist-packages/joblib/parallel.py\u001b[0m in \u001b[0;36mdispatch_one_batch\u001b[0;34m(self, iterator)\u001b[0m\n\u001b[1;32m    833\u001b[0m                 \u001b[0;32mreturn\u001b[0m \u001b[0;32mFalse\u001b[0m\u001b[0;34m\u001b[0m\u001b[0;34m\u001b[0m\u001b[0m\n\u001b[1;32m    834\u001b[0m             \u001b[0;32melse\u001b[0m\u001b[0;34m:\u001b[0m\u001b[0;34m\u001b[0m\u001b[0;34m\u001b[0m\u001b[0m\n\u001b[0;32m--> 835\u001b[0;31m                 \u001b[0mself\u001b[0m\u001b[0;34m.\u001b[0m\u001b[0m_dispatch\u001b[0m\u001b[0;34m(\u001b[0m\u001b[0mtasks\u001b[0m\u001b[0;34m)\u001b[0m\u001b[0;34m\u001b[0m\u001b[0;34m\u001b[0m\u001b[0m\n\u001b[0m\u001b[1;32m    836\u001b[0m                 \u001b[0;32mreturn\u001b[0m \u001b[0;32mTrue\u001b[0m\u001b[0;34m\u001b[0m\u001b[0;34m\u001b[0m\u001b[0m\n\u001b[1;32m    837\u001b[0m \u001b[0;34m\u001b[0m\u001b[0m\n",
            "\u001b[0;32m/usr/local/lib/python3.6/dist-packages/joblib/parallel.py\u001b[0m in \u001b[0;36m_dispatch\u001b[0;34m(self, batch)\u001b[0m\n\u001b[1;32m    752\u001b[0m         \u001b[0;32mwith\u001b[0m \u001b[0mself\u001b[0m\u001b[0;34m.\u001b[0m\u001b[0m_lock\u001b[0m\u001b[0;34m:\u001b[0m\u001b[0;34m\u001b[0m\u001b[0;34m\u001b[0m\u001b[0m\n\u001b[1;32m    753\u001b[0m             \u001b[0mjob_idx\u001b[0m \u001b[0;34m=\u001b[0m \u001b[0mlen\u001b[0m\u001b[0;34m(\u001b[0m\u001b[0mself\u001b[0m\u001b[0;34m.\u001b[0m\u001b[0m_jobs\u001b[0m\u001b[0;34m)\u001b[0m\u001b[0;34m\u001b[0m\u001b[0;34m\u001b[0m\u001b[0m\n\u001b[0;32m--> 754\u001b[0;31m             \u001b[0mjob\u001b[0m \u001b[0;34m=\u001b[0m \u001b[0mself\u001b[0m\u001b[0;34m.\u001b[0m\u001b[0m_backend\u001b[0m\u001b[0;34m.\u001b[0m\u001b[0mapply_async\u001b[0m\u001b[0;34m(\u001b[0m\u001b[0mbatch\u001b[0m\u001b[0;34m,\u001b[0m \u001b[0mcallback\u001b[0m\u001b[0;34m=\u001b[0m\u001b[0mcb\u001b[0m\u001b[0;34m)\u001b[0m\u001b[0;34m\u001b[0m\u001b[0;34m\u001b[0m\u001b[0m\n\u001b[0m\u001b[1;32m    755\u001b[0m             \u001b[0;31m# A job can complete so quickly than its callback is\u001b[0m\u001b[0;34m\u001b[0m\u001b[0;34m\u001b[0m\u001b[0;34m\u001b[0m\u001b[0m\n\u001b[1;32m    756\u001b[0m             \u001b[0;31m# called before we get here, causing self._jobs to\u001b[0m\u001b[0;34m\u001b[0m\u001b[0;34m\u001b[0m\u001b[0;34m\u001b[0m\u001b[0m\n",
            "\u001b[0;32m/usr/local/lib/python3.6/dist-packages/joblib/_parallel_backends.py\u001b[0m in \u001b[0;36mapply_async\u001b[0;34m(self, func, callback)\u001b[0m\n\u001b[1;32m    207\u001b[0m     \u001b[0;32mdef\u001b[0m \u001b[0mapply_async\u001b[0m\u001b[0;34m(\u001b[0m\u001b[0mself\u001b[0m\u001b[0;34m,\u001b[0m \u001b[0mfunc\u001b[0m\u001b[0;34m,\u001b[0m \u001b[0mcallback\u001b[0m\u001b[0;34m=\u001b[0m\u001b[0;32mNone\u001b[0m\u001b[0;34m)\u001b[0m\u001b[0;34m:\u001b[0m\u001b[0;34m\u001b[0m\u001b[0;34m\u001b[0m\u001b[0m\n\u001b[1;32m    208\u001b[0m         \u001b[0;34m\"\"\"Schedule a func to be run\"\"\"\u001b[0m\u001b[0;34m\u001b[0m\u001b[0;34m\u001b[0m\u001b[0m\n\u001b[0;32m--> 209\u001b[0;31m         \u001b[0mresult\u001b[0m \u001b[0;34m=\u001b[0m \u001b[0mImmediateResult\u001b[0m\u001b[0;34m(\u001b[0m\u001b[0mfunc\u001b[0m\u001b[0;34m)\u001b[0m\u001b[0;34m\u001b[0m\u001b[0;34m\u001b[0m\u001b[0m\n\u001b[0m\u001b[1;32m    210\u001b[0m         \u001b[0;32mif\u001b[0m \u001b[0mcallback\u001b[0m\u001b[0;34m:\u001b[0m\u001b[0;34m\u001b[0m\u001b[0;34m\u001b[0m\u001b[0m\n\u001b[1;32m    211\u001b[0m             \u001b[0mcallback\u001b[0m\u001b[0;34m(\u001b[0m\u001b[0mresult\u001b[0m\u001b[0;34m)\u001b[0m\u001b[0;34m\u001b[0m\u001b[0;34m\u001b[0m\u001b[0m\n",
            "\u001b[0;32m/usr/local/lib/python3.6/dist-packages/joblib/_parallel_backends.py\u001b[0m in \u001b[0;36m__init__\u001b[0;34m(self, batch)\u001b[0m\n\u001b[1;32m    588\u001b[0m         \u001b[0;31m# Don't delay the application, to avoid keeping the input\u001b[0m\u001b[0;34m\u001b[0m\u001b[0;34m\u001b[0m\u001b[0;34m\u001b[0m\u001b[0m\n\u001b[1;32m    589\u001b[0m         \u001b[0;31m# arguments in memory\u001b[0m\u001b[0;34m\u001b[0m\u001b[0;34m\u001b[0m\u001b[0;34m\u001b[0m\u001b[0m\n\u001b[0;32m--> 590\u001b[0;31m         \u001b[0mself\u001b[0m\u001b[0;34m.\u001b[0m\u001b[0mresults\u001b[0m \u001b[0;34m=\u001b[0m \u001b[0mbatch\u001b[0m\u001b[0;34m(\u001b[0m\u001b[0;34m)\u001b[0m\u001b[0;34m\u001b[0m\u001b[0;34m\u001b[0m\u001b[0m\n\u001b[0m\u001b[1;32m    591\u001b[0m \u001b[0;34m\u001b[0m\u001b[0m\n\u001b[1;32m    592\u001b[0m     \u001b[0;32mdef\u001b[0m \u001b[0mget\u001b[0m\u001b[0;34m(\u001b[0m\u001b[0mself\u001b[0m\u001b[0;34m)\u001b[0m\u001b[0;34m:\u001b[0m\u001b[0;34m\u001b[0m\u001b[0;34m\u001b[0m\u001b[0m\n",
            "\u001b[0;32m/usr/local/lib/python3.6/dist-packages/joblib/parallel.py\u001b[0m in \u001b[0;36m__call__\u001b[0;34m(self)\u001b[0m\n\u001b[1;32m    254\u001b[0m         \u001b[0;32mwith\u001b[0m \u001b[0mparallel_backend\u001b[0m\u001b[0;34m(\u001b[0m\u001b[0mself\u001b[0m\u001b[0;34m.\u001b[0m\u001b[0m_backend\u001b[0m\u001b[0;34m,\u001b[0m \u001b[0mn_jobs\u001b[0m\u001b[0;34m=\u001b[0m\u001b[0mself\u001b[0m\u001b[0;34m.\u001b[0m\u001b[0m_n_jobs\u001b[0m\u001b[0;34m)\u001b[0m\u001b[0;34m:\u001b[0m\u001b[0;34m\u001b[0m\u001b[0;34m\u001b[0m\u001b[0m\n\u001b[1;32m    255\u001b[0m             return [func(*args, **kwargs)\n\u001b[0;32m--> 256\u001b[0;31m                     for func, args, kwargs in self.items]\n\u001b[0m\u001b[1;32m    257\u001b[0m \u001b[0;34m\u001b[0m\u001b[0m\n\u001b[1;32m    258\u001b[0m     \u001b[0;32mdef\u001b[0m \u001b[0m__len__\u001b[0m\u001b[0;34m(\u001b[0m\u001b[0mself\u001b[0m\u001b[0;34m)\u001b[0m\u001b[0;34m:\u001b[0m\u001b[0;34m\u001b[0m\u001b[0;34m\u001b[0m\u001b[0m\n",
            "\u001b[0;32m/usr/local/lib/python3.6/dist-packages/joblib/parallel.py\u001b[0m in \u001b[0;36m<listcomp>\u001b[0;34m(.0)\u001b[0m\n\u001b[1;32m    254\u001b[0m         \u001b[0;32mwith\u001b[0m \u001b[0mparallel_backend\u001b[0m\u001b[0;34m(\u001b[0m\u001b[0mself\u001b[0m\u001b[0;34m.\u001b[0m\u001b[0m_backend\u001b[0m\u001b[0;34m,\u001b[0m \u001b[0mn_jobs\u001b[0m\u001b[0;34m=\u001b[0m\u001b[0mself\u001b[0m\u001b[0;34m.\u001b[0m\u001b[0m_n_jobs\u001b[0m\u001b[0;34m)\u001b[0m\u001b[0;34m:\u001b[0m\u001b[0;34m\u001b[0m\u001b[0;34m\u001b[0m\u001b[0m\n\u001b[1;32m    255\u001b[0m             return [func(*args, **kwargs)\n\u001b[0;32m--> 256\u001b[0;31m                     for func, args, kwargs in self.items]\n\u001b[0m\u001b[1;32m    257\u001b[0m \u001b[0;34m\u001b[0m\u001b[0m\n\u001b[1;32m    258\u001b[0m     \u001b[0;32mdef\u001b[0m \u001b[0m__len__\u001b[0m\u001b[0;34m(\u001b[0m\u001b[0mself\u001b[0m\u001b[0;34m)\u001b[0m\u001b[0;34m:\u001b[0m\u001b[0;34m\u001b[0m\u001b[0;34m\u001b[0m\u001b[0m\n",
            "\u001b[0;32m/usr/local/lib/python3.6/dist-packages/sklearn/linear_model/_logistic.py\u001b[0m in \u001b[0;36m_logistic_regression_path\u001b[0;34m(X, y, pos_class, Cs, fit_intercept, max_iter, tol, verbose, solver, coef, class_weight, dual, penalty, intercept_scaling, multi_class, random_state, check_input, max_squared_sum, sample_weight, l1_ratio)\u001b[0m\n\u001b[1;32m    975\u001b[0m                 \u001b[0mbeta\u001b[0m\u001b[0;34m,\u001b[0m \u001b[0mmax_iter\u001b[0m\u001b[0;34m,\u001b[0m \u001b[0mtol\u001b[0m\u001b[0;34m,\u001b[0m\u001b[0;34m\u001b[0m\u001b[0;34m\u001b[0m\u001b[0m\n\u001b[1;32m    976\u001b[0m                 \u001b[0mverbose\u001b[0m\u001b[0;34m,\u001b[0m \u001b[0mrandom_state\u001b[0m\u001b[0;34m,\u001b[0m \u001b[0;32mFalse\u001b[0m\u001b[0;34m,\u001b[0m \u001b[0mmax_squared_sum\u001b[0m\u001b[0;34m,\u001b[0m \u001b[0mwarm_start_sag\u001b[0m\u001b[0;34m,\u001b[0m\u001b[0;34m\u001b[0m\u001b[0;34m\u001b[0m\u001b[0m\n\u001b[0;32m--> 977\u001b[0;31m                 is_saga=(solver == 'saga'))\n\u001b[0m\u001b[1;32m    978\u001b[0m \u001b[0;34m\u001b[0m\u001b[0m\n\u001b[1;32m    979\u001b[0m         \u001b[0;32melse\u001b[0m\u001b[0;34m:\u001b[0m\u001b[0;34m\u001b[0m\u001b[0;34m\u001b[0m\u001b[0m\n",
            "\u001b[0;32m/usr/local/lib/python3.6/dist-packages/sklearn/linear_model/_sag.py\u001b[0m in \u001b[0;36msag_solver\u001b[0;34m(X, y, sample_weight, loss, alpha, beta, max_iter, tol, verbose, random_state, check_input, max_squared_sum, warm_start_mem, is_saga)\u001b[0m\n\u001b[1;32m    324\u001b[0m                             \u001b[0mintercept_decay\u001b[0m\u001b[0;34m,\u001b[0m\u001b[0;34m\u001b[0m\u001b[0;34m\u001b[0m\u001b[0m\n\u001b[1;32m    325\u001b[0m                             \u001b[0mis_saga\u001b[0m\u001b[0;34m,\u001b[0m\u001b[0;34m\u001b[0m\u001b[0;34m\u001b[0m\u001b[0m\n\u001b[0;32m--> 326\u001b[0;31m                             verbose)\n\u001b[0m\u001b[1;32m    327\u001b[0m \u001b[0;34m\u001b[0m\u001b[0m\n\u001b[1;32m    328\u001b[0m     \u001b[0;32mif\u001b[0m \u001b[0mn_iter_\u001b[0m \u001b[0;34m==\u001b[0m \u001b[0mmax_iter\u001b[0m\u001b[0;34m:\u001b[0m\u001b[0;34m\u001b[0m\u001b[0;34m\u001b[0m\u001b[0m\n",
            "\u001b[0;31mKeyboardInterrupt\u001b[0m: "
          ]
        }
      ]
    },
    {
      "cell_type": "code",
      "metadata": {
        "scrolled": true,
        "id": "ZDe7kLG7aDuC",
        "colab_type": "code",
        "outputId": "883bd992-6c67-4dd1-bd7e-88bb96bba135",
        "colab": {}
      },
      "source": [
        "print(opt_model.best_params_)\n"
      ],
      "execution_count": 0,
      "outputs": [
        {
          "output_type": "stream",
          "text": [
            "{'C': 1, 'solver': 'saga'}\n"
          ],
          "name": "stdout"
        }
      ]
    },
    {
      "cell_type": "code",
      "metadata": {
        "id": "D1PivymdaDuL",
        "colab_type": "code",
        "colab": {}
      },
      "source": [
        "# Calculate the prediction \n",
        "y_train_probs = learner1.predict_proba(X_train_v)[:,1] #probability prediction\n",
        "\n",
        "# Calculate the fpr, tpr, and thresholds for the training set\n",
        "train_fpr, train_tpr, thresholds = roc_curve(y_train_v, y_train_probs)\n",
        "\n",
        "# Calculate the probability scores of each point in the test set\n",
        "y_val_probs = learner1.predict_proba(X_val)[:,1]\n",
        "\n",
        "# Calculate the fpr, tpr, and thresholds for the test set\n",
        "val_fpr, val_tpr, val_thresholds = roc_curve(y_val, y_val_probs)"
      ],
      "execution_count": 0,
      "outputs": []
    },
    {
      "cell_type": "code",
      "metadata": {
        "id": "vWkBKdRnaDuO",
        "colab_type": "code",
        "outputId": "d402da44-1411-4ae9-f286-94d7b6efbd65",
        "colab": {}
      },
      "source": [
        "#training accuracy and roc model\n",
        "#print(\"Accuracy score:\", accuracy_score(y_train_v, y_train_probs))\n",
        "print(\"ROC model:\", roc_curve(y_train_v, y_train_probs))"
      ],
      "execution_count": 0,
      "outputs": [
        {
          "output_type": "stream",
          "text": [
            "ROC model: (array([0.        , 0.        , 0.        , ..., 0.98990702, 0.98990702,\n",
            "       1.        ]), array([0.00000000e+00, 5.18349575e-05, 1.96972838e-03, ...,\n",
            "       9.99948165e-01, 1.00000000e+00, 1.00000000e+00]), array([1.99977421e+00, 9.99774213e-01, 9.76481063e-01, ...,\n",
            "       5.70336829e-04, 5.70211632e-04, 1.49115302e-04]))\n"
          ],
          "name": "stdout"
        }
      ]
    },
    {
      "cell_type": "code",
      "metadata": {
        "id": "32GzwkgHaDuk",
        "colab_type": "code",
        "outputId": "47e45fdc-d822-44ff-8f7f-65427657c212",
        "colab": {
          "base_uri": "https://localhost:8080/",
          "height": 528
        }
      },
      "source": [
        "import matplotlib.pyplot as plt\n",
        "import seaborn as sns\n",
        "%matplotlib inline\n",
        "\n",
        "# Seaborn's beautiful styling\n",
        "sns.set_style('darkgrid', {'axes.facecolor': '0.9'})\n",
        "\n",
        "# ROC curve for training set\n",
        "plt.figure(figsize=(10, 8))\n",
        "lw = 2\n",
        "plt.plot(train_fpr, train_tpr, color='darkorange',\n",
        "         lw=lw, label='ROC curve')\n",
        "plt.plot([0, 1], [0, 1], color='navy', lw=lw, linestyle='--')\n",
        "plt.xlim([0.0, 1.0])\n",
        "plt.ylim([0.0, 1.05])\n",
        "plt.yticks([i/20.0 for i in range(21)])\n",
        "plt.xticks([i/20.0 for i in range(21)])\n",
        "plt.xlabel('False Positive Rate')\n",
        "plt.ylabel('True Positive Rate')\n",
        "plt.title('Receiver operating characteristic (ROC) Curve for Training Set')\n",
        "plt.legend(loc='lower right')\n",
        "print('Training AUC: {}'.format(auc(train_fpr, train_tpr)))\n",
        "plt.show()"
      ],
      "execution_count": 0,
      "outputs": [
        {
          "output_type": "stream",
          "text": [
            "Training AUC: 0.8263727633031939\n"
          ],
          "name": "stdout"
        },
        {
          "output_type": "display_data",
          "data": {
            "image/png": "[encoded data removed]",
            "text/plain": [
              "<Figure size 720x576 with 1 Axes>"
            ]
          },
          "metadata": {
            "tags": []
          }
        }
      ]
    },
    {
      "cell_type": "code",
      "metadata": {
        "id": "KdUYF4uN9kBz",
        "colab_type": "code",
        "outputId": "68d45c7f-802b-4d7e-84f0-432910585f58",
        "colab": {
          "base_uri": "https://localhost:8080/",
          "height": 163
        }
      },
      "source": [
        "print(classification_report(y_val, learner1.predict(X_val)))"
      ],
      "execution_count": 0,
      "outputs": [
        {
          "output_type": "stream",
          "text": [
            "              precision    recall  f1-score   support\n",
            "\n",
            "           0       0.80      0.61      0.69      4096\n",
            "           1       0.73      0.87      0.79      4814\n",
            "\n",
            "    accuracy                           0.75      8910\n",
            "   macro avg       0.76      0.74      0.74      8910\n",
            "weighted avg       0.76      0.75      0.75      8910\n",
            "\n"
          ],
          "name": "stdout"
        }
      ]
    },
    {
      "cell_type": "code",
      "metadata": {
        "id": "y-UG6bdPaDuo",
        "colab_type": "code",
        "outputId": "4f95593a-7031-4308-a14a-ab64d8667c20",
        "colab": {
          "base_uri": "https://localhost:8080/",
          "height": 131
        }
      },
      "source": [
        "#validation roc_model and accuracy score\n",
        "y_val_probs = learner1.predict_proba(X_val)[:,1]\n",
        "#print(\"Accuracy score:\", accuracy_score(y_val, y_val_probs))\n",
        "print(\"ROC model:\", roc_curve(y_val, y_val_probs))\n",
        "print(\"TPR:\", tpr)\n",
        "print(\"FPR:\", fpr)"
      ],
      "execution_count": 0,
      "outputs": [
        {
          "output_type": "stream",
          "text": [
            "ROC model: (array([0.        , 0.        , 0.        , ..., 0.99951172, 0.99951172,\n",
            "       1.        ]), array([0.00000000e+00, 2.07727462e-04, 8.30909846e-04, ...,\n",
            "       9.99792273e-01, 1.00000000e+00, 1.00000000e+00]), array([1.99999995e+00, 9.99999951e-01, 9.98182307e-01, ...,\n",
            "       2.30887511e-04, 2.09796553e-04, 1.66250180e-04]))\n",
            "TPR: [0.00000000e+00 5.18349575e-05 3.62844702e-04 ... 9.99948165e-01\n",
            " 1.00000000e+00 1.00000000e+00]\n",
            "FPR: [0.         0.         0.         ... 0.99455591 0.99455591 1.        ]\n"
          ],
          "name": "stdout"
        }
      ]
    },
    {
      "cell_type": "code",
      "metadata": {
        "id": "8xTc61tLaDuq",
        "colab_type": "code",
        "outputId": "ae3a4ff0-a14d-47b3-a6bf-8dc1ec9c06f0",
        "colab": {
          "base_uri": "https://localhost:8080/",
          "height": 82
        }
      },
      "source": [
        "#calculate fm score, need to consider the cost of our mistakes in our threshold selection\n",
        "#calculate m, so need to calculate prevalence and cost of each of the confusion matrix\n",
        "prevalence = y_val.sum()/len(y_val)\n",
        "print(\"Prevalence:\", prevalence)\n",
        "FP = 57\n",
        "TN = 0\n",
        "FN = 2250 #dialed it back\n",
        "TP = 1600\n",
        "#cost of pump when it is fine TN 0 https://www.zoomtanzania.com/pumps-pressure-gauges costs 1600 for a pump\n",
        "#cost of pump when it is broken and it's true TP between £1600 but a total of https://bit.ly/2wKUDPB \n",
        "#cost of pump when its broken and said it is fine FN 75*30,000 #although the economic impact here is far greater \n",
        "#cost of pump when it is not broken and but we say it is, FP £57 on the assumption foreign/aid workers travel to repair pumps https://bit.ly/3abN5TK\n",
        "m = ((1 - prevalence)/prevalence)* ((FP - TN)/(FN-TP))\n",
        "print(\"M:\", m)\n",
        "fm = val_tpr -m*val_fpr\n",
        "print(\"Fm:\", fm)"
      ],
      "execution_count": 0,
      "outputs": [
        {
          "output_type": "stream",
          "text": [
            "Prevalence: 0.5402918069584737\n",
            "M: 0.07461314755041384\n",
            "Fm: [0.00000000e+00 2.07727462e-04 8.30909846e-04 ... 9.25215557e-01\n",
            " 9.25423285e-01 9.25386852e-01]\n"
          ],
          "name": "stdout"
        }
      ]
    },
    {
      "cell_type": "code",
      "metadata": {
        "id": "eCXwuu1WuLeS",
        "colab_type": "code",
        "outputId": "a51acb57-60cb-4ba5-8903-035d0f6fd5e5",
        "colab": {
          "base_uri": "https://localhost:8080/",
          "height": 50
        }
      },
      "source": [
        "val_thresholds"
      ],
      "execution_count": 0,
      "outputs": [
        {
          "output_type": "execute_result",
          "data": {
            "text/plain": [
              "array([1.99999995e+00, 9.99999951e-01, 9.98182307e-01, ...,\n",
              "       2.30887511e-04, 2.09796553e-04, 1.66250180e-04])"
            ]
          },
          "metadata": {
            "tags": []
          },
          "execution_count": 79
        }
      ]
    },
    {
      "cell_type": "code",
      "metadata": {
        "id": "Qj_cnUf4uiaJ",
        "colab_type": "code",
        "outputId": "c4c0ee8a-23e1-46fc-cbdf-e8488ce30728",
        "colab": {
          "base_uri": "https://localhost:8080/",
          "height": 391
        }
      },
      "source": [
        "df_fm = pd.DataFrame(data=fm, columns=['FM'])\n",
        "df_fm['Threshold'] = val_thresholds\n",
        "df_fm.sort_values('FM', ascending=False)\n"
      ],
      "execution_count": 0,
      "outputs": [
        {
          "output_type": "execute_result",
          "data": {
            "text/html": [
              "<div>\n",
              "<style scoped>\n",
              "    .dataframe tbody tr th:only-of-type {\n",
              "        vertical-align: middle;\n",
              "    }\n",
              "\n",
              "    .dataframe tbody tr th {\n",
              "        vertical-align: top;\n",
              "    }\n",
              "\n",
              "    .dataframe thead th {\n",
              "        text-align: right;\n",
              "    }\n",
              "</style>\n",
              "<table border=\"1\" class=\"dataframe\">\n",
              "  <thead>\n",
              "    <tr style=\"text-align: right;\">\n",
              "      <th></th>\n",
              "      <th>FM</th>\n",
              "      <th>Threshold</th>\n",
              "    </tr>\n",
              "  </thead>\n",
              "  <tbody>\n",
              "    <tr>\n",
              "      <th>2830</th>\n",
              "      <td>0.939888</td>\n",
              "      <td>0.095598</td>\n",
              "    </tr>\n",
              "    <tr>\n",
              "      <th>2828</th>\n",
              "      <td>0.939717</td>\n",
              "      <td>0.095661</td>\n",
              "    </tr>\n",
              "    <tr>\n",
              "      <th>2829</th>\n",
              "      <td>0.939680</td>\n",
              "      <td>0.095598</td>\n",
              "    </tr>\n",
              "    <tr>\n",
              "      <th>2826</th>\n",
              "      <td>0.939546</td>\n",
              "      <td>0.096215</td>\n",
              "    </tr>\n",
              "    <tr>\n",
              "      <th>2827</th>\n",
              "      <td>0.939509</td>\n",
              "      <td>0.095823</td>\n",
              "    </tr>\n",
              "    <tr>\n",
              "      <th>...</th>\n",
              "      <td>...</td>\n",
              "      <td>...</td>\n",
              "    </tr>\n",
              "    <tr>\n",
              "      <th>5</th>\n",
              "      <td>0.002872</td>\n",
              "      <td>0.972088</td>\n",
              "    </tr>\n",
              "    <tr>\n",
              "      <th>2</th>\n",
              "      <td>0.000831</td>\n",
              "      <td>0.998182</td>\n",
              "    </tr>\n",
              "    <tr>\n",
              "      <th>3</th>\n",
              "      <td>0.000813</td>\n",
              "      <td>0.996241</td>\n",
              "    </tr>\n",
              "    <tr>\n",
              "      <th>1</th>\n",
              "      <td>0.000208</td>\n",
              "      <td>1.000000</td>\n",
              "    </tr>\n",
              "    <tr>\n",
              "      <th>0</th>\n",
              "      <td>0.000000</td>\n",
              "      <td>2.000000</td>\n",
              "    </tr>\n",
              "  </tbody>\n",
              "</table>\n",
              "<p>2896 rows × 2 columns</p>\n",
              "</div>"
            ],
            "text/plain": [
              "            FM  Threshold\n",
              "2830  0.939888   0.095598\n",
              "2828  0.939717   0.095661\n",
              "2829  0.939680   0.095598\n",
              "2826  0.939546   0.096215\n",
              "2827  0.939509   0.095823\n",
              "...        ...        ...\n",
              "5     0.002872   0.972088\n",
              "2     0.000831   0.998182\n",
              "3     0.000813   0.996241\n",
              "1     0.000208   1.000000\n",
              "0     0.000000   2.000000\n",
              "\n",
              "[2896 rows x 2 columns]"
            ]
          },
          "metadata": {
            "tags": []
          },
          "execution_count": 80
        }
      ]
    },
    {
      "cell_type": "code",
      "metadata": {
        "id": "4z4Uf2LHztww",
        "colab_type": "code",
        "colab": {}
      },
      "source": [
        "predictions_val = np.where(y_val_probs > 0.095598, 1, 0) #generating what is 0 and 1 to get predictions"
      ],
      "execution_count": 0,
      "outputs": []
    },
    {
      "cell_type": "code",
      "metadata": {
        "id": "CNXt_5Jp0o7N",
        "colab_type": "code",
        "outputId": "7f546d04-33df-411a-e72a-b7d97b18d501",
        "colab": {
          "base_uri": "https://localhost:8080/",
          "height": 50
        }
      },
      "source": [
        "from sklearn.metrics import confusion_matrix\n",
        "confusion_matrix(y_val, predictions_val)\n",
        "#here the confusion matrix is inverted, the TN is 1218 and the Tp is 4776. This shows that our highest performing model is not very accurate\n"
      ],
      "execution_count": 0,
      "outputs": [
        {
          "output_type": "execute_result",
          "data": {
            "text/plain": [
              "array([[1218, 2878],\n",
              "       [  38, 4776]])"
            ]
          },
          "metadata": {
            "tags": []
          },
          "execution_count": 85
        }
      ]
    },
    {
      "cell_type": "code",
      "metadata": {
        "id": "PsZr7EBYaDus",
        "colab_type": "code",
        "outputId": "3ce835f6-89e8-40e2-daea-69075ca9e858",
        "colab": {
          "base_uri": "https://localhost:8080/",
          "height": 528
        }
      },
      "source": [
        "#printing the validation set insights\n",
        "sns.set_style('darkgrid', {'axes.facecolor': '0.9'})\n",
        "\n",
        "# ROC curve for training set\n",
        "plt.figure(figsize=(10, 8))\n",
        "lw = 2\n",
        "plt.plot(val_fpr, val_tpr, color='darkorange',\n",
        "         lw=lw, label='ROC curve')\n",
        "plt.plot([0, 1], [0, 1], color='navy', lw=lw, linestyle='--')\n",
        "plt.xlim([0.0, 1.0])\n",
        "plt.ylim([0.0, 1.05])\n",
        "plt.yticks([i/20.0 for i in range(21)])\n",
        "plt.xticks([i/20.0 for i in range(21)])\n",
        "plt.xlabel('False Positive Rate')\n",
        "plt.ylabel('True Positive Rate')\n",
        "plt.title('Receiver operating characteristic (ROC) Curve for Validation Set')\n",
        "plt.legend(loc='lower right')\n",
        "print('Validation AUC: {}'.format(auc(val_fpr, val_tpr)))\n",
        "plt.show()"
      ],
      "execution_count": 0,
      "outputs": [
        {
          "output_type": "stream",
          "text": [
            "Validation AUC: 0.823903507348359\n"
          ],
          "name": "stdout"
        },
        {
          "output_type": "display_data",
          "data": {
            "image/png": "[encoded data removed]",
            "text/plain": [
              "<Figure size 720x576 with 1 Axes>"
            ]
          },
          "metadata": {
            "tags": []
          }
        }
      ]
    },
    {
      "cell_type": "code",
      "metadata": {
        "id": "Kp84U1Q4uJ7S",
        "colab_type": "code",
        "colab": {}
      },
      "source": [
        ""
      ],
      "execution_count": 0,
      "outputs": []
    },
    {
      "cell_type": "code",
      "metadata": {
        "id": "Ne3W8R4GaDu2",
        "colab_type": "code",
        "colab": {}
      },
      "source": [
        "#"
      ],
      "execution_count": 0,
      "outputs": []
    },
    {
      "cell_type": "markdown",
      "metadata": {
        "id": "z3exyo_laDu4",
        "colab_type": "text"
      },
      "source": [
        "# DecisionTrees, Learner 2"
      ]
    },
    {
      "cell_type": "code",
      "metadata": {
        "id": "hI4L1yneaDu6",
        "colab_type": "code",
        "colab": {}
      },
      "source": [
        "from sklearn.tree import DecisionTreeClassifier\n",
        "learner2 = DecisionTreeClassifier(max_iter =1000, random_state=42)\n",
        "learner2.fit(X_train,y_train)"
      ],
      "execution_count": 0,
      "outputs": []
    },
    {
      "cell_type": "code",
      "metadata": {
        "id": "S9UZdOohaDvH",
        "colab_type": "code",
        "colab": {}
      },
      "source": [
        "#add gridsearch"
      ],
      "execution_count": 0,
      "outputs": []
    },
    {
      "cell_type": "markdown",
      "metadata": {
        "id": "IpUbgEfZaDvW",
        "colab_type": "text"
      },
      "source": [
        "Here I am taking in my second learner model. It is a decision tree classifier."
      ]
    },
    {
      "cell_type": "code",
      "metadata": {
        "id": "6sn8Hlu-aDvd",
        "colab_type": "code",
        "colab": {}
      },
      "source": [
        "y_train_probs_dt = learner2.predict_proba(X_train)[:,1] #probability prediction\n",
        "\n",
        "# Calculate the fpr, tpr, and thresholds for the training set\n",
        "train_fpr, train_tpr, thresholds = roc_curve(y_train_v, y_train_probs_dt)\n",
        "\n",
        "# Calculate the probability scores of each point in the test set\n",
        "y_val_probs_dt = learner2.predict_proba(X_val)[:,1]\n",
        "\n",
        "# Calculate the fpr, tpr, and thresholds for the test set\n",
        "val_fpr, val_tpr, val_thresholds = roc_curve(y_val, y_val_probs_dt)\n",
        "print(auc(fpr, tpr))"
      ],
      "execution_count": 0,
      "outputs": []
    },
    {
      "cell_type": "code",
      "metadata": {
        "id": "BBTh9goQaDvh",
        "colab_type": "code",
        "colab": {}
      },
      "source": [
        "#Validation set\n",
        "print(\"Accuracy score:\", accuracy_score(y_val, y_val_probs_dt))\n",
        "print(\"ROC model:\", roc_curve(y_val, y_val_probs_dt))"
      ],
      "execution_count": 0,
      "outputs": []
    },
    {
      "cell_type": "code",
      "metadata": {
        "id": "3LkPmpgNaDwM",
        "colab_type": "code",
        "colab": {}
      },
      "source": [
        "# ROC curve for training set\n",
        "plt.figure(figsize=(10, 8))\n",
        "lw = 2\n",
        "plt.plot(train_fpr, train_tpr, color='darkorange',\n",
        "         lw=lw, label='ROC curve')\n",
        "plt.plot([0, 1], [0, 1], color='navy', lw=lw, linestyle='--')\n",
        "plt.xlim([0.0, 1.0])\n",
        "plt.ylim([0.0, 1.05])\n",
        "plt.yticks([i/20.0 for i in range(21)])\n",
        "plt.xticks([i/20.0 for i in range(21)])\n",
        "plt.xlabel('False Positive Rate')\n",
        "plt.ylabel('True Positive Rate')\n",
        "plt.title('Receiver operating characteristic (ROC) Curve for Training Set')\n",
        "plt.legend(loc='lower right')\n",
        "print('Training AUC: {}'.format(auc(train_fpr, train_tpr)))\n",
        "plt.show()"
      ],
      "execution_count": 0,
      "outputs": []
    },
    {
      "cell_type": "code",
      "metadata": {
        "id": "MPrbOfL-aDxQ",
        "colab_type": "code",
        "colab": {}
      },
      "source": [
        "#did not have time to do a gridsearch here"
      ],
      "execution_count": 0,
      "outputs": []
    },
    {
      "cell_type": "code",
      "metadata": {
        "id": "L8ClwbL9aDxf",
        "colab_type": "code",
        "colab": {}
      },
      "source": [
        ""
      ],
      "execution_count": 0,
      "outputs": []
    },
    {
      "cell_type": "markdown",
      "metadata": {
        "id": "6UVJoeCUaDxn",
        "colab_type": "text"
      },
      "source": [
        "# Learner 3: XGBoost"
      ]
    },
    {
      "cell_type": "code",
      "metadata": {
        "id": "BRCFJiiZaDxu",
        "colab_type": "code",
        "colab": {}
      },
      "source": [
        "import xgboost as xgb\n",
        "import numpy as np\n",
        "import matplotlib.pyplot as plt\n",
        "from sklearn.preprocessing import StandardScaler\n",
        "from sklearn.model_selection import GridSearchCV\n",
        "from sklearn.externals.joblib import parallel_backend\n",
        "import warnings\n",
        "warnings.filterwarnings('ignore')\n",
        "%matplotlib inline"
      ],
      "execution_count": 0,
      "outputs": []
    },
    {
      "cell_type": "code",
      "metadata": {
        "id": "8Z7isKnZaDx9",
        "colab_type": "code",
        "colab": {}
      },
      "source": [
        "#small_data = data.sample(frac=0.1, replace=True, random_state=1)\n",
        "X_trainv_small, x_val_small, y_trainv_small, y_val_small = train_test_split(X_train_v, y_train_v, test_size=.2, random_state=1)\n",
        "\n",
        "#y_val = y_val['functional']\n",
        "#y_train = y_train['functional']\n",
        "#y_train_v = y_train_v['functional']\n"
      ],
      "execution_count": 0,
      "outputs": []
    },
    {
      "cell_type": "code",
      "metadata": {
        "id": "6FMH5dXZaDyU",
        "colab_type": "code",
        "colab": {}
      },
      "source": [
        "# scaler = StandardScaler()\n",
        "# x_trainv_scaled = scaler.fit_transform(X_train_v)[:,1]\n"
      ],
      "execution_count": 0,
      "outputs": []
    },
    {
      "cell_type": "code",
      "metadata": {
        "scrolled": true,
        "id": "PgegE2xNaDyX",
        "colab_type": "code",
        "outputId": "a4aa47fe-d487-44c4-aa4b-7c0f6f3ad61e",
        "colab": {}
      },
      "source": [
        "X_trainv_small.shape"
      ],
      "execution_count": 0,
      "outputs": [
        {
          "output_type": "execute_result",
          "data": {
            "text/plain": [
              "(28512, 103)"
            ]
          },
          "metadata": {
            "tags": []
          },
          "execution_count": 351
        }
      ]
    },
    {
      "cell_type": "code",
      "metadata": {
        "id": "UWDQhWTXaDyk",
        "colab_type": "code",
        "outputId": "af65351f-8c44-4b43-85ea-9e4a18f5dc24",
        "colab": {}
      },
      "source": [
        "y_trainv_small.shape"
      ],
      "execution_count": 0,
      "outputs": [
        {
          "output_type": "execute_result",
          "data": {
            "text/plain": [
              "(28512,)"
            ]
          },
          "metadata": {
            "tags": []
          },
          "execution_count": 352
        }
      ]
    },
    {
      "cell_type": "code",
      "metadata": {
        "id": "m5lNcyk8aDyy",
        "colab_type": "code",
        "colab": {}
      },
      "source": [
        "#there is about 50k+ i need to make my gridsearchCV quick and easy to run so \n",
        "#i will take a sample from my x_train_v\n",
        "# x_sample_train_v,y_sample_train_v, x_sample, y_sample = train_test_split(X_train_v, y_train_v, test_size=.7, random_state=1)\n",
        "# y_sample_train_v = y_sample['functional']\n",
        "# y_sample = y_sample['functional']\n",
        "\n"
      ],
      "execution_count": 0,
      "outputs": []
    },
    {
      "cell_type": "code",
      "metadata": {
        "id": "mdCWBDzoaDy1",
        "colab_type": "code",
        "outputId": "cc4d2e37-1695-47e3-e8e5-078dccda1ef7",
        "colab": {}
      },
      "source": [
        "learner3 = xgb.XGBClassifier(max_iter=1000,random_state=0)\n",
        "learner3.fit(X_trainv_small, y_trainv_small)\n",
        "training_probs = learner3.predict_proba(X_trainv_small)[:,1]\n",
        "roc_training_auc = roc_auc_score(y_trainv_small, training_preds)\n",
        "\n",
        "print(\"Training ROC Auc: {:.4}%\".format(roc_training_auc * 100))\n"
      ],
      "execution_count": 0,
      "outputs": [
        {
          "output_type": "stream",
          "text": [
            "Training ROC Auc: 84.79%\n"
          ],
          "name": "stdout"
        }
      ]
    },
    {
      "cell_type": "code",
      "metadata": {
        "id": "JXEg_MOpaDy3",
        "colab_type": "code",
        "outputId": "18c2905a-825a-4323-f45f-5978ad01290c",
        "colab": {}
      },
      "source": [
        "type(xgb)"
      ],
      "execution_count": 0,
      "outputs": [
        {
          "output_type": "execute_result",
          "data": {
            "text/plain": [
              "module"
            ]
          },
          "metadata": {
            "tags": []
          },
          "execution_count": 355
        }
      ]
    },
    {
      "cell_type": "code",
      "metadata": {
        "id": "-6__KMNpaDy4",
        "colab_type": "code",
        "colab": {}
      },
      "source": [
        "#time for hyper parameter optimisation on XGBoost\n",
        "#lets start with a paramgrid\n",
        "param_grid_l3 = {\n",
        "    \"learning_rate\": [100],\n",
        "    'max_depth': [5,10],\n",
        "    'min_child_weight': [5,10],\n",
        "    'n_estimators': [30, 100],\n",
        "}"
      ],
      "execution_count": 0,
      "outputs": []
    },
    {
      "cell_type": "code",
      "metadata": {
        "id": "2hw_RJmMaDzD",
        "colab_type": "code",
        "outputId": "1aba7c95-3f07-4619-8ffa-71e7df0afe19",
        "colab": {}
      },
      "source": [
        "# grid_scv = GridSearchCV(learner3, param_grid_l3, scoring='accuracy')\n",
        "grid_scv = GridSearchCV(estimator=learner3, param_grid=param_grid_l3,cv=skf, scoring='roc_auc', verbose=1)\n",
        "grid_scv.fit(x_val_small, y_val_small)\n",
        "\n",
        "best_model = grid_scv.best_estimator_\n",
        "print(grid_scv.best_params_)\n",
        "print(grid_scv.best_score_)\n",
        "\n",
        "#best_parameters = grid_scv.best_params_"
      ],
      "execution_count": 0,
      "outputs": [
        {
          "output_type": "stream",
          "text": [
            "Fitting 3 folds for each of 8 candidates, totalling 24 fits\n"
          ],
          "name": "stdout"
        },
        {
          "output_type": "stream",
          "text": [
            "[Parallel(n_jobs=1)]: Using backend SequentialBackend with 1 concurrent workers.\n",
            "[Parallel(n_jobs=1)]: Done  24 out of  24 | elapsed:   23.6s finished\n"
          ],
          "name": "stderr"
        },
        {
          "output_type": "stream",
          "text": [
            "{'learning_rate': 100, 'max_depth': 5, 'min_child_weight': 5, 'n_estimators': 30}\n",
            "0.5\n"
          ],
          "name": "stdout"
        }
      ]
    },
    {
      "cell_type": "code",
      "metadata": {
        "scrolled": true,
        "id": "HtqmEg8TaDz1",
        "colab_type": "code",
        "outputId": "9fe78856-5752-45d0-d433-0cd99267baea",
        "colab": {}
      },
      "source": [
        "print(\"Grid Search found the following optimal parameters: \")\n",
        "for param_name in sorted(best_parameters.keys()):\n",
        "    print(\"%s: %r\" % (param_name, best_parameters[param_name]))\n",
        "\n",
        "training_preds = grid_scv.predict(X_train)\n",
        "training_accuracy = accuracy_score(y_train, training_preds)\n",
        "val_preds = grid_scv.predict(X_test)\n",
        "val_accuracy = accuracy_score(y_test, val_preds)\n",
        "\n",
        "print(\"\")\n",
        "print(\"Training Accuracy: {:.4}%\".format(training_accuracy * 100))\n",
        "print(\"Validation accuracy: {:.4}%\".format(val_accuracy * 100))"
      ],
      "execution_count": 0,
      "outputs": [
        {
          "output_type": "stream",
          "text": [
            "Grid Search found the following optimal parameters: \n"
          ],
          "name": "stdout"
        },
        {
          "output_type": "error",
          "ename": "NameError",
          "evalue": "name 'best_parameters' is not defined",
          "traceback": [
            "\u001b[0;31m---------------------------------------------------------------------------\u001b[0m",
            "\u001b[0;31mNameError\u001b[0m                                 Traceback (most recent call last)",
            "\u001b[0;32m<ipython-input-365-df54e997cebd>\u001b[0m in \u001b[0;36m<module>\u001b[0;34m\u001b[0m\n\u001b[1;32m      1\u001b[0m \u001b[0mprint\u001b[0m\u001b[0;34m(\u001b[0m\u001b[0;34m\"Grid Search found the following optimal parameters: \"\u001b[0m\u001b[0;34m)\u001b[0m\u001b[0;34m\u001b[0m\u001b[0;34m\u001b[0m\u001b[0m\n\u001b[0;32m----> 2\u001b[0;31m \u001b[0;32mfor\u001b[0m \u001b[0mparam_name\u001b[0m \u001b[0;32min\u001b[0m \u001b[0msorted\u001b[0m\u001b[0;34m(\u001b[0m\u001b[0mbest_parameters\u001b[0m\u001b[0;34m.\u001b[0m\u001b[0mkeys\u001b[0m\u001b[0;34m(\u001b[0m\u001b[0;34m)\u001b[0m\u001b[0;34m)\u001b[0m\u001b[0;34m:\u001b[0m\u001b[0;34m\u001b[0m\u001b[0;34m\u001b[0m\u001b[0m\n\u001b[0m\u001b[1;32m      3\u001b[0m     \u001b[0mprint\u001b[0m\u001b[0;34m(\u001b[0m\u001b[0;34m\"%s: %r\"\u001b[0m \u001b[0;34m%\u001b[0m \u001b[0;34m(\u001b[0m\u001b[0mparam_name\u001b[0m\u001b[0;34m,\u001b[0m \u001b[0mbest_parameters\u001b[0m\u001b[0;34m[\u001b[0m\u001b[0mparam_name\u001b[0m\u001b[0;34m]\u001b[0m\u001b[0;34m)\u001b[0m\u001b[0;34m)\u001b[0m\u001b[0;34m\u001b[0m\u001b[0;34m\u001b[0m\u001b[0m\n\u001b[1;32m      4\u001b[0m \u001b[0;34m\u001b[0m\u001b[0m\n\u001b[1;32m      5\u001b[0m \u001b[0mtraining_preds\u001b[0m \u001b[0;34m=\u001b[0m \u001b[0mgrid_scv\u001b[0m\u001b[0;34m.\u001b[0m\u001b[0mpredict\u001b[0m\u001b[0;34m(\u001b[0m\u001b[0mX_train\u001b[0m\u001b[0;34m)\u001b[0m\u001b[0;34m\u001b[0m\u001b[0;34m\u001b[0m\u001b[0m\n",
            "\u001b[0;31mNameError\u001b[0m: name 'best_parameters' is not defined"
          ]
        }
      ]
    },
    {
      "cell_type": "code",
      "metadata": {
        "id": "7XooSUJ3aDz5",
        "colab_type": "code",
        "colab": {}
      },
      "source": [
        ""
      ],
      "execution_count": 0,
      "outputs": []
    },
    {
      "cell_type": "code",
      "metadata": {
        "id": "mkefeOXmaD0Z",
        "colab_type": "code",
        "colab": {}
      },
      "source": [
        ""
      ],
      "execution_count": 0,
      "outputs": []
    }
  ]
}