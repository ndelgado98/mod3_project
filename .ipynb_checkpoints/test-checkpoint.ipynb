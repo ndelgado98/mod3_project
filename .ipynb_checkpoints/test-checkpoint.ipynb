{
 "cells": [
  {
   "cell_type": "code",
   "execution_count": 2,
   "metadata": {},
   "outputs": [],
   "source": [
    "import pandas as pd\n",
    "import numpy as np\n",
    "import matplotlib.pyplot as plt\n",
    "%matplotlib inline"
   ]
  },
  {
   "cell_type": "code",
   "execution_count": 13,
   "metadata": {},
   "outputs": [
    {
     "name": "stdout",
     "output_type": "stream",
     "text": [
      "<class 'pandas.core.frame.DataFrame'>\n",
      "RangeIndex: 59400 entries, 0 to 59399\n",
      "Data columns (total 20 columns):\n",
      " #   Column            Non-Null Count  Dtype  \n",
      "---  ------            --------------  -----  \n",
      " 0   id                59400 non-null  float64\n",
      " 1   amount_tsh        59400 non-null  float64\n",
      " 2   funder            59400 non-null  object \n",
      " 3   installer         59400 non-null  object \n",
      " 4   gps_height        59400 non-null  float64\n",
      " 5   longitude         59400 non-null  float64\n",
      " 6   latitude          59400 non-null  float64\n",
      " 7   basin             59400 non-null  object \n",
      " 8   population        59400 non-null  float64\n",
      " 9   permit            59400 non-null  object \n",
      " 10  extraction_type   59400 non-null  object \n",
      " 11  management        59400 non-null  object \n",
      " 12  management_group  59400 non-null  object \n",
      " 13  payment           59400 non-null  object \n",
      " 14  quality_group     59400 non-null  object \n",
      " 15  quantity          59400 non-null  object \n",
      " 16  source            59400 non-null  object \n",
      " 17  waterpoint_type   59400 non-null  object \n",
      " 18  age_years         59400 non-null  float64\n",
      " 19  status_group      59400 non-null  object \n",
      "dtypes: float64(7), object(13)\n",
      "memory usage: 9.1+ MB\n"
     ]
    }
   ],
   "source": [
    "df = pd.read_csv('df_clean.csv')\n",
    "df = df.drop('Unnamed: 0', axis=1)\n",
    "df.info()"
   ]
  },
  {
   "cell_type": "code",
   "execution_count": 14,
   "metadata": {},
   "outputs": [],
   "source": [
    "target = df['status_group']"
   ]
  },
  {
   "cell_type": "code",
   "execution_count": 16,
   "metadata": {},
   "outputs": [
    {
     "data": {
      "text/plain": [
       "<matplotlib.collections.PathCollection at 0x119d8da90>"
      ]
     },
     "execution_count": 16,
     "metadata": {},
     "output_type": "execute_result"
    },
    {
     "data": {
      "image/png": "[encoded data removed]",
      "text/plain": [
       "<Figure size 432x288 with 1 Axes>"
      ]
     },
     "metadata": {
      "needs_background": "light"
     },
     "output_type": "display_data"
    }
   ],
   "source": [
    "plt.scatter(df['amount_tsh'],target)"
   ]
  },
  {
   "cell_type": "code",
   "execution_count": null,
   "metadata": {},
   "outputs": [],
   "source": []
  }
 ],
 "metadata": {
  "kernelspec": {
   "display_name": "Python 3",
   "language": "python",
   "name": "python3"
  },
  "language_info": {
   "codemirror_mode": {
    "name": "ipython",
    "version": 3
   },
   "file_extension": ".py",
   "mimetype": "text/x-python",
   "name": "python",
   "nbconvert_exporter": "python",
   "pygments_lexer": "ipython3",
   "version": "3.7.6"
  }
 },
 "nbformat": 4,
 "nbformat_minor": 4
}
