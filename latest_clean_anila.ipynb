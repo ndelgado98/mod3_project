{
 "cells": [
  {
   "cell_type": "markdown",
   "metadata": {},
   "source": [
    "# Taarifa Data Set. Problem Understanding"
   ]
  },
  {
   "cell_type": "markdown",
   "metadata": {},
   "source": [
    "The point of this project is to predict which pumps that help to clean and maintain water well's throughout Tanzania are to be fixed before they are broken. My immediate response to this problem is to look at the data, see what is missing, what is present. My next step is to look at domain knowledge. I am specifically going to look at the types of water pumps used in these wells. I feel that it is important to see if there have been any recalls on any of the models used. After cleaning the datasets I will create a baseline model using Gaussian Naive Bayes. From here I will tune by using hyper parameter optimisation. I feel that the second model I will use will be stacking. \n",
    "\n",
    "There are two methods of looking at the data. One through downloading the API and it's appropriate software. The second are the csv files that are given on the competition website with Data Camp. \n",
    "I have decided to go through the second route. I have attempted to download the API but have run into some problems which I will later explore but cannot do so given the time frame. \n",
    "\n",
    "I have not conducted a binary classification on a ternary classification set, which is what we are dealing with here in the Taarifa dataset. Below you will see how I transformed it. "
   ]
  },
  {
   "cell_type": "markdown",
   "metadata": {},
   "source": [
    "# Data Understanding\n",
    "https://www.drivendata.org/competitions/7/pump-it-up-data-mining-the-water-table/"
   ]
  },
  {
   "cell_type": "markdown",
   "metadata": {},
   "source": [
    "# Data Cleaning"
   ]
  },
  {
   "cell_type": "markdown",
   "metadata": {},
   "source": [
    "This notebook contains the data cleaning phase of the project. The raw datasets have been downloaded from the Driven Data website. The datasets are as follows:\n",
    "\n",
    "\"test_set_values.csv\": the competition testing set, containing only the id and the target variable (\"status_group\")\n",
    "\n",
    "\"training_set_labels.csv\": the competition training set, containing the target variable\n",
    "\n",
    "\"training_set_values.csv\": the competition training set, containing all the features"
   ]
  },
  {
   "cell_type": "markdown",
   "metadata": {},
   "source": [
    "## Step 1\n",
    "### Initial Setup"
   ]
  },
  {
   "cell_type": "code",
   "execution_count": 1,
   "metadata": {},
   "outputs": [],
   "source": [
    "# importing relevant libraries\n",
    "import pandas as pd\n",
    "import numpy as np\n",
    "pd.set_option('display.max_columns', None)"
   ]
  },
  {
   "cell_type": "code",
   "execution_count": 2,
   "metadata": {},
   "outputs": [],
   "source": [
    "# loading datasets into DataFrames\n",
    "df_inspect = pd.read_csv('test_set_values.csv')\n",
    "df2_inspect = pd.read_csv('training_set_labels.csv')\n",
    "df3_inspect = pd.read_csv('training_set_values.csv')"
   ]
  },
  {
   "cell_type": "markdown",
   "metadata": {},
   "source": [
    "The testing data set will be ignored for now, as it relates to the competition. The competition training data will be combined into a single DF for cleaning purposes, and will itself be split into testing/training/validation sets further down the line."
   ]
  },
  {
   "cell_type": "code",
   "execution_count": 3,
   "metadata": {},
   "outputs": [],
   "source": [
    "# Combining competition training sets\n",
    "df4_combo = df3_inspect.join(df2_inspect, rsuffix='_r')\n",
    "df5_combo = df4_combo.drop(['id_r'], axis=1)"
   ]
  },
  {
   "cell_type": "markdown",
   "metadata": {},
   "source": [
    "## Step 2\n",
    "### Data Exploration"
   ]
  },
  {
   "cell_type": "markdown",
   "metadata": {},
   "source": [
    "The features included in the dataset are described as follows (as per the Driven Date website):"
   ]
  },
  {
   "cell_type": "markdown",
   "metadata": {},
   "source": [
    "- **amount_tsh** - Total static head (amount water available to waterpoint)\n",
    "- **date_recorded** - The date the row was entered\n",
    "- **funder** - Who funded the well\n",
    "- **gps_height** - Altitude of the well\n",
    "- **installer** - Organization that installed the well\n",
    "- **longitude** - GPS coordinate\n",
    "- **latitude** - GPS coordinate\n",
    "- **wpt_name** - Name of the waterpoint if there is one\n",
    "- **num_private** -\n",
    "- **basin** - Geographic water basin\n",
    "- **subvillage** - Geographic location\n",
    "- **region** - Geographic location\n",
    "- **region_code** - Geographic location (coded)\n",
    "- **district_code** - Geographic location (coded)\n",
    "- **lga** - Geographic location\n",
    "- **ward** - Geographic location\n",
    "- **population** - Population around the well\n",
    "- **public_meeting** - True/False\n",
    "- **recorded_by** - Group entering this row of data\n",
    "- **scheme_management** - Who operates the waterpoint\n",
    "- **scheme_name** - Who operates the waterpoint\n",
    "- **permit** - If the waterpoint is permitted\n",
    "- **construction_year** - Year the waterpoint was constructed\n",
    "- **extraction_type** - The kind of extraction the waterpoint uses\n",
    "- **extraction_type_group** - The kind of extraction the waterpoint uses\n",
    "- **extraction_type_class** - The kind of extraction the waterpoint uses\n",
    "- **management** - How the waterpoint is managed\n",
    "- **management_group** - How the waterpoint is managed\n",
    "- **payment** - What the water costs\n",
    "- **payment_type** - What the water costs\n",
    "- **water_quality** - The quality of the water\n",
    "- **quality_group** - The quality of the water\n",
    "- **quantity** - The quantity of water\n",
    "- **quantity_group** - The quantity of water\n",
    "- **source** - The source of the water\n",
    "- **source_type** - The source of the water\n",
    "- **source_class** - The source of the water\n",
    "- **waterpoint_type** - The kind of waterpoint\n",
    "- **waterpoint_type_group** - The kind of waterpoint"
   ]
  },
  {
   "cell_type": "markdown",
   "metadata": {},
   "source": [
    "The features were inspected one by one to determine if any need to be edited or removed. Below are the features for which an issue has been identified:\n",
    "\n",
    "- **date_recorded**: deemed irrelevant for analysis - *to remove*\n",
    "- **funder**: missing values, and too many single instances - *to fill and to cut down*\n",
    "- **installer**: missing values, and too many single instances - *to fill and to cut down*\n",
    "- **wpt_name**: deemed irrelevant for analysis - *to remove*\n",
    "- **num_private**: empty feature - *to remove*\n",
    "- **subvillage**: deemed irrelevant for analysis - *to remove*\n",
    "- **region**: deemed irrelevant for analysis - *to remove*\n",
    "- **region_code**: deemed irrelevant for analysis - *to remove*\n",
    "- **district_code**: deemed irrelevant for analysis - *to remove*\n",
    "- **lga**: deemed irrelevant for analysis - *to remove*\n",
    "- **ward**: deemed irrelevant for analysis - *to remove*\n",
    "- **public_meeting**: deemed irrelevant for analysis - *to remove*\n",
    "- **recorded_by**: all values are the same, none missing - *to remove*\n",
    "- **scheme_management**: missing values, duplicate of 'management' - *to remove*\n",
    "- **scheme_name**: missing values, deemed irrelevant for analysis - *to remove*\n",
    "- **permit**: missing values - *to fill*\n",
    "- **construction_year**: mostly zero; not useful for analyis - *to convert to age in months and fill missing with median*\n",
    "- **extraction_type_group** - subsumed by 'extraction_type' - *to remove*\n",
    "- **extraction_type_class** - subsumed by 'extraction_type' - *to remove*\n",
    "- **payment_type**: duplicate of 'payment' - *to remove*\n",
    "- **water_quality**: subsumed by 'quality_group' - *to remove*\n",
    "- **quantity_group**: duplicate of 'quantity' - *to remove*\n",
    "- **source_type**: subsumed by 'source' - *to remove*\n",
    "- **source_class**: subsumed by 'source' - *to remove*\n",
    "- **waterpoint_type_group**: subsumed by 'waterpoint_type' - *to remove*"
   ]
  },
  {
   "cell_type": "markdown",
   "metadata": {},
   "source": [
    "A specific point to mention is that the 'funder' and 'installer' variables have many singular instances, ie there are many organisations that have funded/installed a single well. This means that there is no useful insight to be gained from these features as they are, since a testing data point will probably not fit into any existing category here. To solve this, these two features will be limited to the top 6 installers and funders, and all remaining values will be grouped into a single value named 'small_org'."
   ]
  },
  {
   "cell_type": "markdown",
   "metadata": {},
   "source": [
    "## Step 3\n",
    "### Processing"
   ]
  },
  {
   "cell_type": "markdown",
   "metadata": {},
   "source": [
    "A function is created in order to clean the entire dataset. The function is documented below, and can also be used to clean the competition test set, if required."
   ]
  },
  {
   "cell_type": "code",
   "execution_count": 4,
   "metadata": {},
   "outputs": [],
   "source": [
    "# creating function to clean and rearrange dataframe\n",
    "\n",
    "def preprocess_clean(dataframe, cols_to_drop, cols_to_fill, col_order, target_name):\n",
    "    \n",
    "    \"\"\"Function to clean and rearrange dataframe for use in the model.\n",
    "    \n",
    "    The function will take the dataframe as an argument and perform the following operations:\n",
    "    - Fill 'construction year' nil values with median non-zero value\n",
    "    - Convert 'construction year' to age in years\n",
    "    - Remove the rows identified as irrelevant\n",
    "    - Fill categorical variable NAs with 'unknown'\n",
    "    - Limit funders and installers to top five, with remaining values grouped into single value\n",
    "    - Rearranges column order for readibility\n",
    "    \n",
    "    Args:\n",
    "        'dataframe': the dataframe to clean\n",
    "        'cols_to_drop': list of columns to drop from the dataframe\n",
    "        'cols_to_fill': list of categorical columns to fill\n",
    "        'col_order': list of columns in the desired order for the output\n",
    "        'target_name': name (as string) of target variable\n",
    "    \n",
    "    Returns:\n",
    "        A cleaned dataframe with the desired columns in the order specified\n",
    "    \"\"\"\n",
    "    \n",
    "    # creating copy of dataframe\n",
    "    df = dataframe.copy()\n",
    "    \n",
    "    # converting 'construction_year' to age in years and filling zeros with median\n",
    "    if 'construction_year' in df.columns:\n",
    "        df.replace(0, np.nan, inplace=True)\n",
    "        median_x = df['construction_year'].median(skipna=True)\n",
    "        df['construction_year'].fillna(median_x, inplace=True)\n",
    "        df['age_years'] = round(2019 - df['construction_year'],0)\n",
    "\n",
    "    else:\n",
    "        pass\n",
    "\n",
    "    # dropping columns identified above as irrelvant\n",
    "    df2 = df.drop(cols_to_drop, axis=1)\n",
    "    \n",
    "    # filling missing values with 'unknown' categorical\n",
    "    df2[cols_to_fill] = df2[cols_to_fill].fillna(value='unknown')\n",
    "    \n",
    "    # limiting installers to top 6 only, with remaining values grouped together\n",
    "    if 'installer' in df2.columns:\n",
    "        installer_series = df2['installer'].value_counts()\n",
    "        installer_series_2 = installer_series.sort_values(ascending=False)\n",
    "        installer_top_6 = installer_series_2.index[0:6]\n",
    "        installer_top_6_list = list(installer_top_6)\n",
    "        df2['installer'] = df2['installer'].apply(lambda x: x if x in installer_top_6_list else 'small_inst')\n",
    "    \n",
    "    else:\n",
    "        pass\n",
    "\n",
    "    # limiting funders to top 6 only, with remaining values grouped together\n",
    "    if 'funder' in df2.columns:\n",
    "        funder_series = df2['funder'].value_counts()\n",
    "        funder_series_2 = funder_series.sort_values(ascending=False)\n",
    "        funder_top_6 = funder_series_2.index[0:6]\n",
    "        funder_top_6_list = list(funder_top_6)\n",
    "        df2['funder'] = df2['funder'].apply(lambda x: x if x in funder_top_6_list else 'small_fund')\n",
    "    \n",
    "    else:\n",
    "        pass    \n",
    "    \n",
    "    # rearranging column order, and excluding target variable if not in dataframe\n",
    "    if target_name in df2.columns:\n",
    "        df3 = df2[col_order]\n",
    "    else:\n",
    "        list2 = order_cols[:order_cols.index(target_name)]+order_cols[order_cols.index(target_name)+1:]\n",
    "        df3 = df2[list2]\n",
    "    \n",
    "    df4 = df3.fillna(0)\n",
    "    \n",
    "    return df4\n",
    "    "
   ]
  },
  {
   "cell_type": "code",
   "execution_count": 5,
   "metadata": {},
   "outputs": [],
   "source": [
    "# creating list of columns to drop, in order to pass into the cleaning function\n",
    "drop_cols = ['date_recorded',\n",
    "                'wpt_name',\n",
    "                'num_private',\n",
    "                'subvillage',\n",
    "                'region',\n",
    "                'region_code',\n",
    "                'district_code',\n",
    "                'lga',\n",
    "                'ward',\n",
    "                'public_meeting',\n",
    "                'recorded_by',\n",
    "                'scheme_management',\n",
    "                'scheme_name',\n",
    "                'construction_year',\n",
    "                'extraction_type_group',\n",
    "                'extraction_type_class',\n",
    "                'payment_type',\n",
    "                'water_quality',\n",
    "                'quantity_group',\n",
    "                'source_type',\n",
    "                'source_class',\n",
    "                'waterpoint_type_group']\n",
    "\n",
    "# creating list of columns to fill with 'unknown'\n",
    "fill_cols = ['funder',\n",
    "            'installer',\n",
    "            'permit']\n",
    "\n",
    "# creating list of columns order\n",
    "order_cols = ['id',\n",
    "            'amount_tsh',\n",
    "            'funder',\n",
    "            'installer',\n",
    "            'gps_height',\n",
    "            'longitude',\n",
    "            'latitude',\n",
    "            'basin',\n",
    "            'population',\n",
    "            'permit',\n",
    "            'extraction_type',\n",
    "            'management',\n",
    "            'management_group',\n",
    "            'payment',\n",
    "            'quality_group',\n",
    "            'quantity',\n",
    "            'source',\n",
    "            'waterpoint_type',\n",
    "            'age_years',\n",
    "            'status_group',]"
   ]
  },
  {
   "cell_type": "code",
   "execution_count": 6,
   "metadata": {},
   "outputs": [
    {
     "name": "stdout",
     "output_type": "stream",
     "text": [
      "<class 'pandas.core.frame.DataFrame'>\n",
      "RangeIndex: 59400 entries, 0 to 59399\n",
      "Data columns (total 20 columns):\n",
      "id                  59400 non-null float64\n",
      "amount_tsh          59400 non-null float64\n",
      "funder              59400 non-null object\n",
      "installer           59400 non-null object\n",
      "gps_height          59400 non-null float64\n",
      "longitude           59400 non-null float64\n",
      "latitude            59400 non-null float64\n",
      "basin               59400 non-null object\n",
      "population          59400 non-null float64\n",
      "permit              59400 non-null object\n",
      "extraction_type     59400 non-null object\n",
      "management          59400 non-null object\n",
      "management_group    59400 non-null object\n",
      "payment             59400 non-null object\n",
      "quality_group       59400 non-null object\n",
      "quantity            59400 non-null object\n",
      "source              59400 non-null object\n",
      "waterpoint_type     59400 non-null object\n",
      "age_years           59400 non-null float64\n",
      "status_group        59400 non-null object\n",
      "dtypes: float64(7), object(13)\n",
      "memory usage: 9.1+ MB\n"
     ]
    }
   ],
   "source": [
    "# cleaning the datatset using the cleaning function\n",
    "df_clean = preprocess_clean(df5_combo, drop_cols, fill_cols, order_cols, 'status_group')\n",
    "df_clean.info()"
   ]
  },
  {
   "cell_type": "code",
   "execution_count": 7,
   "metadata": {},
   "outputs": [
    {
     "name": "stdout",
     "output_type": "stream",
     "text": [
      "<class 'pandas.core.frame.DataFrame'>\n",
      "RangeIndex: 14850 entries, 0 to 14849\n",
      "Data columns (total 19 columns):\n",
      "id                  14850 non-null int64\n",
      "amount_tsh          14850 non-null float64\n",
      "funder              14850 non-null object\n",
      "installer           14850 non-null object\n",
      "gps_height          14850 non-null float64\n",
      "longitude           14850 non-null float64\n",
      "latitude            14850 non-null float64\n",
      "basin               14850 non-null object\n",
      "population          14850 non-null float64\n",
      "permit              14850 non-null object\n",
      "extraction_type     14850 non-null object\n",
      "management          14850 non-null object\n",
      "management_group    14850 non-null object\n",
      "payment             14850 non-null object\n",
      "quality_group       14850 non-null object\n",
      "quantity            14850 non-null object\n",
      "source              14850 non-null object\n",
      "waterpoint_type     14850 non-null object\n",
      "age_years           14850 non-null float64\n",
      "dtypes: float64(6), int64(1), object(12)\n",
      "memory usage: 2.2+ MB\n"
     ]
    }
   ],
   "source": [
    "df_clean_2 = preprocess_clean(df_inspect, drop_cols, fill_cols, order_cols, 'status_group')\n",
    "df_clean_2.info()"
   ]
  },
  {
   "cell_type": "code",
   "execution_count": 61,
   "metadata": {},
   "outputs": [],
   "source": [
    "df_clean.to_csv('df_clean.csv')"
   ]
  },
  {
   "cell_type": "code",
   "execution_count": 62,
   "metadata": {},
   "outputs": [
    {
     "data": {
      "text/html": [
       "<div>\n",
       "<style scoped>\n",
       "    .dataframe tbody tr th:only-of-type {\n",
       "        vertical-align: middle;\n",
       "    }\n",
       "\n",
       "    .dataframe tbody tr th {\n",
       "        vertical-align: top;\n",
       "    }\n",
       "\n",
       "    .dataframe thead th {\n",
       "        text-align: right;\n",
       "    }\n",
       "</style>\n",
       "<table border=\"1\" class=\"dataframe\">\n",
       "  <thead>\n",
       "    <tr style=\"text-align: right;\">\n",
       "      <th></th>\n",
       "      <th>Unnamed: 0</th>\n",
       "      <th>id</th>\n",
       "      <th>amount_tsh</th>\n",
       "      <th>funder</th>\n",
       "      <th>installer</th>\n",
       "      <th>gps_height</th>\n",
       "      <th>longitude</th>\n",
       "      <th>latitude</th>\n",
       "      <th>basin</th>\n",
       "      <th>population</th>\n",
       "      <th>permit</th>\n",
       "      <th>extraction_type</th>\n",
       "      <th>management</th>\n",
       "      <th>management_group</th>\n",
       "      <th>payment</th>\n",
       "      <th>quality_group</th>\n",
       "      <th>quantity</th>\n",
       "      <th>source</th>\n",
       "      <th>waterpoint_type</th>\n",
       "      <th>age_years</th>\n",
       "      <th>status_group</th>\n",
       "    </tr>\n",
       "  </thead>\n",
       "  <tbody>\n",
       "    <tr>\n",
       "      <td>0</td>\n",
       "      <td>0</td>\n",
       "      <td>69572.0</td>\n",
       "      <td>6000.0</td>\n",
       "      <td>small_fund</td>\n",
       "      <td>small_inst</td>\n",
       "      <td>1390.0</td>\n",
       "      <td>34.938093</td>\n",
       "      <td>-9.856322</td>\n",
       "      <td>Lake Nyasa</td>\n",
       "      <td>109.0</td>\n",
       "      <td>unknown</td>\n",
       "      <td>gravity</td>\n",
       "      <td>vwc</td>\n",
       "      <td>user-group</td>\n",
       "      <td>pay annually</td>\n",
       "      <td>good</td>\n",
       "      <td>enough</td>\n",
       "      <td>spring</td>\n",
       "      <td>communal standpipe</td>\n",
       "      <td>20.0</td>\n",
       "      <td>functional</td>\n",
       "    </tr>\n",
       "    <tr>\n",
       "      <td>1</td>\n",
       "      <td>1</td>\n",
       "      <td>8776.0</td>\n",
       "      <td>0.0</td>\n",
       "      <td>small_fund</td>\n",
       "      <td>small_inst</td>\n",
       "      <td>1399.0</td>\n",
       "      <td>34.698766</td>\n",
       "      <td>-2.147466</td>\n",
       "      <td>Lake Victoria</td>\n",
       "      <td>280.0</td>\n",
       "      <td>True</td>\n",
       "      <td>gravity</td>\n",
       "      <td>wug</td>\n",
       "      <td>user-group</td>\n",
       "      <td>never pay</td>\n",
       "      <td>good</td>\n",
       "      <td>insufficient</td>\n",
       "      <td>rainwater harvesting</td>\n",
       "      <td>communal standpipe</td>\n",
       "      <td>9.0</td>\n",
       "      <td>functional</td>\n",
       "    </tr>\n",
       "    <tr>\n",
       "      <td>2</td>\n",
       "      <td>2</td>\n",
       "      <td>34310.0</td>\n",
       "      <td>25.0</td>\n",
       "      <td>small_fund</td>\n",
       "      <td>small_inst</td>\n",
       "      <td>686.0</td>\n",
       "      <td>37.460664</td>\n",
       "      <td>-3.821329</td>\n",
       "      <td>Pangani</td>\n",
       "      <td>250.0</td>\n",
       "      <td>True</td>\n",
       "      <td>gravity</td>\n",
       "      <td>vwc</td>\n",
       "      <td>user-group</td>\n",
       "      <td>pay per bucket</td>\n",
       "      <td>good</td>\n",
       "      <td>enough</td>\n",
       "      <td>dam</td>\n",
       "      <td>communal standpipe multiple</td>\n",
       "      <td>10.0</td>\n",
       "      <td>functional</td>\n",
       "    </tr>\n",
       "    <tr>\n",
       "      <td>3</td>\n",
       "      <td>3</td>\n",
       "      <td>67743.0</td>\n",
       "      <td>0.0</td>\n",
       "      <td>small_fund</td>\n",
       "      <td>small_inst</td>\n",
       "      <td>263.0</td>\n",
       "      <td>38.486161</td>\n",
       "      <td>-11.155298</td>\n",
       "      <td>Ruvuma / Southern Coast</td>\n",
       "      <td>58.0</td>\n",
       "      <td>True</td>\n",
       "      <td>submersible</td>\n",
       "      <td>vwc</td>\n",
       "      <td>user-group</td>\n",
       "      <td>never pay</td>\n",
       "      <td>good</td>\n",
       "      <td>dry</td>\n",
       "      <td>machine dbh</td>\n",
       "      <td>communal standpipe multiple</td>\n",
       "      <td>33.0</td>\n",
       "      <td>non functional</td>\n",
       "    </tr>\n",
       "    <tr>\n",
       "      <td>4</td>\n",
       "      <td>4</td>\n",
       "      <td>19728.0</td>\n",
       "      <td>0.0</td>\n",
       "      <td>small_fund</td>\n",
       "      <td>small_inst</td>\n",
       "      <td>0.0</td>\n",
       "      <td>31.130847</td>\n",
       "      <td>-1.825359</td>\n",
       "      <td>Lake Victoria</td>\n",
       "      <td>0.0</td>\n",
       "      <td>True</td>\n",
       "      <td>gravity</td>\n",
       "      <td>other</td>\n",
       "      <td>other</td>\n",
       "      <td>never pay</td>\n",
       "      <td>good</td>\n",
       "      <td>seasonal</td>\n",
       "      <td>rainwater harvesting</td>\n",
       "      <td>communal standpipe</td>\n",
       "      <td>19.0</td>\n",
       "      <td>functional</td>\n",
       "    </tr>\n",
       "  </tbody>\n",
       "</table>\n",
       "</div>"
      ],
      "text/plain": [
       "   Unnamed: 0       id  amount_tsh      funder   installer  gps_height  \\\n",
       "0           0  69572.0      6000.0  small_fund  small_inst      1390.0   \n",
       "1           1   8776.0         0.0  small_fund  small_inst      1399.0   \n",
       "2           2  34310.0        25.0  small_fund  small_inst       686.0   \n",
       "3           3  67743.0         0.0  small_fund  small_inst       263.0   \n",
       "4           4  19728.0         0.0  small_fund  small_inst         0.0   \n",
       "\n",
       "   longitude   latitude                    basin  population   permit  \\\n",
       "0  34.938093  -9.856322               Lake Nyasa       109.0  unknown   \n",
       "1  34.698766  -2.147466            Lake Victoria       280.0     True   \n",
       "2  37.460664  -3.821329                  Pangani       250.0     True   \n",
       "3  38.486161 -11.155298  Ruvuma / Southern Coast        58.0     True   \n",
       "4  31.130847  -1.825359            Lake Victoria         0.0     True   \n",
       "\n",
       "  extraction_type management management_group         payment quality_group  \\\n",
       "0         gravity        vwc       user-group    pay annually          good   \n",
       "1         gravity        wug       user-group       never pay          good   \n",
       "2         gravity        vwc       user-group  pay per bucket          good   \n",
       "3     submersible        vwc       user-group       never pay          good   \n",
       "4         gravity      other            other       never pay          good   \n",
       "\n",
       "       quantity                source              waterpoint_type  age_years  \\\n",
       "0        enough                spring           communal standpipe       20.0   \n",
       "1  insufficient  rainwater harvesting           communal standpipe        9.0   \n",
       "2        enough                   dam  communal standpipe multiple       10.0   \n",
       "3           dry           machine dbh  communal standpipe multiple       33.0   \n",
       "4      seasonal  rainwater harvesting           communal standpipe       19.0   \n",
       "\n",
       "     status_group  \n",
       "0      functional  \n",
       "1      functional  \n",
       "2      functional  \n",
       "3  non functional  \n",
       "4      functional  "
      ]
     },
     "execution_count": 62,
     "metadata": {},
     "output_type": "execute_result"
    }
   ],
   "source": [
    "data = pd.read_csv('df_clean.csv')\n",
    "data.head()"
   ]
  },
  {
   "cell_type": "code",
   "execution_count": 63,
   "metadata": {},
   "outputs": [],
   "source": [
    "small_data = data.sample(frac=0.1, replace=True, random_state=1)"
   ]
  },
  {
   "cell_type": "markdown",
   "metadata": {},
   "source": [
    "# Exploratory Data Analysis"
   ]
  },
  {
   "cell_type": "code",
   "execution_count": 64,
   "metadata": {},
   "outputs": [
    {
     "data": {
      "text/plain": [
       "functional                 32259\n",
       "non functional             22824\n",
       "functional needs repair     4317\n",
       "Name: status_group, dtype: int64"
      ]
     },
     "execution_count": 64,
     "metadata": {},
     "output_type": "execute_result"
    }
   ],
   "source": [
    "data.status_group.value_counts()"
   ]
  },
  {
   "cell_type": "code",
   "execution_count": 79,
   "metadata": {},
   "outputs": [],
   "source": [
    "#Just over half of the waterwells are functional. Regardless of non-function or needs repair, both categories need to\n",
    "#to be fixed. I will transform this problem from a ternary classification to a binary\n",
    "#need to transform my categorical data into dummies. \n",
    "# first lets separate x and y\n",
    "y = data['status_group']\n",
    "X = data.drop(columns='status_group', axis=1)"
   ]
  },
  {
   "cell_type": "code",
   "execution_count": 80,
   "metadata": {
    "scrolled": false
   },
   "outputs": [],
   "source": [
    "y = data['status_group'].replace(['non functional','fuctional needs repair'], ['needs repair','needs repair'], inplace=True)\n",
    "y = data.status_group = data.status_group.replace('functional needs repair', 'needs repair')\n",
    "y = y.replace('non functional', 'needs repair')\n",
    "y_small = small_data.status_group = small_data.status_group.replace('functional needs repair', 'needs repair')\n",
    "y_small = y.replace('non functional', 'needs repair')"
   ]
  },
  {
   "cell_type": "code",
   "execution_count": 82,
   "metadata": {},
   "outputs": [
    {
     "data": {
      "text/plain": [
       "functional      32259\n",
       "needs repair    27141\n",
       "Name: status_group, dtype: int64"
      ]
     },
     "execution_count": 82,
     "metadata": {},
     "output_type": "execute_result"
    }
   ],
   "source": [
    "data.status_group.value_counts() #checking to see if it is now two classes"
   ]
  },
  {
   "cell_type": "code",
   "execution_count": 83,
   "metadata": {},
   "outputs": [
    {
     "data": {
      "text/html": [
       "<div>\n",
       "<style scoped>\n",
       "    .dataframe tbody tr th:only-of-type {\n",
       "        vertical-align: middle;\n",
       "    }\n",
       "\n",
       "    .dataframe tbody tr th {\n",
       "        vertical-align: top;\n",
       "    }\n",
       "\n",
       "    .dataframe thead th {\n",
       "        text-align: right;\n",
       "    }\n",
       "</style>\n",
       "<table border=\"1\" class=\"dataframe\">\n",
       "  <thead>\n",
       "    <tr style=\"text-align: right;\">\n",
       "      <th></th>\n",
       "      <th>Unnamed: 0</th>\n",
       "      <th>id</th>\n",
       "      <th>amount_tsh</th>\n",
       "      <th>funder</th>\n",
       "      <th>installer</th>\n",
       "      <th>gps_height</th>\n",
       "      <th>longitude</th>\n",
       "      <th>latitude</th>\n",
       "      <th>basin</th>\n",
       "      <th>population</th>\n",
       "      <th>permit</th>\n",
       "      <th>extraction_type</th>\n",
       "      <th>management</th>\n",
       "      <th>management_group</th>\n",
       "      <th>payment</th>\n",
       "      <th>quality_group</th>\n",
       "      <th>quantity</th>\n",
       "      <th>source</th>\n",
       "      <th>waterpoint_type</th>\n",
       "      <th>age_years</th>\n",
       "      <th>status_group</th>\n",
       "    </tr>\n",
       "  </thead>\n",
       "  <tbody>\n",
       "    <tr>\n",
       "      <td>0</td>\n",
       "      <td>0</td>\n",
       "      <td>69572.0</td>\n",
       "      <td>6000.0</td>\n",
       "      <td>small_fund</td>\n",
       "      <td>small_inst</td>\n",
       "      <td>1390.0</td>\n",
       "      <td>34.938093</td>\n",
       "      <td>-9.856322</td>\n",
       "      <td>Lake Nyasa</td>\n",
       "      <td>109.0</td>\n",
       "      <td>unknown</td>\n",
       "      <td>gravity</td>\n",
       "      <td>vwc</td>\n",
       "      <td>user-group</td>\n",
       "      <td>pay annually</td>\n",
       "      <td>good</td>\n",
       "      <td>enough</td>\n",
       "      <td>spring</td>\n",
       "      <td>communal standpipe</td>\n",
       "      <td>20.0</td>\n",
       "      <td>functional</td>\n",
       "    </tr>\n",
       "    <tr>\n",
       "      <td>1</td>\n",
       "      <td>1</td>\n",
       "      <td>8776.0</td>\n",
       "      <td>0.0</td>\n",
       "      <td>small_fund</td>\n",
       "      <td>small_inst</td>\n",
       "      <td>1399.0</td>\n",
       "      <td>34.698766</td>\n",
       "      <td>-2.147466</td>\n",
       "      <td>Lake Victoria</td>\n",
       "      <td>280.0</td>\n",
       "      <td>True</td>\n",
       "      <td>gravity</td>\n",
       "      <td>wug</td>\n",
       "      <td>user-group</td>\n",
       "      <td>never pay</td>\n",
       "      <td>good</td>\n",
       "      <td>insufficient</td>\n",
       "      <td>rainwater harvesting</td>\n",
       "      <td>communal standpipe</td>\n",
       "      <td>9.0</td>\n",
       "      <td>functional</td>\n",
       "    </tr>\n",
       "    <tr>\n",
       "      <td>2</td>\n",
       "      <td>2</td>\n",
       "      <td>34310.0</td>\n",
       "      <td>25.0</td>\n",
       "      <td>small_fund</td>\n",
       "      <td>small_inst</td>\n",
       "      <td>686.0</td>\n",
       "      <td>37.460664</td>\n",
       "      <td>-3.821329</td>\n",
       "      <td>Pangani</td>\n",
       "      <td>250.0</td>\n",
       "      <td>True</td>\n",
       "      <td>gravity</td>\n",
       "      <td>vwc</td>\n",
       "      <td>user-group</td>\n",
       "      <td>pay per bucket</td>\n",
       "      <td>good</td>\n",
       "      <td>enough</td>\n",
       "      <td>dam</td>\n",
       "      <td>communal standpipe multiple</td>\n",
       "      <td>10.0</td>\n",
       "      <td>functional</td>\n",
       "    </tr>\n",
       "    <tr>\n",
       "      <td>3</td>\n",
       "      <td>3</td>\n",
       "      <td>67743.0</td>\n",
       "      <td>0.0</td>\n",
       "      <td>small_fund</td>\n",
       "      <td>small_inst</td>\n",
       "      <td>263.0</td>\n",
       "      <td>38.486161</td>\n",
       "      <td>-11.155298</td>\n",
       "      <td>Ruvuma / Southern Coast</td>\n",
       "      <td>58.0</td>\n",
       "      <td>True</td>\n",
       "      <td>submersible</td>\n",
       "      <td>vwc</td>\n",
       "      <td>user-group</td>\n",
       "      <td>never pay</td>\n",
       "      <td>good</td>\n",
       "      <td>dry</td>\n",
       "      <td>machine dbh</td>\n",
       "      <td>communal standpipe multiple</td>\n",
       "      <td>33.0</td>\n",
       "      <td>needs repair</td>\n",
       "    </tr>\n",
       "    <tr>\n",
       "      <td>4</td>\n",
       "      <td>4</td>\n",
       "      <td>19728.0</td>\n",
       "      <td>0.0</td>\n",
       "      <td>small_fund</td>\n",
       "      <td>small_inst</td>\n",
       "      <td>0.0</td>\n",
       "      <td>31.130847</td>\n",
       "      <td>-1.825359</td>\n",
       "      <td>Lake Victoria</td>\n",
       "      <td>0.0</td>\n",
       "      <td>True</td>\n",
       "      <td>gravity</td>\n",
       "      <td>other</td>\n",
       "      <td>other</td>\n",
       "      <td>never pay</td>\n",
       "      <td>good</td>\n",
       "      <td>seasonal</td>\n",
       "      <td>rainwater harvesting</td>\n",
       "      <td>communal standpipe</td>\n",
       "      <td>19.0</td>\n",
       "      <td>functional</td>\n",
       "    </tr>\n",
       "  </tbody>\n",
       "</table>\n",
       "</div>"
      ],
      "text/plain": [
       "   Unnamed: 0       id  amount_tsh      funder   installer  gps_height  \\\n",
       "0           0  69572.0      6000.0  small_fund  small_inst      1390.0   \n",
       "1           1   8776.0         0.0  small_fund  small_inst      1399.0   \n",
       "2           2  34310.0        25.0  small_fund  small_inst       686.0   \n",
       "3           3  67743.0         0.0  small_fund  small_inst       263.0   \n",
       "4           4  19728.0         0.0  small_fund  small_inst         0.0   \n",
       "\n",
       "   longitude   latitude                    basin  population   permit  \\\n",
       "0  34.938093  -9.856322               Lake Nyasa       109.0  unknown   \n",
       "1  34.698766  -2.147466            Lake Victoria       280.0     True   \n",
       "2  37.460664  -3.821329                  Pangani       250.0     True   \n",
       "3  38.486161 -11.155298  Ruvuma / Southern Coast        58.0     True   \n",
       "4  31.130847  -1.825359            Lake Victoria         0.0     True   \n",
       "\n",
       "  extraction_type management management_group         payment quality_group  \\\n",
       "0         gravity        vwc       user-group    pay annually          good   \n",
       "1         gravity        wug       user-group       never pay          good   \n",
       "2         gravity        vwc       user-group  pay per bucket          good   \n",
       "3     submersible        vwc       user-group       never pay          good   \n",
       "4         gravity      other            other       never pay          good   \n",
       "\n",
       "       quantity                source              waterpoint_type  age_years  \\\n",
       "0        enough                spring           communal standpipe       20.0   \n",
       "1  insufficient  rainwater harvesting           communal standpipe        9.0   \n",
       "2        enough                   dam  communal standpipe multiple       10.0   \n",
       "3           dry           machine dbh  communal standpipe multiple       33.0   \n",
       "4      seasonal  rainwater harvesting           communal standpipe       19.0   \n",
       "\n",
       "   status_group  \n",
       "0    functional  \n",
       "1    functional  \n",
       "2    functional  \n",
       "3  needs repair  \n",
       "4    functional  "
      ]
     },
     "execution_count": 83,
     "metadata": {},
     "output_type": "execute_result"
    }
   ],
   "source": [
    "data.head() #let's see if it's correctly classified here"
   ]
  },
  {
   "cell_type": "code",
   "execution_count": 69,
   "metadata": {},
   "outputs": [],
   "source": [
    "import matplotlib.pyplot as plt\n",
    "%matplotlib inline\n",
    "import seaborn as sns"
   ]
  },
  {
   "cell_type": "code",
   "execution_count": 70,
   "metadata": {},
   "outputs": [
    {
     "data": {
      "image/png": "[encoded data removed]",
      "text/plain": [
       "<Figure size 1440x720 with 1 Axes>"
      ]
     },
     "metadata": {
      "needs_background": "light"
     },
     "output_type": "display_data"
    }
   ],
   "source": [
    "fig = plt.figure(figsize=(20,10))\n",
    "sns.countplot(data['status_group'], palette='gist_rainbow')\n",
    "plt.title(\"Waterwells Across Tanzania\")\n",
    "plt.xlabel(\"Wells\")\n",
    "plt.ylabel(\"Number of wells\")\n",
    "plt.legend(data['status_group'])\n",
    "plt.show()"
   ]
  },
  {
   "cell_type": "markdown",
   "metadata": {},
   "source": [
    "This plot shows us that it is not exactly imbalanced. We are not dealing with a class imbalance here. But we are seeing that quite a few water sources around the country need to be fixed. Below we will see how accurate the data is with working and non-working wells. \n",
    "We will predict on the basis of getting them fixed followed by doing a test on the faults of our accuracy. "
   ]
  },
  {
   "cell_type": "code",
   "execution_count": 71,
   "metadata": {},
   "outputs": [],
   "source": [
    "#small_data = data.sample(frac=0.1, replace=True, random_state=1)"
   ]
  },
  {
   "cell_type": "code",
   "execution_count": 72,
   "metadata": {},
   "outputs": [
    {
     "data": {
      "text/plain": [
       "(11880, 19)"
      ]
     },
     "execution_count": 72,
     "metadata": {},
     "output_type": "execute_result"
    }
   ],
   "source": [
    "y_train.shape"
   ]
  },
  {
   "cell_type": "code",
   "execution_count": 73,
   "metadata": {},
   "outputs": [],
   "source": [
    "#change them into dummies so that it can be read into our models\n",
    "X_d = pd.get_dummies(X)"
   ]
  },
  {
   "cell_type": "code",
   "execution_count": 85,
   "metadata": {},
   "outputs": [],
   "source": [
    "#perform a train_test_split\n",
    "from sklearn.model_selection import train_test_split\n",
    "y = pd.get_dummies(y)\n",
    "X_d = data.drop(columns=['status_group','id'], axis=1)\n",
    "X_train, X_test, y_train, y_test = train_test_split(X_d, y, test_size=.2, random_state=10)\n",
    "X_train_v, X_val, y_train_v, y_val = train_test_split(X_train, y_train, test_size=.2, random_state=123)\n",
    "\n",
    "y_val = y_val['functional']\n",
    "y_train = y_train['functional']\n",
    "y_train_v = y_train_v['functional']\n",
    "\n"
   ]
  },
  {
   "cell_type": "code",
   "execution_count": 86,
   "metadata": {},
   "outputs": [
    {
     "name": "stdout",
     "output_type": "stream",
     "text": [
      "26464    0\n",
      "18400    1\n",
      "32800    0\n",
      "30752    0\n",
      "452      1\n",
      "        ..\n",
      "28017    1\n",
      "50496    0\n",
      "29199    1\n",
      "40061    1\n",
      "17673    1\n",
      "Name: functional, Length: 47520, dtype: uint8\n"
     ]
    }
   ],
   "source": [
    "print(y_train)"
   ]
  },
  {
   "cell_type": "markdown",
   "metadata": {},
   "source": [
    "# Baseline Model"
   ]
  },
  {
   "cell_type": "code",
   "execution_count": 105,
   "metadata": {},
   "outputs": [
    {
     "ename": "ValueError",
     "evalue": "could not convert string to float: 'communal standpipe'",
     "output_type": "error",
     "traceback": [
      "\u001b[0;31m---------------------------------------------------------------------------\u001b[0m",
      "\u001b[0;31mValueError\u001b[0m                                Traceback (most recent call last)",
      "\u001b[0;32m<ipython-input-105-7f1cde10c055>\u001b[0m in \u001b[0;36m<module>\u001b[0;34m\u001b[0m\n\u001b[1;32m      2\u001b[0m \u001b[0;31m#instantiate the model\u001b[0m\u001b[0;34m\u001b[0m\u001b[0;34m\u001b[0m\u001b[0;34m\u001b[0m\u001b[0m\n\u001b[1;32m      3\u001b[0m \u001b[0mbaseline\u001b[0m \u001b[0;34m=\u001b[0m \u001b[0mLogisticRegression\u001b[0m\u001b[0;34m(\u001b[0m\u001b[0msolver\u001b[0m\u001b[0;34m=\u001b[0m\u001b[0;34m'lbfgs'\u001b[0m\u001b[0;34m,\u001b[0m \u001b[0mmax_iter\u001b[0m\u001b[0;34m=\u001b[0m\u001b[0;36m1000\u001b[0m\u001b[0;34m,\u001b[0m \u001b[0mrandom_state\u001b[0m\u001b[0;34m=\u001b[0m \u001b[0;36m2\u001b[0m\u001b[0;34m)\u001b[0m\u001b[0;34m\u001b[0m\u001b[0;34m\u001b[0m\u001b[0m\n\u001b[0;32m----> 4\u001b[0;31m \u001b[0mbaseline\u001b[0m\u001b[0;34m.\u001b[0m\u001b[0mfit\u001b[0m\u001b[0;34m(\u001b[0m\u001b[0mX_train_v\u001b[0m\u001b[0;34m,\u001b[0m \u001b[0my_train_v\u001b[0m\u001b[0;34m)\u001b[0m\u001b[0;34m\u001b[0m\u001b[0;34m\u001b[0m\u001b[0m\n\u001b[0m",
      "\u001b[0;32m/usr/local/anaconda3/lib/python3.7/site-packages/sklearn/linear_model/logistic.py\u001b[0m in \u001b[0;36mfit\u001b[0;34m(self, X, y, sample_weight)\u001b[0m\n\u001b[1;32m   1530\u001b[0m \u001b[0;34m\u001b[0m\u001b[0m\n\u001b[1;32m   1531\u001b[0m         X, y = check_X_y(X, y, accept_sparse='csr', dtype=_dtype, order=\"C\",\n\u001b[0;32m-> 1532\u001b[0;31m                          accept_large_sparse=solver != 'liblinear')\n\u001b[0m\u001b[1;32m   1533\u001b[0m         \u001b[0mcheck_classification_targets\u001b[0m\u001b[0;34m(\u001b[0m\u001b[0my\u001b[0m\u001b[0;34m)\u001b[0m\u001b[0;34m\u001b[0m\u001b[0;34m\u001b[0m\u001b[0m\n\u001b[1;32m   1534\u001b[0m         \u001b[0mself\u001b[0m\u001b[0;34m.\u001b[0m\u001b[0mclasses_\u001b[0m \u001b[0;34m=\u001b[0m \u001b[0mnp\u001b[0m\u001b[0;34m.\u001b[0m\u001b[0munique\u001b[0m\u001b[0;34m(\u001b[0m\u001b[0my\u001b[0m\u001b[0;34m)\u001b[0m\u001b[0;34m\u001b[0m\u001b[0;34m\u001b[0m\u001b[0m\n",
      "\u001b[0;32m/usr/local/anaconda3/lib/python3.7/site-packages/sklearn/utils/validation.py\u001b[0m in \u001b[0;36mcheck_X_y\u001b[0;34m(X, y, accept_sparse, accept_large_sparse, dtype, order, copy, force_all_finite, ensure_2d, allow_nd, multi_output, ensure_min_samples, ensure_min_features, y_numeric, warn_on_dtype, estimator)\u001b[0m\n\u001b[1;32m    717\u001b[0m                     \u001b[0mensure_min_features\u001b[0m\u001b[0;34m=\u001b[0m\u001b[0mensure_min_features\u001b[0m\u001b[0;34m,\u001b[0m\u001b[0;34m\u001b[0m\u001b[0;34m\u001b[0m\u001b[0m\n\u001b[1;32m    718\u001b[0m                     \u001b[0mwarn_on_dtype\u001b[0m\u001b[0;34m=\u001b[0m\u001b[0mwarn_on_dtype\u001b[0m\u001b[0;34m,\u001b[0m\u001b[0;34m\u001b[0m\u001b[0;34m\u001b[0m\u001b[0m\n\u001b[0;32m--> 719\u001b[0;31m                     estimator=estimator)\n\u001b[0m\u001b[1;32m    720\u001b[0m     \u001b[0;32mif\u001b[0m \u001b[0mmulti_output\u001b[0m\u001b[0;34m:\u001b[0m\u001b[0;34m\u001b[0m\u001b[0;34m\u001b[0m\u001b[0m\n\u001b[1;32m    721\u001b[0m         y = check_array(y, 'csr', force_all_finite=True, ensure_2d=False,\n",
      "\u001b[0;32m/usr/local/anaconda3/lib/python3.7/site-packages/sklearn/utils/validation.py\u001b[0m in \u001b[0;36mcheck_array\u001b[0;34m(array, accept_sparse, accept_large_sparse, dtype, order, copy, force_all_finite, ensure_2d, allow_nd, ensure_min_samples, ensure_min_features, warn_on_dtype, estimator)\u001b[0m\n\u001b[1;32m    494\u001b[0m             \u001b[0;32mtry\u001b[0m\u001b[0;34m:\u001b[0m\u001b[0;34m\u001b[0m\u001b[0;34m\u001b[0m\u001b[0m\n\u001b[1;32m    495\u001b[0m                 \u001b[0mwarnings\u001b[0m\u001b[0;34m.\u001b[0m\u001b[0msimplefilter\u001b[0m\u001b[0;34m(\u001b[0m\u001b[0;34m'error'\u001b[0m\u001b[0;34m,\u001b[0m \u001b[0mComplexWarning\u001b[0m\u001b[0;34m)\u001b[0m\u001b[0;34m\u001b[0m\u001b[0;34m\u001b[0m\u001b[0m\n\u001b[0;32m--> 496\u001b[0;31m                 \u001b[0marray\u001b[0m \u001b[0;34m=\u001b[0m \u001b[0mnp\u001b[0m\u001b[0;34m.\u001b[0m\u001b[0masarray\u001b[0m\u001b[0;34m(\u001b[0m\u001b[0marray\u001b[0m\u001b[0;34m,\u001b[0m \u001b[0mdtype\u001b[0m\u001b[0;34m=\u001b[0m\u001b[0mdtype\u001b[0m\u001b[0;34m,\u001b[0m \u001b[0morder\u001b[0m\u001b[0;34m=\u001b[0m\u001b[0morder\u001b[0m\u001b[0;34m)\u001b[0m\u001b[0;34m\u001b[0m\u001b[0;34m\u001b[0m\u001b[0m\n\u001b[0m\u001b[1;32m    497\u001b[0m             \u001b[0;32mexcept\u001b[0m \u001b[0mComplexWarning\u001b[0m\u001b[0;34m:\u001b[0m\u001b[0;34m\u001b[0m\u001b[0;34m\u001b[0m\u001b[0m\n\u001b[1;32m    498\u001b[0m                 raise ValueError(\"Complex data not supported\\n\"\n",
      "\u001b[0;32m/usr/local/anaconda3/lib/python3.7/site-packages/numpy/core/_asarray.py\u001b[0m in \u001b[0;36masarray\u001b[0;34m(a, dtype, order)\u001b[0m\n\u001b[1;32m     83\u001b[0m \u001b[0;34m\u001b[0m\u001b[0m\n\u001b[1;32m     84\u001b[0m     \"\"\"\n\u001b[0;32m---> 85\u001b[0;31m     \u001b[0;32mreturn\u001b[0m \u001b[0marray\u001b[0m\u001b[0;34m(\u001b[0m\u001b[0ma\u001b[0m\u001b[0;34m,\u001b[0m \u001b[0mdtype\u001b[0m\u001b[0;34m,\u001b[0m \u001b[0mcopy\u001b[0m\u001b[0;34m=\u001b[0m\u001b[0;32mFalse\u001b[0m\u001b[0;34m,\u001b[0m \u001b[0morder\u001b[0m\u001b[0;34m=\u001b[0m\u001b[0morder\u001b[0m\u001b[0;34m)\u001b[0m\u001b[0;34m\u001b[0m\u001b[0;34m\u001b[0m\u001b[0m\n\u001b[0m\u001b[1;32m     86\u001b[0m \u001b[0;34m\u001b[0m\u001b[0m\n\u001b[1;32m     87\u001b[0m \u001b[0;34m\u001b[0m\u001b[0m\n",
      "\u001b[0;31mValueError\u001b[0m: could not convert string to float: 'communal standpipe'"
     ]
    }
   ],
   "source": [
    "from sklearn.linear_model import LogisticRegression\n",
    "#instantiate the model \n",
    "baseline = LogisticRegression(solver='lbfgs', max_iter=1000, random_state= 2)\n",
    "baseline.fit(X_train_v, y_train_v)\n"
   ]
  },
  {
   "cell_type": "code",
   "execution_count": null,
   "metadata": {},
   "outputs": [],
   "source": [
    "#From our logistic regression model, we are going to measure the ROC_AUC\n",
    "from sklearn.metrics import accuracy_score, roc_auc_score, roc_curve, auc\n",
    "\n",
    "# Calculate the probability scores of each point in the training set\n",
    "y_train_probs = baseline.predict_proba(X_train_v)[:,1] #probability prediction\n",
    "\n",
    "\n",
    "# Calculate the fpr, tpr, and thresholds for the training set\n",
    "train_fpr, train_tpr, thresholds = roc_curve(y_train_v, y_train_probs)\n",
    "\n",
    "# Calculate the probability scores of each point in the test set\n",
    "y_val_probs = baseline.predict_proba(X_val)[:,1]\n",
    "\n",
    "# Calculate the fpr, tpr, and thresholds for the test set\n",
    "val_fpr, val_tpr, val_thresholds = roc_curve(y_val, y_val_probs)"
   ]
  },
  {
   "cell_type": "code",
   "execution_count": null,
   "metadata": {},
   "outputs": [],
   "source": [
    "roc_auc_score(y_train_v, y_train_probs) #area for the score of the train data"
   ]
  },
  {
   "cell_type": "code",
   "execution_count": null,
   "metadata": {},
   "outputs": [],
   "source": [
    "roc_auc_score(y_val, y_val_probs) #area for the score of the validation data\n"
   ]
  },
  {
   "cell_type": "code",
   "execution_count": null,
   "metadata": {
    "scrolled": true
   },
   "outputs": [],
   "source": [
    "import matplotlib.pyplot as plt\n",
    "%matplotlib inline\n",
    "fpr,tpr,thr = roc_curve(y_train,y_train_probs)\n",
    "plt.plot(fpr,tpr)\n",
    "print(auc(fpr,tpr))"
   ]
  },
  {
   "cell_type": "code",
   "execution_count": null,
   "metadata": {},
   "outputs": [],
   "source": [
    "\n",
    "plt.figure(figsize=(10, 8))\n",
    "lw = 2\n",
    "plt.plot(train_fpr, train_tpr, color='darkorange',\n",
    "         lw=lw, label='ROC curve')\n",
    "plt.plot([0, 1], [0, 1], color='navy', lw=lw, linestyle='--')\n",
    "plt.xlim([0.0, 1.0])\n",
    "plt.ylim([0.0, 1.05])\n",
    "plt.yticks([i/20.0 for i in range(21)])\n",
    "plt.xticks([i/20.0 for i in range(21)])\n",
    "plt.xlabel('False Positive Rate')\n",
    "plt.ylabel('True Positive Rate')\n",
    "plt.title('Receiver operating characteristic (ROC) Curve for Training Set')\n",
    "plt.legend(loc='lower right')\n",
    "print('Training AUC: {}'.format(auc(train_fpr, train_tpr)))\n",
    "plt.show()"
   ]
  },
  {
   "cell_type": "code",
   "execution_count": null,
   "metadata": {},
   "outputs": [],
   "source": [
    "#using this from our hyperparameter lecture to make things a lot faster for visualisation on best models\n",
    "from sklearn.metrics import roc_auc_score\n",
    "def scores(model,X_train,X_val,y_train,y_val):\n",
    "    train_prob = model.predict_proba(X_train)[:,1]\n",
    "    val_prob = model.predict_proba(X_val)[:,1]\n",
    "    train = roc_auc_score(y_train,train_prob)\n",
    "    val = roc_auc_score(y_val,val_prob)\n",
    "    print('train:',round(train,2),'validation:',round(val,2))"
   ]
  },
  {
   "cell_type": "code",
   "execution_count": null,
   "metadata": {},
   "outputs": [],
   "source": [
    "def annot(fpr,tpr,thr):\n",
    "    k=0\n",
    "    for i,j in zip(fpr,tpr):\n",
    "        if k %50 == 0:\n",
    "            plt.annotate(round(thr[k],2),xy=(i,j), textcoords='data')\n",
    "        k+=1"
   ]
  },
  {
   "cell_type": "code",
   "execution_count": null,
   "metadata": {},
   "outputs": [],
   "source": [
    "from sklearn.metrics import roc_curve\n",
    "def roc_plot(model,X_train,y_train,X_val,y_val):\n",
    "    train_prob = model.predict_proba(X_train)[:,1]\n",
    "    val_prob = model.predict_proba(X_val)[:,1]\n",
    "    plt.figure(figsize=(7,7))\n",
    "    for data in [[y_train, train_prob],[y_val, val_prob]]: # ,[y_test, test_prob]\n",
    "        fpr, tpr, threshold = roc_curve(data[0], data[1])\n",
    "        plt.plot(fpr, tpr)\n",
    "    annot(fpr, tpr, threshold)\n",
    "    plt.plot([0, 1], [0, 1], color='navy', linestyle='--')\n",
    "    plt.ylabel('TPR (power)')\n",
    "    plt.xlabel('FPR (alpha)')\n",
    "    plt.legend(['train','val'])\n",
    "    plt.show()"
   ]
  },
  {
   "cell_type": "code",
   "execution_count": null,
   "metadata": {},
   "outputs": [],
   "source": [
    "def opt_plots(opt_model):\n",
    "    opt = pd.DataFrame(opt_model.cv_results_)\n",
    "    cols = [col for col in opt.columns if ('mean' in col or 'std' in col) and 'time' not in col]\n",
    "    params = pd.DataFrame(list(opt.params))\n",
    "    opt = pd.concat([params,opt[cols]],axis=1,sort=False)\n",
    "    \n",
    "    plt.figure(figsize=[15,4])\n",
    "    plt.subplot(121)\n",
    "    sns.heatmap(pd.pivot_table(opt,index='max_depth',columns='min_samples_leaf',values='mean_train_score')*100)\n",
    "    plt.title('ROC_AUC - Training')\n",
    "    plt.subplot(122)\n",
    "    sns.heatmap(pd.pivot_table(opt,index='max_depth',columns='min_samples_leaf',values='mean_test_score')*100)\n",
    "    plt.title('ROC_AUC - Validation')\n",
    "#     return opt"
   ]
  },
  {
   "cell_type": "markdown",
   "metadata": {},
   "source": [
    "# Logistic Regression, Learner 1"
   ]
  },
  {
   "cell_type": "code",
   "execution_count": null,
   "metadata": {},
   "outputs": [],
   "source": [
    "learner1 = LogisticRegression(penalty='l1', solver='liblinear', max_iter = 1000, random_state=0)\n",
    "learner1.fit(X_train, y_train)"
   ]
  },
  {
   "cell_type": "code",
   "execution_count": null,
   "metadata": {},
   "outputs": [],
   "source": [
    "#train and validation curve without gridsearch on learner1\n",
    "scores(learner1,X_train,X_val,y_train,y_val)\n",
    "roc_plot(learner1,X_train,y_train,X_val,y_val)"
   ]
  },
  {
   "cell_type": "markdown",
   "metadata": {},
   "source": [
    "Next step is to make a parameter that will likely be passed into gridsearchCV, this is an important step. I tried putting defaults rather than multiple values into my param grid and it resulted in gridsearch failing to pick the optimum. Instead it went for the defaults I plugged in."
   ]
  },
  {
   "cell_type": "code",
   "execution_count": null,
   "metadata": {},
   "outputs": [],
   "source": [
    "import seaborn as sns \n",
    "from sklearn.model_selection import GridSearchCV,StratifiedKFold"
   ]
  },
  {
   "cell_type": "code",
   "execution_count": null,
   "metadata": {},
   "outputs": [],
   "source": [
    "#in order to perform a gridsearch i need to first identify our grid of parameters then perform a grid search \n",
    "#penalty = ['l1', 'l2']\n",
    "C = [.001,.01,.1,1,100,1000]\n",
    "#class_weight = [{1:.5, 0:.5},{1:.4, 0:.6}, {1:.6,0:.4}, {1:.7, 0:.3}]\n",
    "solver = ['saga'] #liblinear is good for small datasets whereas saga is good for large\n",
    "#add gridsearchCV\n",
    "skf = StratifiedKFold(n_splits=3, shuffle=True, random_state=42)\n",
    "param_grid_l1 = dict(C=C, solver=solver)\n",
    "opt_model= GridSearchCV(estimator=learner1, param_grid=param_grid_l1,cv=skf, scoring='roc_auc', verbose=1)\n",
    "\n",
    "opt_model.fit(X_train, y_train)\n",
    "best_model = opt_model.best_estimator_\n",
    "#scores(best_model,X_train,X_val,y_train,y_val)\n",
    "print(opt_model.best_params_)\n",
    "print(opt_model.best_score_)\n"
   ]
  },
  {
   "cell_type": "code",
   "execution_count": null,
   "metadata": {},
   "outputs": [],
   "source": [
    "print('Best Score:', opt_model.best_score_)\n",
    "print('Best Parameters:',opt_model.best_params_ )"
   ]
  },
  {
   "cell_type": "code",
   "execution_count": null,
   "metadata": {},
   "outputs": [],
   "source": [
    "grid_result_val = opt_model.fit(X_val, y_val)\n",
    "print('Best Score:', opt_model.best_score_)\n",
    "print('Best Parameters:', opt_model.best_params_)"
   ]
  },
  {
   "cell_type": "code",
   "execution_count": null,
   "metadata": {
    "scrolled": true
   },
   "outputs": [],
   "source": [
    "print(opt_model.best_params_)\n"
   ]
  },
  {
   "cell_type": "code",
   "execution_count": null,
   "metadata": {},
   "outputs": [],
   "source": [
    "# Calculate the prediction \n",
    "y_train_probs = learner1.predict_proba(X_train_v)[:,1] #probability prediction\n",
    "\n",
    "# Calculate the fpr, tpr, and thresholds for the training set\n",
    "train_fpr, train_tpr, thresholds = roc_curve(y_train_v, y_train_probs)\n",
    "\n",
    "# Calculate the probability scores of each point in the test set\n",
    "y_val_probs = learner1.predict_proba(X_val)[:,1]\n",
    "\n",
    "# Calculate the fpr, tpr, and thresholds for the test set\n",
    "val_fpr, val_tpr, val_thresholds = roc_curve(y_val, y_val_probs)"
   ]
  },
  {
   "cell_type": "code",
   "execution_count": null,
   "metadata": {},
   "outputs": [],
   "source": [
    "#training accuracy and roc model\n",
    "#print(\"Accuracy score:\", accuracy_score(y_train_v, y_train_probs))\n",
    "print(\"ROC model:\", roc_curve(y_train_v, y_train_probs))"
   ]
  },
  {
   "cell_type": "code",
   "execution_count": null,
   "metadata": {},
   "outputs": [],
   "source": [
    "import matplotlib.pyplot as plt\n",
    "import seaborn as sns\n",
    "%matplotlib inline\n",
    "\n",
    "# Seaborn's beautiful styling\n",
    "sns.set_style('darkgrid', {'axes.facecolor': '0.9'})\n",
    "\n",
    "# ROC curve for training set\n",
    "plt.figure(figsize=(10, 8))\n",
    "lw = 2\n",
    "plt.plot(train_fpr, train_tpr, color='darkorange',\n",
    "         lw=lw, label='ROC curve')\n",
    "plt.plot([0, 1], [0, 1], color='navy', lw=lw, linestyle='--')\n",
    "plt.xlim([0.0, 1.0])\n",
    "plt.ylim([0.0, 1.05])\n",
    "plt.yticks([i/20.0 for i in range(21)])\n",
    "plt.xticks([i/20.0 for i in range(21)])\n",
    "plt.xlabel('False Positive Rate')\n",
    "plt.ylabel('True Positive Rate')\n",
    "plt.title('Receiver operating characteristic (ROC) Curve for Training Set')\n",
    "plt.legend(loc='lower right')\n",
    "print('Training AUC: {}'.format(auc(train_fpr, train_tpr)))\n",
    "plt.show()"
   ]
  },
  {
   "cell_type": "code",
   "execution_count": null,
   "metadata": {},
   "outputs": [],
   "source": [
    "#validation roc_model and accuracy score\n",
    "y_val_probs = learner1.predict_proba(X_val)[:,1]\n",
    "#print(\"Accuracy score:\", accuracy_score(y_val, y_val_probs))\n",
    "print(\"ROC model:\", roc_curve(y_val, y_val_probs))\n",
    "print(\"TPR:\", tpr)\n",
    "print(\"FPR:\", fpr)"
   ]
  },
  {
   "cell_type": "code",
   "execution_count": null,
   "metadata": {},
   "outputs": [],
   "source": [
    "#calculate fm score, need to consider the cost of our mistakes in our threshold selection\n",
    "fm = "
   ]
  },
  {
   "cell_type": "code",
   "execution_count": null,
   "metadata": {},
   "outputs": [],
   "source": [
    "#printing the validation set insights\n",
    "sns.set_style('darkgrid', {'axes.facecolor': '0.9'})\n",
    "\n",
    "# ROC curve for training set\n",
    "plt.figure(figsize=(10, 8))\n",
    "lw = 2\n",
    "plt.plot(val_fpr, val_tpr, color='darkorange',\n",
    "         lw=lw, label='ROC curve')\n",
    "plt.plot([0, 1], [0, 1], color='navy', lw=lw, linestyle='--')\n",
    "plt.xlim([0.0, 1.0])\n",
    "plt.ylim([0.0, 1.05])\n",
    "plt.yticks([i/20.0 for i in range(21)])\n",
    "plt.xticks([i/20.0 for i in range(21)])\n",
    "plt.xlabel('False Positive Rate')\n",
    "plt.ylabel('True Positive Rate')\n",
    "plt.title('Receiver operating characteristic (ROC) Curve for Validation Set')\n",
    "plt.legend(loc='lower right')\n",
    "print('Validation AUC: {}'.format(auc(val_fpr, val_tpr)))\n",
    "plt.show()"
   ]
  },
  {
   "cell_type": "code",
   "execution_count": null,
   "metadata": {},
   "outputs": [],
   "source": [
    "#"
   ]
  },
  {
   "cell_type": "markdown",
   "metadata": {},
   "source": [
    "# DecisionTrees, Learner 2"
   ]
  },
  {
   "cell_type": "code",
   "execution_count": null,
   "metadata": {},
   "outputs": [],
   "source": [
    "from sklearn.tree import DecisionTreeClassifier\n",
    "learner2 = DecisionTreeClassifier(max_iter =1000, random_state=42)\n",
    "learner2.fit(X_train,y_train)"
   ]
  },
  {
   "cell_type": "code",
   "execution_count": null,
   "metadata": {},
   "outputs": [],
   "source": [
    "#add gridsearch"
   ]
  },
  {
   "cell_type": "markdown",
   "metadata": {},
   "source": [
    "Here I am taking in my second learner model. It is a decision tree classifier."
   ]
  },
  {
   "cell_type": "code",
   "execution_count": null,
   "metadata": {},
   "outputs": [],
   "source": [
    "y_train_probs_dt = learner2.predict_proba(X_train)[:,1] #probability prediction\n",
    "\n",
    "# Calculate the fpr, tpr, and thresholds for the training set\n",
    "train_fpr, train_tpr, thresholds = roc_curve(y_train_v, y_train_probs_dt)\n",
    "\n",
    "# Calculate the probability scores of each point in the test set\n",
    "y_val_probs_dt = learner2.predict_proba(X_val)[:,1]\n",
    "\n",
    "# Calculate the fpr, tpr, and thresholds for the test set\n",
    "val_fpr, val_tpr, val_thresholds = roc_curve(y_val, y_val_probs_dt)\n",
    "print(auc(fpr, tpr))"
   ]
  },
  {
   "cell_type": "code",
   "execution_count": null,
   "metadata": {},
   "outputs": [],
   "source": [
    "#Validation set\n",
    "print(\"Accuracy score:\", accuracy_score(y_val, y_val_probs_dt))\n",
    "print(\"ROC model:\", roc_curve(y_val, y_val_probs_dt))"
   ]
  },
  {
   "cell_type": "code",
   "execution_count": null,
   "metadata": {},
   "outputs": [],
   "source": [
    "# ROC curve for training set\n",
    "plt.figure(figsize=(10, 8))\n",
    "lw = 2\n",
    "plt.plot(train_fpr, train_tpr, color='darkorange',\n",
    "         lw=lw, label='ROC curve')\n",
    "plt.plot([0, 1], [0, 1], color='navy', lw=lw, linestyle='--')\n",
    "plt.xlim([0.0, 1.0])\n",
    "plt.ylim([0.0, 1.05])\n",
    "plt.yticks([i/20.0 for i in range(21)])\n",
    "plt.xticks([i/20.0 for i in range(21)])\n",
    "plt.xlabel('False Positive Rate')\n",
    "plt.ylabel('True Positive Rate')\n",
    "plt.title('Receiver operating characteristic (ROC) Curve for Training Set')\n",
    "plt.legend(loc='lower right')\n",
    "print('Training AUC: {}'.format(auc(train_fpr, train_tpr)))\n",
    "plt.show()"
   ]
  },
  {
   "cell_type": "code",
   "execution_count": null,
   "metadata": {},
   "outputs": [],
   "source": [
    "#did not have time to do a gridsearch here"
   ]
  },
  {
   "cell_type": "code",
   "execution_count": null,
   "metadata": {},
   "outputs": [],
   "source": []
  },
  {
   "cell_type": "markdown",
   "metadata": {},
   "source": [
    "# Learner 3: XGBoost"
   ]
  },
  {
   "cell_type": "code",
   "execution_count": null,
   "metadata": {},
   "outputs": [],
   "source": [
    "import xgboost as xgb\n",
    "import numpy as np\n",
    "import matplotlib.pyplot as plt\n",
    "from sklearn.preprocessing import StandardScaler\n",
    "from sklearn.model_selection import GridSearchCV\n",
    "from sklearn.externals.joblib import parallel_backend\n",
    "import warnings\n",
    "warnings.filterwarnings('ignore')\n",
    "%matplotlib inline"
   ]
  },
  {
   "cell_type": "code",
   "execution_count": null,
   "metadata": {},
   "outputs": [],
   "source": [
    "#small_data = data.sample(frac=0.1, replace=True, random_state=1)\n",
    "X_trainv_small, x_val_small, y_trainv_small, y_val_small = train_test_split(X_train_v, y_train_v, test_size=.2, random_state=1)\n",
    "\n",
    "#y_val = y_val['functional']\n",
    "#y_train = y_train['functional']\n",
    "#y_train_v = y_train_v['functional']\n"
   ]
  },
  {
   "cell_type": "code",
   "execution_count": null,
   "metadata": {},
   "outputs": [],
   "source": [
    "# scaler = StandardScaler()\n",
    "# x_trainv_scaled = scaler.fit_transform(X_train_v)[:,1]\n"
   ]
  },
  {
   "cell_type": "code",
   "execution_count": null,
   "metadata": {
    "scrolled": true
   },
   "outputs": [],
   "source": [
    "X_trainv_small.shape"
   ]
  },
  {
   "cell_type": "code",
   "execution_count": null,
   "metadata": {},
   "outputs": [],
   "source": [
    "y_trainv_small.shape"
   ]
  },
  {
   "cell_type": "code",
   "execution_count": null,
   "metadata": {},
   "outputs": [],
   "source": [
    "#there is about 50k+ i need to make my gridsearchCV quick and easy to run so \n",
    "#i will take a sample from my x_train_v\n",
    "# x_sample_train_v,y_sample_train_v, x_sample, y_sample = train_test_split(X_train_v, y_train_v, test_size=.7, random_state=1)\n",
    "# y_sample_train_v = y_sample['functional']\n",
    "# y_sample = y_sample['functional']\n",
    "\n"
   ]
  },
  {
   "cell_type": "code",
   "execution_count": null,
   "metadata": {},
   "outputs": [],
   "source": [
    "learner3 = xgb.XGBClassifier(max_iter=1000,random_state=0)\n",
    "learner3.fit(X_trainv_small, y_trainv_small)\n",
    "training_probs = learner3.predict_proba(X_trainv_small)[:,1]\n",
    "roc_training_auc = roc_auc_score(y_trainv_small, training_preds)\n",
    "\n",
    "print(\"Training ROC Auc: {:.4}%\".format(roc_training_auc * 100))\n"
   ]
  },
  {
   "cell_type": "code",
   "execution_count": null,
   "metadata": {},
   "outputs": [],
   "source": [
    "type(xgb)"
   ]
  },
  {
   "cell_type": "code",
   "execution_count": null,
   "metadata": {},
   "outputs": [],
   "source": [
    "#time for hyper parameter optimisation on XGBoost\n",
    "#lets start with a paramgrid\n",
    "param_grid_l3 = {\n",
    "    \"learning_rate\": [100],\n",
    "    'max_depth': [5,10],\n",
    "    'min_child_weight': [5,10],\n",
    "    'n_estimators': [30, 100],\n",
    "}"
   ]
  },
  {
   "cell_type": "code",
   "execution_count": null,
   "metadata": {},
   "outputs": [],
   "source": [
    "# grid_scv = GridSearchCV(learner3, param_grid_l3, scoring='accuracy')\n",
    "grid_scv = GridSearchCV(estimator=learner3, param_grid=param_grid_l3,cv=skf, scoring='roc_auc', verbose=1)\n",
    "grid_scv.fit(x_val_small, y_val_small)\n",
    "\n",
    "best_model = grid_scv.best_estimator_\n",
    "print(grid_scv.best_params_)\n",
    "print(grid_scv.best_score_)\n",
    "\n",
    "best_parameters = grid_scv.best_params_"
   ]
  },
  {
   "cell_type": "code",
   "execution_count": null,
   "metadata": {
    "scrolled": true
   },
   "outputs": [],
   "source": [
    "print(\"Grid Search found the following optimal parameters: \")\n",
    "for param_name in sorted(best_parameters.keys()):\n",
    "    print(\"%s: %r\" % (param_name, best_parameters[param_name]))\n",
    "\n",
    "training_preds = grid_scv.predict(X_train)\n",
    "training_accuracy = accuracy_score(y_train, training_preds)\n",
    "val_preds = grid_scv.predict(X_test)\n",
    "val_accuracy = accuracy_score(y_test, val_preds)\n",
    "\n",
    "print(\"\")\n",
    "print(\"Training Accuracy: {:.4}%\".format(training_accuracy * 100))\n",
    "print(\"Validation accuracy: {:.4}%\".format(val_accuracy * 100))"
   ]
  },
  {
   "cell_type": "code",
   "execution_count": null,
   "metadata": {},
   "outputs": [],
   "source": []
  },
  {
   "cell_type": "code",
   "execution_count": null,
   "metadata": {},
   "outputs": [],
   "source": []
  }
 ],
 "metadata": {
  "kernelspec": {
   "display_name": "Python 3",
   "language": "python",
   "name": "python3"
  },
  "language_info": {
   "codemirror_mode": {
    "name": "ipython",
    "version": 3
   },
   "file_extension": ".py",
   "mimetype": "text/x-python",
   "name": "python",
   "nbconvert_exporter": "python",
   "pygments_lexer": "ipython3",
   "version": "3.7.4"
  }
 },
 "nbformat": 4,
 "nbformat_minor": 4
}
